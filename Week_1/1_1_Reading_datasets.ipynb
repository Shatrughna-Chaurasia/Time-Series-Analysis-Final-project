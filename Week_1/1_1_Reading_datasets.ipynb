{
 "cells": [
  {
   "cell_type": "code",
   "execution_count": 17,
   "id": "4660018a-5d90-4eca-8951-edc66f1c86c5",
   "metadata": {
    "colab": {
     "base_uri": "https://localhost:8080/"
    },
    "id": "4660018a-5d90-4eca-8951-edc66f1c86c5",
    "outputId": "afcf5d37-6311-452a-a130-0597c4d0c252"
   },
   "outputs": [],
   "source": [
    "\n",
    "!pip install pandas --quiet"
   ]
  },
  {
   "cell_type": "markdown",
   "id": "897f0066-a7fa-4f2a-a0e6-f93a1ba92384",
   "metadata": {
    "id": "897f0066-a7fa-4f2a-a0e6-f93a1ba92384"
   },
   "source": [
    "\n",
    "## *Reading Time Series Data from Files*, \n",
    "\n",
    "This notebook is an introduction to time series data. This file shows you how to read data from various and commonly used file\n",
    "types, whether stored locally or on the cloud. The techniques will highlight advanced options\n",
    "for ingesting, preparing, and transforming data into a time series DataFrame for\n",
    "later analysis.  \n",
    "\n",
    "We will cover the following Methods on how to ingest data into a pandas DataFrame:\n",
    "* Reading data from CSVs and other delimited files\n",
    "* Reading data from an Excel file\n",
    "* Reading data from URLs\n"
   ]
  },
  {
   "cell_type": "markdown",
   "id": "cc1f3dac-5f42-4c0d-ae98-80dafb21bc25",
   "metadata": {
    "id": "cc1f3dac-5f42-4c0d-ae98-80dafb21bc25"
   },
   "source": [
    "# Method 1: Reading from CSVs and Other Delimited Files\n",
    "In this Method, you will use the `pandas.read_csv()` function, which offers a large set\n",
    "of parameters that you will explore to ensure the data is properly read into a time series\n",
    "DataFrame. In addition, you will learn how to specify an index column, parse the index\n",
    "to be of the type `DatetimeIndex`, and parse string columns that contain dates into\n",
    "datetime objects.\n",
    "\n",
    "[Official Documentation of pandas.read_csv](https://pandas.pydata.org/docs/reference/api/pandas.read_csv.html)"
   ]
  },
  {
   "cell_type": "code",
   "execution_count": 12,
   "id": "0ecc3461-43e2-4c09-945c-033f8eff4342",
   "metadata": {
    "colab": {
     "base_uri": "https://localhost:8080/",
     "height": 35
    },
    "id": "0ecc3461-43e2-4c09-945c-033f8eff4342",
    "outputId": "4f0a186a-0dc5-4ead-ddce-7044990e7afb"
   },
   "outputs": [
    {
     "data": {
      "text/plain": [
       "'1.4.2'"
      ]
     },
     "execution_count": 12,
     "metadata": {},
     "output_type": "execute_result"
    }
   ],
   "source": [
    "import pandas as pd\n",
    "from pathlib import Path\n",
    "pd.__version__"
   ]
  },
  {
   "cell_type": "code",
   "execution_count": 13,
   "id": "ffcaab98-7d62-4f82-97ed-85f8c1d8b820",
   "metadata": {
    "id": "ffcaab98-7d62-4f82-97ed-85f8c1d8b820"
   },
   "outputs": [],
   "source": [
    "filepath = Path('./movieboxoffice.csv')\n",
    "\n",
    "# the 'movieboxoffice.csv' should be in the same directory as this notebook file for the above to work, else specify the correct path as per your directory structure"
   ]
  },
  {
   "cell_type": "code",
   "execution_count": 21,
   "id": "aa33d6f8-d21d-4c67-9231-97593196306d",
   "metadata": {
    "colab": {
     "base_uri": "https://localhost:8080/",
     "height": 237
    },
    "id": "aa33d6f8-d21d-4c67-9231-97593196306d",
    "outputId": "f6f92c17-4421-403c-9dce-69db6805ae62"
   },
   "outputs": [
    {
     "data": {
      "text/html": [
       "<div>\n",
       "<style scoped>\n",
       "    .dataframe tbody tr th:only-of-type {\n",
       "        vertical-align: middle;\n",
       "    }\n",
       "\n",
       "    .dataframe tbody tr th {\n",
       "        vertical-align: top;\n",
       "    }\n",
       "\n",
       "    .dataframe thead th {\n",
       "        text-align: right;\n",
       "    }\n",
       "</style>\n",
       "<table border=\"1\" class=\"dataframe\">\n",
       "  <thead>\n",
       "    <tr style=\"text-align: right;\">\n",
       "      <th></th>\n",
       "      <th>DOW</th>\n",
       "      <th>Daily</th>\n",
       "      <th>Forecast</th>\n",
       "      <th>Percent Diff</th>\n",
       "    </tr>\n",
       "    <tr>\n",
       "      <th>Date</th>\n",
       "      <th></th>\n",
       "      <th></th>\n",
       "      <th></th>\n",
       "      <th></th>\n",
       "    </tr>\n",
       "  </thead>\n",
       "  <tbody>\n",
       "    <tr>\n",
       "      <th>2021-04-26</th>\n",
       "      <td>Friday</td>\n",
       "      <td>$125,789.89</td>\n",
       "      <td>$235,036.46</td>\n",
       "      <td>-46.48%</td>\n",
       "    </tr>\n",
       "    <tr>\n",
       "      <th>2021-04-27</th>\n",
       "      <td>Saturday</td>\n",
       "      <td>$99,374.01</td>\n",
       "      <td>$197,622.55</td>\n",
       "      <td>-49.72%</td>\n",
       "    </tr>\n",
       "    <tr>\n",
       "      <th>2021-04-28</th>\n",
       "      <td>Sunday</td>\n",
       "      <td>$82,203.16</td>\n",
       "      <td>$116,991.26</td>\n",
       "      <td>-29.74%</td>\n",
       "    </tr>\n",
       "    <tr>\n",
       "      <th>2021-04-29</th>\n",
       "      <td>Monday</td>\n",
       "      <td>$33,530.26</td>\n",
       "      <td>$66,652.65</td>\n",
       "      <td>-49.69%</td>\n",
       "    </tr>\n",
       "    <tr>\n",
       "      <th>2021-04-30</th>\n",
       "      <td>Tuesday</td>\n",
       "      <td>$30,105.24</td>\n",
       "      <td>$34,828.19</td>\n",
       "      <td>-13.56%</td>\n",
       "    </tr>\n",
       "  </tbody>\n",
       "</table>\n",
       "</div>"
      ],
      "text/plain": [
       "                 DOW          Daily       Forecast Percent Diff\n",
       "Date                                                           \n",
       "2021-04-26    Friday   $125,789.89    $235,036.46       -46.48%\n",
       "2021-04-27  Saturday    $99,374.01    $197,622.55       -49.72%\n",
       "2021-04-28    Sunday    $82,203.16    $116,991.26       -29.74%\n",
       "2021-04-29    Monday    $33,530.26     $66,652.65       -49.69%\n",
       "2021-04-30   Tuesday    $30,105.24     $34,828.19       -13.56%"
      ]
     },
     "execution_count": 21,
     "metadata": {},
     "output_type": "execute_result"
    }
   ],
   "source": [
    "ts = pd.read_csv(filepath, header=0, parse_dates=['Date'], index_col=0, usecols=['Date','DOW','Daily','Forecast','Percent Diff'])\n",
    "ts.head()"
   ]
  },
  {
   "cell_type": "markdown",
   "id": "6xurLn9vjw0c",
   "metadata": {
    "id": "6xurLn9vjw0c"
   },
   "source": [
    "The first column in the CSV file contains movie release dates, and it needs to\n",
    "be set as an index of type `DatetimeIndex` (`index_col=0` and `parse_\n",
    "dates=['Date']`). Specify which columns you want to include by providing a list\n",
    "of column names to `usecols`. The default behavior is that the first row includes the\n",
    "header (`header=0`).\n",
    "\n",
    "Print a summary of the `DataFrame` to check the index and column data types:"
   ]
  },
  {
   "cell_type": "code",
   "execution_count": 22,
   "id": "14b0182e-98be-4c79-8db9-2ed76a182813",
   "metadata": {
    "colab": {
     "base_uri": "https://localhost:8080/"
    },
    "id": "14b0182e-98be-4c79-8db9-2ed76a182813",
    "outputId": "9f00744d-11dd-4fc5-c972-1a2e48570b95"
   },
   "outputs": [
    {
     "name": "stdout",
     "output_type": "stream",
     "text": [
      "<class 'pandas.core.frame.DataFrame'>\n",
      "DatetimeIndex: 128 entries, 2021-04-26 to 2021-08-31\n",
      "Data columns (total 4 columns):\n",
      " #   Column        Non-Null Count  Dtype \n",
      "---  ------        --------------  ----- \n",
      " 0   DOW           128 non-null    object\n",
      " 1   Daily         128 non-null    object\n",
      " 2   Forecast      128 non-null    object\n",
      " 3   Percent Diff  128 non-null    object\n",
      "dtypes: object(4)\n",
      "memory usage: 5.0+ KB\n"
     ]
    }
   ],
   "source": [
    "ts.info()\n",
    "\n",
    "# notice the dtype of Daily and Forecast column entries. They should be numeric and not object, right?"
   ]
  },
  {
   "cell_type": "code",
   "execution_count": 23,
   "id": "275fb8e6",
   "metadata": {},
   "outputs": [
    {
     "data": {
      "text/html": [
       "<div>\n",
       "<style scoped>\n",
       "    .dataframe tbody tr th:only-of-type {\n",
       "        vertical-align: middle;\n",
       "    }\n",
       "\n",
       "    .dataframe tbody tr th {\n",
       "        vertical-align: top;\n",
       "    }\n",
       "\n",
       "    .dataframe thead th {\n",
       "        text-align: right;\n",
       "    }\n",
       "</style>\n",
       "<table border=\"1\" class=\"dataframe\">\n",
       "  <thead>\n",
       "    <tr style=\"text-align: right;\">\n",
       "      <th></th>\n",
       "      <th>DOW</th>\n",
       "      <th>Daily</th>\n",
       "      <th>Forecast</th>\n",
       "      <th>Percent Diff</th>\n",
       "    </tr>\n",
       "  </thead>\n",
       "  <tbody>\n",
       "    <tr>\n",
       "      <th>count</th>\n",
       "      <td>128</td>\n",
       "      <td>128</td>\n",
       "      <td>128</td>\n",
       "      <td>128</td>\n",
       "    </tr>\n",
       "    <tr>\n",
       "      <th>unique</th>\n",
       "      <td>7</td>\n",
       "      <td>123</td>\n",
       "      <td>124</td>\n",
       "      <td>128</td>\n",
       "    </tr>\n",
       "    <tr>\n",
       "      <th>top</th>\n",
       "      <td>Friday</td>\n",
       "      <td>$0.00</td>\n",
       "      <td>$0.00</td>\n",
       "      <td>-46.48%</td>\n",
       "    </tr>\n",
       "    <tr>\n",
       "      <th>freq</th>\n",
       "      <td>19</td>\n",
       "      <td>5</td>\n",
       "      <td>4</td>\n",
       "      <td>1</td>\n",
       "    </tr>\n",
       "  </tbody>\n",
       "</table>\n",
       "</div>"
      ],
      "text/plain": [
       "           DOW    Daily Forecast Percent Diff\n",
       "count      128      128      128          128\n",
       "unique       7      123      124          128\n",
       "top     Friday   $0.00    $0.00       -46.48%\n",
       "freq        19        5        4            1"
      ]
     },
     "execution_count": 23,
     "metadata": {},
     "output_type": "execute_result"
    }
   ],
   "source": [
    "ts.describe()"
   ]
  },
  {
   "cell_type": "markdown",
   "id": "07775018-5134-4ec4-ac7b-68b5634eb9ad",
   "metadata": {
    "id": "07775018-5134-4ec4-ac7b-68b5634eb9ad"
   },
   "source": [
    "## **Data Cleanup**\n",
    "* Notice that the `Date` column is now an `index` (not a `column`) of type\n",
    "`DatetimeIndex`. Additionally, both Daily and Forecast columns have the\n",
    "wrong `dtype inference`. \n",
    "* You would expect them to be of type `float`. The issue is\n",
    "due to the source CSV file containing dollar signs ($) and thousand separators (,)\n",
    "in both columns.\n",
    "* To fix this, you need to remove both the dollar sign ($) and thousand separators (,)\n",
    "or any non-numeric character. You can accomplish this using `str.replace()`,\n",
    "which can take a regular expression to remove all non-numeric characters but\n",
    "exclude the period (.) for the decimal place. \n",
    "Removing these characters does not convert the `dtype`, so you will need to \"cast\" those two columns as a `float dtype`\n",
    "using `.astype(float)`"
   ]
  },
  {
   "cell_type": "code",
   "execution_count": 24,
   "id": "df34d125-5ad8-41c2-a6c4-09145605891b",
   "metadata": {
    "id": "df34d125-5ad8-41c2-a6c4-09145605891b"
   },
   "outputs": [],
   "source": [
    "clean = lambda x: x.str.replace('[^\\d]', '', regex=True)                                                      \n",
    "c_df = ts[['Daily', 'Forecast']].apply(clean, axis=1)\n",
    "ts[['Daily', 'Forecast']] = c_df.astype(float)"
   ]
  },
  {
   "cell_type": "code",
   "execution_count": 25,
   "id": "ae90d0a0-02e4-4a48-8bed-2fea8d612252",
   "metadata": {
    "colab": {
     "base_uri": "https://localhost:8080/",
     "height": 237
    },
    "id": "ae90d0a0-02e4-4a48-8bed-2fea8d612252",
    "outputId": "62917589-6358-486f-ea6e-df13f6a4ee7e"
   },
   "outputs": [
    {
     "data": {
      "text/html": [
       "<div>\n",
       "<style scoped>\n",
       "    .dataframe tbody tr th:only-of-type {\n",
       "        vertical-align: middle;\n",
       "    }\n",
       "\n",
       "    .dataframe tbody tr th {\n",
       "        vertical-align: top;\n",
       "    }\n",
       "\n",
       "    .dataframe thead th {\n",
       "        text-align: right;\n",
       "    }\n",
       "</style>\n",
       "<table border=\"1\" class=\"dataframe\">\n",
       "  <thead>\n",
       "    <tr style=\"text-align: right;\">\n",
       "      <th></th>\n",
       "      <th>DOW</th>\n",
       "      <th>Daily</th>\n",
       "      <th>Forecast</th>\n",
       "      <th>Percent Diff</th>\n",
       "    </tr>\n",
       "    <tr>\n",
       "      <th>Date</th>\n",
       "      <th></th>\n",
       "      <th></th>\n",
       "      <th></th>\n",
       "      <th></th>\n",
       "    </tr>\n",
       "  </thead>\n",
       "  <tbody>\n",
       "    <tr>\n",
       "      <th>2021-04-26</th>\n",
       "      <td>Friday</td>\n",
       "      <td>12578989.0</td>\n",
       "      <td>23503646.0</td>\n",
       "      <td>-46.48%</td>\n",
       "    </tr>\n",
       "    <tr>\n",
       "      <th>2021-04-27</th>\n",
       "      <td>Saturday</td>\n",
       "      <td>9937401.0</td>\n",
       "      <td>19762255.0</td>\n",
       "      <td>-49.72%</td>\n",
       "    </tr>\n",
       "    <tr>\n",
       "      <th>2021-04-28</th>\n",
       "      <td>Sunday</td>\n",
       "      <td>8220316.0</td>\n",
       "      <td>11699126.0</td>\n",
       "      <td>-29.74%</td>\n",
       "    </tr>\n",
       "    <tr>\n",
       "      <th>2021-04-29</th>\n",
       "      <td>Monday</td>\n",
       "      <td>3353026.0</td>\n",
       "      <td>6665265.0</td>\n",
       "      <td>-49.69%</td>\n",
       "    </tr>\n",
       "    <tr>\n",
       "      <th>2021-04-30</th>\n",
       "      <td>Tuesday</td>\n",
       "      <td>3010524.0</td>\n",
       "      <td>3482819.0</td>\n",
       "      <td>-13.56%</td>\n",
       "    </tr>\n",
       "  </tbody>\n",
       "</table>\n",
       "</div>"
      ],
      "text/plain": [
       "                 DOW       Daily    Forecast Percent Diff\n",
       "Date                                                     \n",
       "2021-04-26    Friday  12578989.0  23503646.0      -46.48%\n",
       "2021-04-27  Saturday   9937401.0  19762255.0      -49.72%\n",
       "2021-04-28    Sunday   8220316.0  11699126.0      -29.74%\n",
       "2021-04-29    Monday   3353026.0   6665265.0      -49.69%\n",
       "2021-04-30   Tuesday   3010524.0   3482819.0      -13.56%"
      ]
     },
     "execution_count": 25,
     "metadata": {},
     "output_type": "execute_result"
    }
   ],
   "source": [
    "ts.head()"
   ]
  },
  {
   "cell_type": "code",
   "execution_count": 26,
   "id": "3fa8c60e-c65e-48af-b6f7-86644492d107",
   "metadata": {
    "colab": {
     "base_uri": "https://localhost:8080/"
    },
    "id": "3fa8c60e-c65e-48af-b6f7-86644492d107",
    "outputId": "a61ac224-6e21-4a5d-daf2-5888b7b4a718"
   },
   "outputs": [
    {
     "name": "stdout",
     "output_type": "stream",
     "text": [
      "<class 'pandas.core.frame.DataFrame'>\n",
      "DatetimeIndex: 128 entries, 2021-04-26 to 2021-08-31\n",
      "Data columns (total 4 columns):\n",
      " #   Column        Non-Null Count  Dtype  \n",
      "---  ------        --------------  -----  \n",
      " 0   DOW           128 non-null    object \n",
      " 1   Daily         128 non-null    float64\n",
      " 2   Forecast      128 non-null    float64\n",
      " 3   Percent Diff  128 non-null    object \n",
      "dtypes: float64(2), object(2)\n",
      "memory usage: 5.0+ KB\n"
     ]
    }
   ],
   "source": [
    "ts.info()"
   ]
  },
  {
   "cell_type": "code",
   "execution_count": 27,
   "id": "329f83fb",
   "metadata": {},
   "outputs": [
    {
     "data": {
      "text/html": [
       "<div>\n",
       "<style scoped>\n",
       "    .dataframe tbody tr th:only-of-type {\n",
       "        vertical-align: middle;\n",
       "    }\n",
       "\n",
       "    .dataframe tbody tr th {\n",
       "        vertical-align: top;\n",
       "    }\n",
       "\n",
       "    .dataframe thead th {\n",
       "        text-align: right;\n",
       "    }\n",
       "</style>\n",
       "<table border=\"1\" class=\"dataframe\">\n",
       "  <thead>\n",
       "    <tr style=\"text-align: right;\">\n",
       "      <th></th>\n",
       "      <th>Daily</th>\n",
       "      <th>Forecast</th>\n",
       "    </tr>\n",
       "  </thead>\n",
       "  <tbody>\n",
       "    <tr>\n",
       "      <th>count</th>\n",
       "      <td>1.280000e+02</td>\n",
       "      <td>1.280000e+02</td>\n",
       "    </tr>\n",
       "    <tr>\n",
       "      <th>mean</th>\n",
       "      <td>5.876124e+05</td>\n",
       "      <td>9.366103e+05</td>\n",
       "    </tr>\n",
       "    <tr>\n",
       "      <th>std</th>\n",
       "      <td>1.755046e+06</td>\n",
       "      <td>3.082168e+06</td>\n",
       "    </tr>\n",
       "    <tr>\n",
       "      <th>min</th>\n",
       "      <td>0.000000e+00</td>\n",
       "      <td>0.000000e+00</td>\n",
       "    </tr>\n",
       "    <tr>\n",
       "      <th>25%</th>\n",
       "      <td>5.636750e+03</td>\n",
       "      <td>9.266750e+03</td>\n",
       "    </tr>\n",
       "    <tr>\n",
       "      <th>50%</th>\n",
       "      <td>4.266750e+04</td>\n",
       "      <td>6.523100e+04</td>\n",
       "    </tr>\n",
       "    <tr>\n",
       "      <th>75%</th>\n",
       "      <td>1.927085e+05</td>\n",
       "      <td>2.893818e+05</td>\n",
       "    </tr>\n",
       "    <tr>\n",
       "      <th>max</th>\n",
       "      <td>1.257899e+07</td>\n",
       "      <td>2.350365e+07</td>\n",
       "    </tr>\n",
       "  </tbody>\n",
       "</table>\n",
       "</div>"
      ],
      "text/plain": [
       "              Daily      Forecast\n",
       "count  1.280000e+02  1.280000e+02\n",
       "mean   5.876124e+05  9.366103e+05\n",
       "std    1.755046e+06  3.082168e+06\n",
       "min    0.000000e+00  0.000000e+00\n",
       "25%    5.636750e+03  9.266750e+03\n",
       "50%    4.266750e+04  6.523100e+04\n",
       "75%    1.927085e+05  2.893818e+05\n",
       "max    1.257899e+07  2.350365e+07"
      ]
     },
     "execution_count": 27,
     "metadata": {},
     "output_type": "execute_result"
    }
   ],
   "source": [
    "ts.describe()"
   ]
  },
  {
   "cell_type": "markdown",
   "id": "IVk0yZzGmHqc",
   "metadata": {
    "id": "IVk0yZzGmHqc"
   },
   "source": [
    "To get the exact memory usage for each column, including the index, you can\n",
    "use the memory_usage() method:"
   ]
  },
  {
   "cell_type": "code",
   "execution_count": 28,
   "id": "367af7b5-e8e3-4fc6-aa25-48ab82c4eead",
   "metadata": {
    "colab": {
     "base_uri": "https://localhost:8080/"
    },
    "id": "367af7b5-e8e3-4fc6-aa25-48ab82c4eead",
    "outputId": "d8c5c9a3-b268-4a57-9564-38ff1b94754c"
   },
   "outputs": [
    {
     "data": {
      "text/plain": [
       "Index           1024\n",
       "DOW             1024\n",
       "Daily           1024\n",
       "Forecast        1024\n",
       "Percent Diff    1024\n",
       "dtype: int64"
      ]
     },
     "execution_count": 28,
     "metadata": {},
     "output_type": "execute_result"
    }
   ],
   "source": [
    "ts.memory_usage()\n",
    "\n",
    "# ts.memory_usage().sum()"
   ]
  },
  {
   "cell_type": "markdown",
   "id": "w_hgBpssmWmU",
   "metadata": {
    "id": "w_hgBpssmWmU"
   },
   "source": [
    "So far, you have used a few of the available parameters when reading a CSV file using\n",
    "read_csv."
   ]
  },
  {
   "cell_type": "markdown",
   "id": "e6212e1e-caf4-47e9-b8f3-2db31a9ebcd8",
   "metadata": {
    "id": "e6212e1e-caf4-47e9-b8f3-2db31a9ebcd8"
   },
   "source": [
    "## Using `date_parser`"
   ]
  },
  {
   "cell_type": "code",
   "execution_count": 29,
   "id": "5b4759cf-8747-405f-ba15-77cd10493a4c",
   "metadata": {
    "colab": {
     "base_uri": "https://localhost:8080/"
    },
    "id": "5b4759cf-8747-405f-ba15-77cd10493a4c",
    "outputId": "c77ab017-d13d-497e-9c24-803341c96cd1"
   },
   "outputs": [
    {
     "data": {
      "text/plain": [
       "DOW              object\n",
       "Daily           float64\n",
       "Forecast        float64\n",
       "Percent Diff     object\n",
       "dtype: object"
      ]
     },
     "execution_count": 29,
     "metadata": {},
     "output_type": "execute_result"
    }
   ],
   "source": [
    "ts.dtypes"
   ]
  },
  {
   "cell_type": "markdown",
   "id": "K5WSxk9Jpxir",
   "metadata": {
    "id": "K5WSxk9Jpxir"
   },
   "source": [
    "You can also pass a lambda function that uses the `to_datetime` function in\n",
    "pandas to `date_parser`. You can specify the string representation for the date format\n",
    "inside `to_datetime()`, as demonstrated in the following code:"
   ]
  },
  {
   "cell_type": "code",
   "execution_count": 21,
   "id": "ee32b5de-0b27-4512-8aab-d0c5ebfad850",
   "metadata": {
    "id": "ee32b5de-0b27-4512-8aab-d0c5ebfad850",
    "outputId": "672aac61-9d0d-41f8-c361-8f7409aab6f5",
    "tags": []
   },
   "outputs": [
    {
     "name": "stderr",
     "output_type": "stream",
     "text": [
      "C:\\Users\\mailt\\AppData\\Local\\Temp\\ipykernel_6276\\4043552452.py:2: FutureWarning: The argument 'date_parser' is deprecated and will be removed in a future version. Please use 'date_format' instead, or read your data in as 'object' dtype and then call 'to_datetime'.\n",
      "  ts = pd.read_csv(filepath,\n"
     ]
    },
    {
     "data": {
      "text/html": [
       "<div>\n",
       "<style scoped>\n",
       "    .dataframe tbody tr th:only-of-type {\n",
       "        vertical-align: middle;\n",
       "    }\n",
       "\n",
       "    .dataframe tbody tr th {\n",
       "        vertical-align: top;\n",
       "    }\n",
       "\n",
       "    .dataframe thead th {\n",
       "        text-align: right;\n",
       "    }\n",
       "</style>\n",
       "<table border=\"1\" class=\"dataframe\">\n",
       "  <thead>\n",
       "    <tr style=\"text-align: right;\">\n",
       "      <th></th>\n",
       "      <th>DOW</th>\n",
       "      <th>Daily</th>\n",
       "      <th>Forecast</th>\n",
       "      <th>Percent Diff</th>\n",
       "    </tr>\n",
       "    <tr>\n",
       "      <th>Date</th>\n",
       "      <th></th>\n",
       "      <th></th>\n",
       "      <th></th>\n",
       "      <th></th>\n",
       "    </tr>\n",
       "  </thead>\n",
       "  <tbody>\n",
       "    <tr>\n",
       "      <th>2021-04-26</th>\n",
       "      <td>Friday</td>\n",
       "      <td>$125,789.89</td>\n",
       "      <td>$235,036.46</td>\n",
       "      <td>-46.48%</td>\n",
       "    </tr>\n",
       "    <tr>\n",
       "      <th>2021-04-27</th>\n",
       "      <td>Saturday</td>\n",
       "      <td>$99,374.01</td>\n",
       "      <td>$197,622.55</td>\n",
       "      <td>-49.72%</td>\n",
       "    </tr>\n",
       "    <tr>\n",
       "      <th>2021-04-28</th>\n",
       "      <td>Sunday</td>\n",
       "      <td>$82,203.16</td>\n",
       "      <td>$116,991.26</td>\n",
       "      <td>-29.74%</td>\n",
       "    </tr>\n",
       "    <tr>\n",
       "      <th>2021-04-29</th>\n",
       "      <td>Monday</td>\n",
       "      <td>$33,530.26</td>\n",
       "      <td>$66,652.65</td>\n",
       "      <td>-49.69%</td>\n",
       "    </tr>\n",
       "    <tr>\n",
       "      <th>2021-04-30</th>\n",
       "      <td>Tuesday</td>\n",
       "      <td>$30,105.24</td>\n",
       "      <td>$34,828.19</td>\n",
       "      <td>-13.56%</td>\n",
       "    </tr>\n",
       "  </tbody>\n",
       "</table>\n",
       "</div>"
      ],
      "text/plain": [
       "                 DOW          Daily       Forecast Percent Diff\n",
       "Date                                                           \n",
       "2021-04-26    Friday   $125,789.89    $235,036.46       -46.48%\n",
       "2021-04-27  Saturday    $99,374.01    $197,622.55       -49.72%\n",
       "2021-04-28    Sunday    $82,203.16    $116,991.26       -29.74%\n",
       "2021-04-29    Monday    $33,530.26     $66,652.65       -49.69%\n",
       "2021-04-30   Tuesday    $30,105.24     $34,828.19       -13.56%"
      ]
     },
     "execution_count": 21,
     "metadata": {},
     "output_type": "execute_result"
    }
   ],
   "source": [
    "date_parser = lambda x: pd.to_datetime(x, format=\"%d-%b-%y\")\n",
    "ts = pd.read_csv(filepath,\n",
    "                 parse_dates=[0],\n",
    "                 index_col=0,\n",
    "                 date_parser=date_parser,\n",
    "                 usecols=[0,1,3, 7, 6])\n",
    "ts.head()"
   ]
  },
  {
   "cell_type": "markdown",
   "id": "5962c5ce",
   "metadata": {},
   "source": [
    "The preceding code will print out the first five rows of the ts DataFrame displaying\n",
    "a properly parsed Date index."
   ]
  },
  {
   "cell_type": "markdown",
   "id": "TFekAWW3p_o8",
   "metadata": {
    "id": "TFekAWW3p_o8"
   },
   "source": [
    "Let's break it down. In the preceding code, you passed two arguments to the `to_datetime` function: the object to convert to datetime and an `explicit format string`.\n",
    "Since the date is stored as a string in the form `26-Apr-21`, you passed `\"%d-%b-%y\"` to\n",
    "reflect that:\n",
    "* %d represents the day of the month, such as 01 or 02.\n",
    "* %b represents the abbreviated month name, such as Apr or May.\n",
    "* %y represents a two-digit year, such as 19 or 20."
   ]
  },
  {
   "cell_type": "markdown",
   "id": "c1f2c015-77b6-4e59-b300-79df45c13c9f",
   "metadata": {
    "id": "c1f2c015-77b6-4e59-b300-79df45c13c9f",
    "tags": []
   },
   "source": [
    "# Method 2: Reading data from an Excel file\n",
    "In this Method, you will be using the `pandas.read_excel()` function and examining \n",
    "the various parameters available to ensure the data is read properly as a `DataFrame` with \n",
    "a `DatetimeIndex` for time series analysis."
   ]
  },
  {
   "cell_type": "markdown",
   "id": "6c348d1b-52a6-4a3a-9a7e-7fb4facba5fe",
   "metadata": {
    "id": "6c348d1b-52a6-4a3a-9a7e-7fb4facba5fe"
   },
   "source": [
    "In addition, you will explore different optionsto read Excel files with multiple sheets, install `openpyxl` using conda or pip, run the following command in the terminal:\n",
    "```\n",
    "conda install openpyxl\n",
    "```\n",
    "or\n",
    "```\n",
    "pip install openpyxl\n",
    "```"
   ]
  },
  {
   "cell_type": "code",
   "execution_count": 1,
   "id": "aff3d06e-12de-4cc9-9785-ff2548c434ed",
   "metadata": {
    "id": "aff3d06e-12de-4cc9-9785-ff2548c434ed"
   },
   "outputs": [],
   "source": [
    "#!conda install openpyxl -y\n",
    "!pip install openpyxl --quiet\n",
    "\n",
    "import warnings\n",
    "warnings.simplefilter(\"ignore\")"
   ]
  },
  {
   "cell_type": "markdown",
   "id": "hA9vxkJFBg8s",
   "metadata": {
    "id": "hA9vxkJFBg8s"
   },
   "source": [
    "Import the libraries for this Method\n",
    "Read the Excel (.xlxs) file using the `read_excel()` function. "
   ]
  },
  {
   "cell_type": "code",
   "execution_count": 2,
   "id": "a4610e13-c484-4b65-af84-bc33da9c9ea4",
   "metadata": {
    "id": "a4610e13-c484-4b65-af84-bc33da9c9ea4"
   },
   "outputs": [],
   "source": [
    "import pandas as pd\n",
    "from pathlib import Path\n",
    "filepath = Path('./boxoffice_by_month.xlsx')"
   ]
  },
  {
   "cell_type": "code",
   "execution_count": 3,
   "id": "93768b2a-bc9e-4a6a-8f72-cfdf6ec017f4",
   "metadata": {
    "id": "93768b2a-bc9e-4a6a-8f72-cfdf6ec017f4",
    "outputId": "b5c50cc7-dde1-4cf9-fa0b-a59676df8d74"
   },
   "outputs": [
    {
     "data": {
      "text/plain": [
       "'3.0.9'"
      ]
     },
     "execution_count": 3,
     "metadata": {},
     "output_type": "execute_result"
    }
   ],
   "source": [
    "import openpyxl\n",
    "openpyxl.__version__"
   ]
  },
  {
   "cell_type": "code",
   "execution_count": 4,
   "id": "63bbe7dd-7677-4642-88a3-37c2861a031f",
   "metadata": {
    "id": "63bbe7dd-7677-4642-88a3-37c2861a031f",
    "outputId": "1670ec0f-6ab7-4f64-9f2d-c54cb3dbfc1c"
   },
   "outputs": [
    {
     "data": {
      "text/plain": [
       "['April', 'August', 'July', 'June', 'May']"
      ]
     },
     "execution_count": 4,
     "metadata": {},
     "output_type": "execute_result"
    }
   ],
   "source": [
    "excelfile = pd.ExcelFile(filepath)\n",
    "excelfile.sheet_names"
   ]
  },
  {
   "cell_type": "code",
   "execution_count": 5,
   "id": "ce1c5c12-a858-4438-92dd-bc4b03b344e0",
   "metadata": {
    "id": "ce1c5c12-a858-4438-92dd-bc4b03b344e0",
    "outputId": "d8ec1c73-70c5-4ed3-81e6-8f776b2677d9"
   },
   "outputs": [
    {
     "data": {
      "text/html": [
       "<div>\n",
       "<style scoped>\n",
       "    .dataframe tbody tr th:only-of-type {\n",
       "        vertical-align: middle;\n",
       "    }\n",
       "\n",
       "    .dataframe tbody tr th {\n",
       "        vertical-align: top;\n",
       "    }\n",
       "\n",
       "    .dataframe thead th {\n",
       "        text-align: right;\n",
       "    }\n",
       "</style>\n",
       "<table border=\"1\" class=\"dataframe\">\n",
       "  <thead>\n",
       "    <tr style=\"text-align: right;\">\n",
       "      <th></th>\n",
       "      <th>Date</th>\n",
       "      <th>Daily</th>\n",
       "      <th>Month</th>\n",
       "    </tr>\n",
       "  </thead>\n",
       "  <tbody>\n",
       "    <tr>\n",
       "      <th>0</th>\n",
       "      <td>2021-07-01</td>\n",
       "      <td>$578.32</td>\n",
       "      <td>July</td>\n",
       "    </tr>\n",
       "    <tr>\n",
       "      <th>1</th>\n",
       "      <td>2021-07-02</td>\n",
       "      <td>$386.08</td>\n",
       "      <td>July</td>\n",
       "    </tr>\n",
       "    <tr>\n",
       "      <th>2</th>\n",
       "      <td>2021-07-03</td>\n",
       "      <td>$409.16</td>\n",
       "      <td>July</td>\n",
       "    </tr>\n",
       "    <tr>\n",
       "      <th>3</th>\n",
       "      <td>2021-07-04</td>\n",
       "      <td>$512.57</td>\n",
       "      <td>July</td>\n",
       "    </tr>\n",
       "    <tr>\n",
       "      <th>4</th>\n",
       "      <td>2021-07-05</td>\n",
       "      <td>$693.22</td>\n",
       "      <td>July</td>\n",
       "    </tr>\n",
       "    <tr>\n",
       "      <th>5</th>\n",
       "      <td>2021-07-06</td>\n",
       "      <td>$777.98</td>\n",
       "      <td>July</td>\n",
       "    </tr>\n",
       "    <tr>\n",
       "      <th>6</th>\n",
       "      <td>2021-07-07</td>\n",
       "      <td>$525.73</td>\n",
       "      <td>July</td>\n",
       "    </tr>\n",
       "    <tr>\n",
       "      <th>7</th>\n",
       "      <td>2021-07-08</td>\n",
       "      <td>$239.25</td>\n",
       "      <td>July</td>\n",
       "    </tr>\n",
       "    <tr>\n",
       "      <th>8</th>\n",
       "      <td>2021-07-09</td>\n",
       "      <td>$316.44</td>\n",
       "      <td>July</td>\n",
       "    </tr>\n",
       "    <tr>\n",
       "      <th>9</th>\n",
       "      <td>2021-07-10</td>\n",
       "      <td>$234.88</td>\n",
       "      <td>July</td>\n",
       "    </tr>\n",
       "    <tr>\n",
       "      <th>10</th>\n",
       "      <td>2021-07-11</td>\n",
       "      <td>$214.09</td>\n",
       "      <td>July</td>\n",
       "    </tr>\n",
       "    <tr>\n",
       "      <th>11</th>\n",
       "      <td>2021-07-12</td>\n",
       "      <td>$358.82</td>\n",
       "      <td>July</td>\n",
       "    </tr>\n",
       "    <tr>\n",
       "      <th>12</th>\n",
       "      <td>2021-07-13</td>\n",
       "      <td>$495.82</td>\n",
       "      <td>July</td>\n",
       "    </tr>\n",
       "    <tr>\n",
       "      <th>13</th>\n",
       "      <td>2021-07-14</td>\n",
       "      <td>$386.69</td>\n",
       "      <td>July</td>\n",
       "    </tr>\n",
       "    <tr>\n",
       "      <th>14</th>\n",
       "      <td>2021-07-15</td>\n",
       "      <td>$191.04</td>\n",
       "      <td>July</td>\n",
       "    </tr>\n",
       "    <tr>\n",
       "      <th>15</th>\n",
       "      <td>2021-07-16</td>\n",
       "      <td>$249.41</td>\n",
       "      <td>July</td>\n",
       "    </tr>\n",
       "    <tr>\n",
       "      <th>16</th>\n",
       "      <td>2021-07-17</td>\n",
       "      <td>$197.38</td>\n",
       "      <td>July</td>\n",
       "    </tr>\n",
       "    <tr>\n",
       "      <th>17</th>\n",
       "      <td>2021-07-18</td>\n",
       "      <td>$153.44</td>\n",
       "      <td>July</td>\n",
       "    </tr>\n",
       "    <tr>\n",
       "      <th>18</th>\n",
       "      <td>2021-07-19</td>\n",
       "      <td>$249.68</td>\n",
       "      <td>July</td>\n",
       "    </tr>\n",
       "    <tr>\n",
       "      <th>19</th>\n",
       "      <td>2021-07-20</td>\n",
       "      <td>$318.39</td>\n",
       "      <td>July</td>\n",
       "    </tr>\n",
       "    <tr>\n",
       "      <th>20</th>\n",
       "      <td>2021-07-21</td>\n",
       "      <td>$238.63</td>\n",
       "      <td>July</td>\n",
       "    </tr>\n",
       "    <tr>\n",
       "      <th>21</th>\n",
       "      <td>2021-07-22</td>\n",
       "      <td>$132.52</td>\n",
       "      <td>July</td>\n",
       "    </tr>\n",
       "    <tr>\n",
       "      <th>22</th>\n",
       "      <td>2021-07-23</td>\n",
       "      <td>$155.97</td>\n",
       "      <td>July</td>\n",
       "    </tr>\n",
       "    <tr>\n",
       "      <th>23</th>\n",
       "      <td>2021-07-24</td>\n",
       "      <td>$132.47</td>\n",
       "      <td>July</td>\n",
       "    </tr>\n",
       "    <tr>\n",
       "      <th>24</th>\n",
       "      <td>2021-07-25</td>\n",
       "      <td>$125.49</td>\n",
       "      <td>July</td>\n",
       "    </tr>\n",
       "    <tr>\n",
       "      <th>25</th>\n",
       "      <td>2021-07-26</td>\n",
       "      <td>$139.87</td>\n",
       "      <td>July</td>\n",
       "    </tr>\n",
       "    <tr>\n",
       "      <th>26</th>\n",
       "      <td>2021-07-27</td>\n",
       "      <td>$192.14</td>\n",
       "      <td>July</td>\n",
       "    </tr>\n",
       "    <tr>\n",
       "      <th>27</th>\n",
       "      <td>2021-07-28</td>\n",
       "      <td>$111.00</td>\n",
       "      <td>July</td>\n",
       "    </tr>\n",
       "    <tr>\n",
       "      <th>28</th>\n",
       "      <td>2021-07-29</td>\n",
       "      <td>$57.23</td>\n",
       "      <td>July</td>\n",
       "    </tr>\n",
       "    <tr>\n",
       "      <th>29</th>\n",
       "      <td>2021-07-30</td>\n",
       "      <td>$66.29</td>\n",
       "      <td>July</td>\n",
       "    </tr>\n",
       "    <tr>\n",
       "      <th>30</th>\n",
       "      <td>2021-07-31</td>\n",
       "      <td>$48.06</td>\n",
       "      <td>July</td>\n",
       "    </tr>\n",
       "  </tbody>\n",
       "</table>\n",
       "</div>"
      ],
      "text/plain": [
       "         Date      Daily Month\n",
       "0  2021-07-01   $578.32   July\n",
       "1  2021-07-02   $386.08   July\n",
       "2  2021-07-03   $409.16   July\n",
       "3  2021-07-04   $512.57   July\n",
       "4  2021-07-05   $693.22   July\n",
       "5  2021-07-06   $777.98   July\n",
       "6  2021-07-07   $525.73   July\n",
       "7  2021-07-08   $239.25   July\n",
       "8  2021-07-09   $316.44   July\n",
       "9  2021-07-10   $234.88   July\n",
       "10 2021-07-11   $214.09   July\n",
       "11 2021-07-12   $358.82   July\n",
       "12 2021-07-13   $495.82   July\n",
       "13 2021-07-14   $386.69   July\n",
       "14 2021-07-15   $191.04   July\n",
       "15 2021-07-16   $249.41   July\n",
       "16 2021-07-17   $197.38   July\n",
       "17 2021-07-18   $153.44   July\n",
       "18 2021-07-19   $249.68   July\n",
       "19 2021-07-20   $318.39   July\n",
       "20 2021-07-21   $238.63   July\n",
       "21 2021-07-22   $132.52   July\n",
       "22 2021-07-23   $155.97   July\n",
       "23 2021-07-24   $132.47   July\n",
       "24 2021-07-25   $125.49   July\n",
       "25 2021-07-26   $139.87   July\n",
       "26 2021-07-27   $192.14   July\n",
       "27 2021-07-28   $111.00   July\n",
       "28 2021-07-29    $57.23   July\n",
       "29 2021-07-30    $66.29   July\n",
       "30 2021-07-31    $48.06   July"
      ]
     },
     "execution_count": 5,
     "metadata": {},
     "output_type": "execute_result"
    }
   ],
   "source": [
    "excelfile.parse('July')"
   ]
  },
  {
   "cell_type": "markdown",
   "id": "ubV44JeaFeSK",
   "metadata": {
    "id": "ubV44JeaFeSK"
   },
   "source": [
    "* The box_office data will be partitioned (split) by month, where each sheet contained sales for \n",
    "a particular month. \n",
    "* In this case, concatenating the two DataFrames is a natural choice. The \n",
    "`pandas.concat()` function is like the `DataFrame.append()` function, in which the second DataFrame was added (appended) to the end of the first DataFrame."
   ]
  },
  {
   "cell_type": "code",
   "execution_count": 8,
   "id": "9d46ccf9-8921-44ac-823e-e58836d6cb84",
   "metadata": {
    "id": "9d46ccf9-8921-44ac-823e-e58836d6cb84",
    "outputId": "79457644-1271-4aae-b047-13da0659d5c5"
   },
   "outputs": [
    {
     "data": {
      "text/plain": [
       "dict_keys([0, 1])"
      ]
     },
     "execution_count": 8,
     "metadata": {},
     "output_type": "execute_result"
    }
   ],
   "source": [
    "ts = pd.read_excel(filepath,\n",
    "                    engine='openpyxl',\n",
    "                    index_col=0,\n",
    "                    sheet_name=[0,1],\n",
    "                    parse_dates=True)\n",
    "ts.keys()"
   ]
  },
  {
   "cell_type": "code",
   "execution_count": 9,
   "id": "6e845a34-f261-4abd-a7ca-d7b78cf036b7",
   "metadata": {
    "id": "6e845a34-f261-4abd-a7ca-d7b78cf036b7",
    "outputId": "0e9da39c-d514-4b2c-f932-46a6f371fcfa"
   },
   "outputs": [
    {
     "data": {
      "text/plain": [
       "dict_keys(['June', 'May'])"
      ]
     },
     "execution_count": 9,
     "metadata": {},
     "output_type": "execute_result"
    }
   ],
   "source": [
    "ts = pd.read_excel(filepath,\n",
    "                    engine='openpyxl',\n",
    "                    index_col=0,\n",
    "                    sheet_name=['June','May'],\n",
    "                    parse_dates=True)\n",
    "ts.keys()"
   ]
  },
  {
   "cell_type": "code",
   "execution_count": 42,
   "id": "0fc089c3-cfeb-4ad4-8dd9-e032b3e4b5a8",
   "metadata": {
    "id": "0fc089c3-cfeb-4ad4-8dd9-e032b3e4b5a8",
    "outputId": "a3fa002a-7eef-48c3-9465-db9f3bbdaf8e"
   },
   "outputs": [
    {
     "data": {
      "text/plain": [
       "dict_keys(['April', 'August', 'July', 'June', 'May'])"
      ]
     },
     "execution_count": 42,
     "metadata": {},
     "output_type": "execute_result"
    }
   ],
   "source": [
    "ts = pd.read_excel(filepath,\n",
    "                    engine='openpyxl',\n",
    "                    index_col=0,\n",
    "                    sheet_name=None,\n",
    "                    parse_dates=True)\n",
    "ts.keys()"
   ]
  },
  {
   "cell_type": "code",
   "execution_count": 10,
   "id": "532a5897-53eb-475f-914c-5a6c38c0f442",
   "metadata": {
    "id": "532a5897-53eb-475f-914c-5a6c38c0f442",
    "outputId": "d55f6f47-0e81-41b5-9d53-da2f8592a265"
   },
   "outputs": [
    {
     "name": "stdout",
     "output_type": "stream",
     "text": [
      "<class 'pandas.core.frame.DataFrame'>\n",
      "DatetimeIndex: 30 entries, 2021-06-01 to 2021-06-30\n",
      "Data columns (total 2 columns):\n",
      " #   Column  Non-Null Count  Dtype \n",
      "---  ------  --------------  ----- \n",
      " 0   Daily   30 non-null     object\n",
      " 1   Month   30 non-null     object\n",
      "dtypes: object(2)\n",
      "memory usage: 720.0+ bytes\n"
     ]
    }
   ],
   "source": [
    "ts['June'].info()"
   ]
  },
  {
   "cell_type": "code",
   "execution_count": 11,
   "id": "acd9b6a2-e291-4172-8310-027fbda6c880",
   "metadata": {
    "id": "acd9b6a2-e291-4172-8310-027fbda6c880",
    "outputId": "eb84e9c6-7b67-4665-da43-6f3ecdd35947"
   },
   "outputs": [
    {
     "name": "stdout",
     "output_type": "stream",
     "text": [
      "<class 'pandas.core.frame.DataFrame'>\n",
      "DatetimeIndex: 31 entries, 2021-05-01 to 2021-05-31\n",
      "Data columns (total 2 columns):\n",
      " #   Column  Non-Null Count  Dtype \n",
      "---  ------  --------------  ----- \n",
      " 0   Daily   31 non-null     object\n",
      " 1   Month   31 non-null     object\n",
      "dtypes: object(2)\n",
      "memory usage: 744.0+ bytes\n"
     ]
    }
   ],
   "source": [
    "ts['May'].info()"
   ]
  },
  {
   "cell_type": "code",
   "execution_count": 13,
   "id": "8bb16eb6-c6e7-4e27-aa5f-4c8003ace5a0",
   "metadata": {
    "id": "8bb16eb6-c6e7-4e27-aa5f-4c8003ace5a0"
   },
   "outputs": [],
   "source": [
    "ts_combined = pd.concat([ts['June'],ts['May']])"
   ]
  },
  {
   "cell_type": "code",
   "execution_count": 14,
   "id": "966a7f86-abce-49ca-846d-3f1f2f9f02d6",
   "metadata": {
    "id": "966a7f86-abce-49ca-846d-3f1f2f9f02d6",
    "outputId": "370727ab-afbd-4d56-a75b-e88dfca79e5c"
   },
   "outputs": [
    {
     "name": "stdout",
     "output_type": "stream",
     "text": [
      "<class 'pandas.core.frame.DataFrame'>\n",
      "DatetimeIndex: 61 entries, 2021-06-01 to 2021-05-31\n",
      "Data columns (total 2 columns):\n",
      " #   Column  Non-Null Count  Dtype \n",
      "---  ------  --------------  ----- \n",
      " 0   Daily   61 non-null     object\n",
      " 1   Month   61 non-null     object\n",
      "dtypes: object(2)\n",
      "memory usage: 1.4+ KB\n"
     ]
    }
   ],
   "source": [
    "ts_combined.info()"
   ]
  },
  {
   "cell_type": "code",
   "execution_count": 15,
   "id": "3ddc8ab9-a868-475c-8d88-f6b7113d5892",
   "metadata": {
    "id": "3ddc8ab9-a868-475c-8d88-f6b7113d5892",
    "outputId": "8b185e90-ceb6-49fd-9840-ba009455195f"
   },
   "outputs": [
    {
     "data": {
      "text/plain": [
       "MultiIndex([('June', '2021-06-01'),\n",
       "            ('June', '2021-06-02'),\n",
       "            ('June', '2021-06-03'),\n",
       "            ('June', '2021-06-04'),\n",
       "            ('June', '2021-06-05'),\n",
       "            ('June', '2021-06-06'),\n",
       "            ('June', '2021-06-07'),\n",
       "            ('June', '2021-06-08'),\n",
       "            ('June', '2021-06-09'),\n",
       "            ('June', '2021-06-10'),\n",
       "            ('June', '2021-06-11'),\n",
       "            ('June', '2021-06-12'),\n",
       "            ('June', '2021-06-13'),\n",
       "            ('June', '2021-06-14'),\n",
       "            ('June', '2021-06-15'),\n",
       "            ('June', '2021-06-16'),\n",
       "            ('June', '2021-06-17'),\n",
       "            ('June', '2021-06-18'),\n",
       "            ('June', '2021-06-19'),\n",
       "            ('June', '2021-06-20'),\n",
       "            ('June', '2021-06-21'),\n",
       "            ('June', '2021-06-22'),\n",
       "            ('June', '2021-06-23'),\n",
       "            ('June', '2021-06-24'),\n",
       "            ('June', '2021-06-25'),\n",
       "            ('June', '2021-06-26'),\n",
       "            ('June', '2021-06-27'),\n",
       "            ('June', '2021-06-28'),\n",
       "            ('June', '2021-06-29'),\n",
       "            ('June', '2021-06-30'),\n",
       "            ( 'May', '2021-05-01'),\n",
       "            ( 'May', '2021-05-02'),\n",
       "            ( 'May', '2021-05-03'),\n",
       "            ( 'May', '2021-05-04'),\n",
       "            ( 'May', '2021-05-05'),\n",
       "            ( 'May', '2021-05-06'),\n",
       "            ( 'May', '2021-05-07'),\n",
       "            ( 'May', '2021-05-08'),\n",
       "            ( 'May', '2021-05-09'),\n",
       "            ( 'May', '2021-05-10'),\n",
       "            ( 'May', '2021-05-11'),\n",
       "            ( 'May', '2021-05-12'),\n",
       "            ( 'May', '2021-05-13'),\n",
       "            ( 'May', '2021-05-14'),\n",
       "            ( 'May', '2021-05-15'),\n",
       "            ( 'May', '2021-05-16'),\n",
       "            ( 'May', '2021-05-17'),\n",
       "            ( 'May', '2021-05-18'),\n",
       "            ( 'May', '2021-05-19'),\n",
       "            ( 'May', '2021-05-20'),\n",
       "            ( 'May', '2021-05-21'),\n",
       "            ( 'May', '2021-05-22'),\n",
       "            ( 'May', '2021-05-23'),\n",
       "            ( 'May', '2021-05-24'),\n",
       "            ( 'May', '2021-05-25'),\n",
       "            ( 'May', '2021-05-26'),\n",
       "            ( 'May', '2021-05-27'),\n",
       "            ( 'May', '2021-05-28'),\n",
       "            ( 'May', '2021-05-29'),\n",
       "            ( 'May', '2021-05-30'),\n",
       "            ( 'May', '2021-05-31')],\n",
       "           names=[None, 'Date'])"
      ]
     },
     "execution_count": 15,
     "metadata": {},
     "output_type": "execute_result"
    }
   ],
   "source": [
    "pd.concat(ts).index"
   ]
  },
  {
   "cell_type": "markdown",
   "id": "ZqHkDfF0GU11",
   "metadata": {
    "id": "ZqHkDfF0GU11"
   },
   "source": [
    "To reduce the number of levels, you can use the `droplevel(level=0)` method \n",
    "to drop the first level after `pandas.concat()` shown as follows:"
   ]
  },
  {
   "cell_type": "code",
   "execution_count": 16,
   "id": "c5e27638-bd4f-418f-95c9-da6c552e973c",
   "metadata": {
    "id": "c5e27638-bd4f-418f-95c9-da6c552e973c",
    "outputId": "1d411536-50da-434e-aa5e-14f9530802a7"
   },
   "outputs": [
    {
     "data": {
      "text/html": [
       "<div>\n",
       "<style scoped>\n",
       "    .dataframe tbody tr th:only-of-type {\n",
       "        vertical-align: middle;\n",
       "    }\n",
       "\n",
       "    .dataframe tbody tr th {\n",
       "        vertical-align: top;\n",
       "    }\n",
       "\n",
       "    .dataframe thead th {\n",
       "        text-align: right;\n",
       "    }\n",
       "</style>\n",
       "<table border=\"1\" class=\"dataframe\">\n",
       "  <thead>\n",
       "    <tr style=\"text-align: right;\">\n",
       "      <th></th>\n",
       "      <th>Daily</th>\n",
       "      <th>Month</th>\n",
       "    </tr>\n",
       "    <tr>\n",
       "      <th>Date</th>\n",
       "      <th></th>\n",
       "      <th></th>\n",
       "    </tr>\n",
       "  </thead>\n",
       "  <tbody>\n",
       "    <tr>\n",
       "      <th>2021-06-01</th>\n",
       "      <td>$2,955.72</td>\n",
       "      <td>June</td>\n",
       "    </tr>\n",
       "    <tr>\n",
       "      <th>2021-06-02</th>\n",
       "      <td>$2,249.78</td>\n",
       "      <td>June</td>\n",
       "    </tr>\n",
       "    <tr>\n",
       "      <th>2021-06-03</th>\n",
       "      <td>$753.48</td>\n",
       "      <td>June</td>\n",
       "    </tr>\n",
       "    <tr>\n",
       "      <th>2021-06-04</th>\n",
       "      <td>$1,044.94</td>\n",
       "      <td>June</td>\n",
       "    </tr>\n",
       "    <tr>\n",
       "      <th>2021-06-05</th>\n",
       "      <td>$771.17</td>\n",
       "      <td>June</td>\n",
       "    </tr>\n",
       "  </tbody>\n",
       "</table>\n",
       "</div>"
      ],
      "text/plain": [
       "                  Daily Month\n",
       "Date                         \n",
       "2021-06-01   $2,955.72   June\n",
       "2021-06-02   $2,249.78   June\n",
       "2021-06-03     $753.48   June\n",
       "2021-06-04   $1,044.94   June\n",
       "2021-06-05     $771.17   June"
      ]
     },
     "execution_count": 16,
     "metadata": {},
     "output_type": "execute_result"
    }
   ],
   "source": [
    "ts_combined = pd.concat(ts).droplevel(level=0)\n",
    "ts_combined.head()"
   ]
  },
  {
   "cell_type": "code",
   "execution_count": 17,
   "id": "31b66f18-eead-4210-b3f0-05e57fa12ba4",
   "metadata": {
    "id": "31b66f18-eead-4210-b3f0-05e57fa12ba4",
    "outputId": "fa4d6f32-eba5-4095-aedd-c983ce384a19"
   },
   "outputs": [
    {
     "data": {
      "text/plain": [
       "pandas.core.frame.DataFrame"
      ]
     },
     "execution_count": 17,
     "metadata": {},
     "output_type": "execute_result"
    }
   ],
   "source": [
    "ts = pd.read_excel(filepath,\n",
    "                   index_col=0,\n",
    "                   sheet_name='June',\n",
    "                   parse_dates=True)\n",
    "type(ts)"
   ]
  },
  {
   "cell_type": "markdown",
   "id": "1de33298-bccc-4d86-a827-39b8bc4d8376",
   "metadata": {
    "id": "1de33298-bccc-4d86-a827-39b8bc4d8376"
   },
   "source": [
    "## There is more\n",
    "* Using `ExcelFile`"
   ]
  },
  {
   "cell_type": "code",
   "execution_count": 18,
   "id": "1655b775-cd6c-4f28-8ed4-7e8b89e0e460",
   "metadata": {
    "id": "1655b775-cd6c-4f28-8ed4-7e8b89e0e460",
    "outputId": "56a1e7b8-e9ff-4332-8ec3-3b39428c4d4a"
   },
   "outputs": [
    {
     "data": {
      "text/html": [
       "<div>\n",
       "<style scoped>\n",
       "    .dataframe tbody tr th:only-of-type {\n",
       "        vertical-align: middle;\n",
       "    }\n",
       "\n",
       "    .dataframe tbody tr th {\n",
       "        vertical-align: top;\n",
       "    }\n",
       "\n",
       "    .dataframe thead th {\n",
       "        text-align: right;\n",
       "    }\n",
       "</style>\n",
       "<table border=\"1\" class=\"dataframe\">\n",
       "  <thead>\n",
       "    <tr style=\"text-align: right;\">\n",
       "      <th></th>\n",
       "      <th>Daily</th>\n",
       "      <th>Month</th>\n",
       "    </tr>\n",
       "    <tr>\n",
       "      <th>Date</th>\n",
       "      <th></th>\n",
       "      <th></th>\n",
       "    </tr>\n",
       "  </thead>\n",
       "  <tbody>\n",
       "    <tr>\n",
       "      <th>2021-06-01</th>\n",
       "      <td>$2,955.72</td>\n",
       "      <td>June</td>\n",
       "    </tr>\n",
       "    <tr>\n",
       "      <th>2021-06-02</th>\n",
       "      <td>$2,249.78</td>\n",
       "      <td>June</td>\n",
       "    </tr>\n",
       "    <tr>\n",
       "      <th>2021-06-03</th>\n",
       "      <td>$753.48</td>\n",
       "      <td>June</td>\n",
       "    </tr>\n",
       "    <tr>\n",
       "      <th>2021-06-04</th>\n",
       "      <td>$1,044.94</td>\n",
       "      <td>June</td>\n",
       "    </tr>\n",
       "    <tr>\n",
       "      <th>2021-06-05</th>\n",
       "      <td>$771.17</td>\n",
       "      <td>June</td>\n",
       "    </tr>\n",
       "  </tbody>\n",
       "</table>\n",
       "</div>"
      ],
      "text/plain": [
       "                  Daily Month\n",
       "Date                         \n",
       "2021-06-01   $2,955.72   June\n",
       "2021-06-02   $2,249.78   June\n",
       "2021-06-03     $753.48   June\n",
       "2021-06-04   $1,044.94   June\n",
       "2021-06-05     $771.17   June"
      ]
     },
     "execution_count": 18,
     "metadata": {},
     "output_type": "execute_result"
    }
   ],
   "source": [
    "excelfile = pd.ExcelFile(filepath)\n",
    "excelfile.parse(sheet_name='June',\n",
    "                index_col=0,\n",
    "                parse_dates=True).head()\n"
   ]
  },
  {
   "cell_type": "markdown",
   "id": "cb565e22-12c8-44c8-8c66-5e7b91f28275",
   "metadata": {
    "id": "cb565e22-12c8-44c8-8c66-5e7b91f28275"
   },
   "source": [
    "# Method 3: Reading data from a URL\n",
    "* Many of the pandas reader functions can read data from remote locations by passing \n",
    "a URL path. \n",
    "* For example, both `read_csv()` and `read_excel()` can take a URL to \n",
    "read a file that is accessible via the internet. In this Method, you will read a `CSV` file using \n",
    "`pandas.read_csv()` and `Excel` files using `pandas.read_excel()` from remote \n",
    "locations, such as `GitHub`. \n",
    "* You will also read data directly from an HTML page into a pandas DataFrame"
   ]
  },
  {
   "cell_type": "code",
   "execution_count": 3,
   "id": "0df2d7c3-ef1e-4101-890d-50ce9cfdb9cc",
   "metadata": {
    "id": "0df2d7c3-ef1e-4101-890d-50ce9cfdb9cc"
   },
   "outputs": [
    {
     "name": "stdout",
     "output_type": "stream",
     "text": [
      "\n",
      "pandas -> 1.4.2\n",
      "lxml -> 4.8.0\n",
      "\n"
     ]
    }
   ],
   "source": [
    "import pandas as pd\n",
    "import  lxml\n",
    "print(f'''\n",
    "pandas -> {pd.__version__}\n",
    "lxml -> {lxml.__version__}\n",
    "''')"
   ]
  },
  {
   "cell_type": "markdown",
   "id": "26f56e5a-a01d-482f-b5b0-e7cf8a677e80",
   "metadata": {
    "id": "26f56e5a-a01d-482f-b5b0-e7cf8a677e80"
   },
   "source": [
    "## Reading from GitHub\n",
    "* This is most important part since you'll be using it frequently in your project to read the data from the project's github page\n",
    "* To read a CSV file from GitHub, you will need the URL to the `raw content`. \n",
    "* If you copy the file's GitHub URL from the browser and use it as the file path, you will get \n",
    "a URL that looks like this: https://github.com/FuTSA23/time-series-analysis-datasets/blob/main/AirQualityUCI.csv  \n",
    "* This URL is a pointer to the web page in GitHub and \n",
    "not the data itself; hence when using `pd.read_csv()`, it will throw an error"
   ]
  },
  {
   "cell_type": "code",
   "execution_count": 4,
   "id": "c208b0e8-7f40-4f2b-938b-6b538492cd8b",
   "metadata": {
    "id": "c208b0e8-7f40-4f2b-938b-6b538492cd8b"
   },
   "outputs": [],
   "source": [
    "# example of produced error\n",
    "url = 'https://github.com/FuTSA23/time-series-analysis-datasets/blob/main/AirQualityUCI.csv'\n",
    "# pd.read_csv(url)"
   ]
  },
  {
   "cell_type": "markdown",
   "id": "lHblt-_nMO6T",
   "metadata": {
    "id": "lHblt-_nMO6T"
   },
   "source": [
    "Instead, you will need the raw content, which will give you a URL that \n",
    "looks like this:\n",
    "The first column in the file is the Date column. You will need to parse (parse_\n",
    "date parameter) and convert it to DatetimeIndex (index_col parameter)."
   ]
  },
  {
   "cell_type": "code",
   "execution_count": 5,
   "id": "1578a313-df89-4d15-81c0-511f50f49c4b",
   "metadata": {
    "id": "1578a313-df89-4d15-81c0-511f50f49c4b",
    "outputId": "882bdbb4-705a-45ea-f69d-0b704912f3b2"
   },
   "outputs": [],
   "source": [
    "url = 'https://github.com/FuTSA23/time-series-analysis-datasets/blob/main/AirQualityUCI.csv'\n",
    "\n",
    "raw_url = 'https://raw.githubusercontent.com/FuTSA23/time-series-analysis-datasets/main/AirQualityUCI.csv'\n",
    "# date_parser = lambda x: pd.to_datetime(x, format=\"%d/%m/%Y\")\n",
    "\n",
    "df = pd.read_csv(raw_url)"
   ]
  },
  {
   "cell_type": "markdown",
   "id": "2c968bed-9693-44e0-b537-feca8fb867bf",
   "metadata": {
    "id": "2c968bed-9693-44e0-b537-feca8fb867bf"
   },
   "source": [
    "## Reading from HTML\n",
    "pandas offers an elegant way to read HTML tables and convert the content into a pandas \n",
    "DataFrame using the pandas.read_html() function: \n",
    "* In the following Method, we will extract HTML tables from Wikipedia for COVID-19 \n",
    "pandemic tracking cases by country and by territory (https://en.wikipedia.org/wiki/COVID-19_pandemic_by_country_and_territory)"
   ]
  },
  {
   "cell_type": "code",
   "execution_count": 6,
   "id": "ae29ee75-aa23-47d6-80c4-a7cf64c1105d",
   "metadata": {
    "id": "ae29ee75-aa23-47d6-80c4-a7cf64c1105d",
    "outputId": "98fe9992-47ea-4c6b-f438-623ea6daec89"
   },
   "outputs": [
    {
     "name": "stdout",
     "output_type": "stream",
     "text": [
      "69\n"
     ]
    }
   ],
   "source": [
    "url = \"https://en.wikipedia.org/wiki/COVID-19_pandemic_by_country_and_territory\"\n",
    "results = pd.read_html(url)\n",
    "print(len(results))"
   ]
  },
  {
   "cell_type": "code",
   "execution_count": 24,
   "id": "15dc2aae-add1-49e6-9e4f-ef5d61cd70fb",
   "metadata": {
    "id": "15dc2aae-add1-49e6-9e4f-ef5d61cd70fb"
   },
   "outputs": [],
   "source": [
    "# for i, k in enumerate(results):\n",
    "#     print(i)\n",
    "#     display(k.head())"
   ]
  },
  {
   "cell_type": "code",
   "execution_count": 7,
   "id": "f414af1b-eb6d-48c6-81ff-b565dc7c276e",
   "metadata": {
    "id": "f414af1b-eb6d-48c6-81ff-b565dc7c276e",
    "outputId": "6152dd4f-fcee-4a3a-dd3b-e128a960f013"
   },
   "outputs": [
    {
     "data": {
      "text/plain": [
       "Index(['Region[30]', 'Total cases', 'Total deaths', 'Cases per million',\n",
       "       'Deaths per million', 'Current weekly cases', 'Current weekly deaths',\n",
       "       'Population millions', 'Vaccinated %[31]'],\n",
       "      dtype='object')"
      ]
     },
     "execution_count": 7,
     "metadata": {},
     "output_type": "execute_result"
    }
   ],
   "source": [
    "df = results[15]\n",
    "df.columns"
   ]
  },
  {
   "cell_type": "code",
   "execution_count": 8,
   "id": "37776cd9-8f76-4118-accb-ddec1375364b",
   "metadata": {
    "id": "37776cd9-8f76-4118-accb-ddec1375364b",
    "outputId": "a1b271a2-7adb-4f25-9c03-f574a3f74637"
   },
   "outputs": [
    {
     "data": {
      "text/html": [
       "<div>\n",
       "<style scoped>\n",
       "    .dataframe tbody tr th:only-of-type {\n",
       "        vertical-align: middle;\n",
       "    }\n",
       "\n",
       "    .dataframe tbody tr th {\n",
       "        vertical-align: top;\n",
       "    }\n",
       "\n",
       "    .dataframe thead th {\n",
       "        text-align: right;\n",
       "    }\n",
       "</style>\n",
       "<table border=\"1\" class=\"dataframe\">\n",
       "  <thead>\n",
       "    <tr style=\"text-align: right;\">\n",
       "      <th></th>\n",
       "      <th>Total cases</th>\n",
       "      <th>Total deaths</th>\n",
       "      <th>Cases per million</th>\n",
       "    </tr>\n",
       "  </thead>\n",
       "  <tbody>\n",
       "    <tr>\n",
       "      <th>0</th>\n",
       "      <td>179537758</td>\n",
       "      <td>1185108</td>\n",
       "      <td>401363</td>\n",
       "    </tr>\n",
       "    <tr>\n",
       "      <th>1</th>\n",
       "      <td>103783777</td>\n",
       "      <td>1133607</td>\n",
       "      <td>281404</td>\n",
       "    </tr>\n",
       "    <tr>\n",
       "      <th>2</th>\n",
       "      <td>57721948</td>\n",
       "      <td>498259</td>\n",
       "      <td>247054</td>\n",
       "    </tr>\n",
       "    <tr>\n",
       "      <th>3</th>\n",
       "      <td>65835789</td>\n",
       "      <td>1313061</td>\n",
       "      <td>153151</td>\n",
       "    </tr>\n",
       "    <tr>\n",
       "      <th>4</th>\n",
       "      <td>25646533</td>\n",
       "      <td>434988</td>\n",
       "      <td>108307</td>\n",
       "    </tr>\n",
       "  </tbody>\n",
       "</table>\n",
       "</div>"
      ],
      "text/plain": [
       "   Total cases  Total deaths  Cases per million\n",
       "0    179537758       1185108             401363\n",
       "1    103783777       1133607             281404\n",
       "2     57721948        498259             247054\n",
       "3     65835789       1313061             153151\n",
       "4     25646533        434988             108307"
      ]
     },
     "execution_count": 8,
     "metadata": {},
     "output_type": "execute_result"
    }
   ],
   "source": [
    "df[['Total cases', 'Total deaths', 'Cases per million']].head()"
   ]
  },
  {
   "cell_type": "markdown",
   "id": "8e5c18bb-b7e3-4d54-9338-9631f4dc4cbc",
   "metadata": {
    "id": "8e5c18bb-b7e3-4d54-9338-9631f4dc4cbc"
   },
   "source": [
    "## Example how `read_html()` works"
   ]
  },
  {
   "cell_type": "code",
   "execution_count": 10,
   "id": "2b53a57e-8a60-4a56-bfda-45c30e565d2a",
   "metadata": {
    "id": "2b53a57e-8a60-4a56-bfda-45c30e565d2a",
    "outputId": "7241cf14-f8dc-41d8-ffbd-682acfb4f128"
   },
   "outputs": [
    {
     "data": {
      "text/html": [
       "<div>\n",
       "<style scoped>\n",
       "    .dataframe tbody tr th:only-of-type {\n",
       "        vertical-align: middle;\n",
       "    }\n",
       "\n",
       "    .dataframe tbody tr th {\n",
       "        vertical-align: top;\n",
       "    }\n",
       "\n",
       "    .dataframe thead th {\n",
       "        text-align: right;\n",
       "    }\n",
       "</style>\n",
       "<table border=\"1\" class=\"dataframe\">\n",
       "  <thead>\n",
       "    <tr style=\"text-align: right;\">\n",
       "      <th></th>\n",
       "      <th>Ticker</th>\n",
       "      <th>Price</th>\n",
       "    </tr>\n",
       "  </thead>\n",
       "  <tbody>\n",
       "    <tr>\n",
       "      <th>0</th>\n",
       "      <td>MSFT</td>\n",
       "      <td>230</td>\n",
       "    </tr>\n",
       "    <tr>\n",
       "      <th>1</th>\n",
       "      <td>APPL</td>\n",
       "      <td>300</td>\n",
       "    </tr>\n",
       "    <tr>\n",
       "      <th>2</th>\n",
       "      <td>MSTR</td>\n",
       "      <td>120</td>\n",
       "    </tr>\n",
       "  </tbody>\n",
       "</table>\n",
       "</div>"
      ],
      "text/plain": [
       "  Ticker  Price\n",
       "0   MSFT    230\n",
       "1   APPL    300\n",
       "2   MSTR    120"
      ]
     },
     "execution_count": 10,
     "metadata": {},
     "output_type": "execute_result"
    }
   ],
   "source": [
    "import pandas as pd\n",
    "html = \"\"\"\n",
    " <table>\n",
    "   <tr>\n",
    "     <th>Ticker</th>\n",
    "     <th>Price</th>\n",
    "   </tr>\n",
    "   <tr>\n",
    "     <td>MSFT</td>\n",
    "     <td>230</td>\n",
    "   </tr>\n",
    "   <tr>\n",
    "     <td>APPL</td>\n",
    "     <td>300</td>\n",
    "   </tr>\n",
    "     <tr>\n",
    "     <td>MSTR</td>\n",
    "     <td>120</td>\n",
    "   </tr>\n",
    " </table>\n",
    "\n",
    " </body>\n",
    " </html>\n",
    " \"\"\"\n",
    "\n",
    "df = pd.read_html(html)\n",
    "df[0]\n"
   ]
  },
  {
   "cell_type": "markdown",
   "id": "2R96mN-wOHiN",
   "metadata": {
    "id": "2R96mN-wOHiN"
   },
   "source": [
    "In the preceding code, the `read_html()` function parsed the HTML code and converted \n",
    "the HTML table into a `pandas DataFrame`. The headers between the `<th>` and `</th>`\n",
    "tags represent the `column names` of the DataFrame, and the content between the `<tr></td>` and `</td></tr>` tags represent the row data of the DataFrame. "
   ]
  },
  {
   "cell_type": "markdown",
   "id": "aae256fc-d806-4a18-af3d-9e61ca99060f",
   "metadata": {
    "id": "aae256fc-d806-4a18-af3d-9e61ca99060f"
   },
   "source": [
    "## Using `attr` option in `read.html()`\n",
    "The `read_html()` function has an optional `attr` argument, which takes a dictionary \n",
    "of `valid HTML <table> attributes`, such as `id or class`. For example, you can use \n",
    "the `attr` parameter to narrow down the tables returned to those that match the class\n",
    "attribute sortable as in `<table class=\"sortable\">`. The `read_html` function will inspect the entire HTML page to ensure you target the right set of attributes."
   ]
  },
  {
   "cell_type": "code",
   "execution_count": 11,
   "id": "c87c19b8-4054-487c-8eac-038a2d8337e5",
   "metadata": {
    "id": "c87c19b8-4054-487c-8eac-038a2d8337e5"
   },
   "outputs": [],
   "source": [
    "#!conda install html5lib beautifulSoup4\n",
    "!pip install html5lib beautifulSoup4 --quiet"
   ]
  },
  {
   "cell_type": "code",
   "execution_count": 12,
   "id": "a83890ac",
   "metadata": {},
   "outputs": [
    {
     "name": "stdout",
     "output_type": "stream",
     "text": [
      "Requirement already satisfied: html5lib in c:\\users\\hp\\anaconda3\\lib\\site-packages (1.1)\n",
      "Requirement already satisfied: webencodings in c:\\users\\hp\\anaconda3\\lib\\site-packages (from html5lib) (0.5.1)\n",
      "Requirement already satisfied: six>=1.9 in c:\\users\\hp\\anaconda3\\lib\\site-packages (from html5lib) (1.16.0)\n"
     ]
    }
   ],
   "source": [
    "!pip install html5lib"
   ]
  },
  {
   "cell_type": "code",
   "execution_count": 13,
   "id": "8f591292-b34a-4186-93ff-03a9b61a497c",
   "metadata": {
    "id": "8f591292-b34a-4186-93ff-03a9b61a497c",
    "outputId": "c589aa41-e504-4b4a-9ea0-fee3ef98f0eb"
   },
   "outputs": [
    {
     "data": {
      "text/plain": [
       "5"
      ]
     },
     "execution_count": 13,
     "metadata": {},
     "output_type": "execute_result"
    }
   ],
   "source": [
    "import pandas as pd\n",
    "url = \"https://en.wikipedia.org/wiki/COVID-19_pandemic_by_country_and_territory\"\n",
    "df = pd.read_html(url, attrs={'class': 'sortable'})\n",
    "len(df)"
   ]
  },
  {
   "cell_type": "code",
   "execution_count": 14,
   "id": "60e2b0ab-30fc-47a1-9d94-650b7c5a72a9",
   "metadata": {
    "id": "60e2b0ab-30fc-47a1-9d94-650b7c5a72a9",
    "outputId": "d16c48be-8707-44d4-dfae-67e03ca2d82a"
   },
   "outputs": [
    {
     "data": {
      "text/plain": [
       "Index(['Region[30]', 'Total cases', 'Total deaths', 'Cases per million',\n",
       "       'Deaths per million', 'Current weekly cases', 'Current weekly deaths',\n",
       "       'Population millions', 'Vaccinated %[31]'],\n",
       "      dtype='object')"
      ]
     },
     "execution_count": 14,
     "metadata": {},
     "output_type": "execute_result"
    }
   ],
   "source": [
    "df[3].columns"
   ]
  }
 ],
 "metadata": {
  "colab": {
   "provenance": []
  },
  "kernelspec": {
   "display_name": "Python 3 (ipykernel)",
   "language": "python",
   "name": "python3"
  },
  "language_info": {
   "codemirror_mode": {
    "name": "ipython",
    "version": 3
   },
   "file_extension": ".py",
   "mimetype": "text/x-python",
   "name": "python",
   "nbconvert_exporter": "python",
   "pygments_lexer": "ipython3",
   "version": "3.9.12"
  }
 },
 "nbformat": 4,
 "nbformat_minor": 5
}
