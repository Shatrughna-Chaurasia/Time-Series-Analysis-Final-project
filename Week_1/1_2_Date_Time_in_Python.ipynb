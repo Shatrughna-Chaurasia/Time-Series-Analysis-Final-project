{
 "cells": [
  {
   "cell_type": "markdown",
   "metadata": {},
   "source": [
    "# *Working with Date and Time in Python* \n",
    "\n",
    "This chapter takes a practical and intuitive approach to an intimidating topic. You will learn how to deal with the complexity of dates and time in your time series data. The chapter illustrates practical use cases for handling time zones, custom holidays, and business days, working with UTC (Universal\n",
    "Time Coordinated).\n",
    "\n",
    "Python has several built-in modules for working with date and time, such as the datetime, time, calendar, and zoneinfo modules. Additionally, there are other popular libraries in Python that further extend the capability to work with and manipulate date and time, such as dateutil, pytz, and arrow, to name a few.\n",
    "You will be introduced to the **datetime** module in this chapter but then transition to use pandas for enhanced and more complex date and time manipulation, and generate time-series DataFrames with a sequence of DatetimeIndex. In addition, the pandas library contains several date-specific and time-specific classes that inherit from the aforementioned Python modules. In other words, you will not need to import additional date/time Python libraries.\n",
    "\n",
    "The pandas library offers a more straightforward, intuitive, and powerful interface to handle most of your date and time manipulation needs without importing additional modules. When using pandas, you will appreciate having a library that contains everything you need to work with time-series\n",
    "data and can easily handle many challenging tasks.\n",
    "\n",
    "Here is the list of the recipes that we will cover in this chapter:\n",
    "\n",
    "* Working with `DatetimeIndex`\n",
    "* Providing a format argument to DateTime\n",
    "* Working with time deltas\n",
    "* Converting DateTime with time zone information\n",
    "* Working with date offsets\n",
    "* Working with custom business days"
   ]
  },
  {
   "cell_type": "markdown",
   "metadata": {},
   "source": [
    "# Technical Requirements "
   ]
  },
  {
   "cell_type": "markdown",
   "metadata": {},
   "source": [
    "In this chapter and going forward, we will extensively use pandas 2.0.1 (released on April\n",
    "23, 2023). This applies to all the recipes in this chapter.\n",
    "Load these libraries in advance, since you will be using them throughout the chapter:"
   ]
  },
  {
   "cell_type": "code",
   "execution_count": 1,
   "metadata": {},
   "outputs": [],
   "source": [
    "import warnings\n",
    "warnings.filterwarnings('ignore')"
   ]
  },
  {
   "cell_type": "code",
   "execution_count": 2,
   "metadata": {},
   "outputs": [],
   "source": [
    "import pandas as pd\n",
    "import numpy as np\n",
    "import datetime as dt"
   ]
  },
  {
   "cell_type": "markdown",
   "metadata": {},
   "source": [
    "You will use dt, np, and pd aliases going forward."
   ]
  },
  {
   "cell_type": "code",
   "execution_count": 3,
   "metadata": {},
   "outputs": [
    {
     "data": {
      "text/plain": [
       "'1.4.2'"
      ]
     },
     "execution_count": 3,
     "metadata": {},
     "output_type": "execute_result"
    }
   ],
   "source": [
    "pd.__version__"
   ]
  },
  {
   "cell_type": "markdown",
   "metadata": {},
   "source": [
    "# Recipe 1: Working with `DatetimeIndex`\n",
    "In this recipe, you will explore Python's datetime module and learn about the Timestamp and DatetimeIndex classes and the relationship between them."
   ]
  },
  {
   "cell_type": "markdown",
   "metadata": {},
   "source": [
    "By the end of this recipe, you will appreciate pandas' rich set of date functionality to\n",
    "handle almost any representation of date/time in your data. Additionally, you will learn\n",
    "how to use different functions in pandas to convert date-like objects to a DatetimeIndex."
   ]
  },
  {
   "cell_type": "code",
   "execution_count": 4,
   "metadata": {},
   "outputs": [
    {
     "data": {
      "text/plain": [
       "datetime.datetime"
      ]
     },
     "execution_count": 4,
     "metadata": {},
     "output_type": "execute_result"
    }
   ],
   "source": [
    "dt.datetime"
   ]
  },
  {
   "cell_type": "markdown",
   "metadata": {},
   "source": [
    "To understand the relationship between Python's datetime.datetime class and\n",
    "pandas' Timestamp and DatetimeIndex classes, you will create three different\n",
    "datetime objects representing the date 2021, 1, 1. You will then compare\n",
    "these objects to gain a better understanding:"
   ]
  },
  {
   "cell_type": "code",
   "execution_count": 5,
   "metadata": {},
   "outputs": [],
   "source": [
    "dt1 = dt.datetime(2021,1,1)\n",
    "dt2 = pd.Timestamp('2021-1-1')\n",
    "dt3 = pd.to_datetime('2021-1-1')"
   ]
  },
  {
   "cell_type": "code",
   "execution_count": 6,
   "metadata": {},
   "outputs": [
    {
     "name": "stdout",
     "output_type": "stream",
     "text": [
      "2021-01-01 00:00:00\n",
      "2021-01-01 00:00:00\n",
      "2021-01-01 00:00:00\n"
     ]
    }
   ],
   "source": [
    "print(dt1)\n",
    "print(dt2)\n",
    "print(dt3)"
   ]
  },
  {
   "cell_type": "code",
   "execution_count": 7,
   "metadata": {},
   "outputs": [
    {
     "name": "stdout",
     "output_type": "stream",
     "text": [
      "<class 'datetime.datetime'>\n",
      "<class 'pandas._libs.tslibs.timestamps.Timestamp'>\n",
      "<class 'pandas._libs.tslibs.timestamps.Timestamp'>\n"
     ]
    }
   ],
   "source": [
    "print(type(dt1))\n",
    "print(type(dt2))\n",
    "print(type(dt3))"
   ]
  },
  {
   "cell_type": "markdown",
   "metadata": {},
   "source": [
    "And finally, let's see how they compare:"
   ]
  },
  {
   "cell_type": "code",
   "execution_count": 8,
   "metadata": {},
   "outputs": [
    {
     "data": {
      "text/plain": [
       "True"
      ]
     },
     "execution_count": 8,
     "metadata": {},
     "output_type": "execute_result"
    }
   ],
   "source": [
    "dt1 == dt2 == dt3"
   ]
  },
  {
   "cell_type": "code",
   "execution_count": 9,
   "metadata": {},
   "outputs": [
    {
     "data": {
      "text/plain": [
       "True"
      ]
     },
     "execution_count": 9,
     "metadata": {},
     "output_type": "execute_result"
    }
   ],
   "source": [
    "dt.datetime(2021,1,1) == pd.to_datetime('2021-1-1')"
   ]
  },
  {
   "cell_type": "markdown",
   "metadata": {},
   "source": [
    "The isinstance() function checks if the object (first argument) is an instance or subclass of classinfo class (second argument)."
   ]
  },
  {
   "cell_type": "code",
   "execution_count": 11,
   "metadata": {},
   "outputs": [
    {
     "data": {
      "text/plain": [
       "True"
      ]
     },
     "execution_count": 11,
     "metadata": {},
     "output_type": "execute_result"
    }
   ],
   "source": [
    "isinstance(dt2, dt.datetime)"
   ]
  },
  {
   "cell_type": "code",
   "execution_count": 12,
   "metadata": {},
   "outputs": [
    {
     "data": {
      "text/plain": [
       "True"
      ]
     },
     "execution_count": 12,
     "metadata": {},
     "output_type": "execute_result"
    }
   ],
   "source": [
    "isinstance(dt2, pd.Timestamp)"
   ]
  },
  {
   "cell_type": "code",
   "execution_count": 13,
   "metadata": {},
   "outputs": [
    {
     "data": {
      "text/plain": [
       "False"
      ]
     },
     "execution_count": 13,
     "metadata": {},
     "output_type": "execute_result"
    }
   ],
   "source": [
    "isinstance(dt1, pd.Timestamp)"
   ]
  },
  {
   "cell_type": "code",
   "execution_count": 14,
   "metadata": {},
   "outputs": [
    {
     "data": {
      "text/plain": [
       "False"
      ]
     },
     "execution_count": 14,
     "metadata": {},
     "output_type": "execute_result"
    }
   ],
   "source": [
    "isinstance(pd.DatetimeIndex, dt.datetime)"
   ]
  },
  {
   "cell_type": "markdown",
   "metadata": {},
   "source": [
    "You can see from the preceding code that pandas' Timestamp object is equivalent\n",
    "to Python's Datetime object:"
   ]
  },
  {
   "cell_type": "markdown",
   "metadata": {},
   "source": [
    "The issubclass() function checks if the class argument (first argument) is a subclass of classinfo class (second argument).\n",
    "\n"
   ]
  },
  {
   "cell_type": "code",
   "execution_count": 15,
   "metadata": {},
   "outputs": [
    {
     "data": {
      "text/plain": [
       "True"
      ]
     },
     "execution_count": 15,
     "metadata": {},
     "output_type": "execute_result"
    }
   ],
   "source": [
    "issubclass(pd.Timestamp, dt.datetime)"
   ]
  },
  {
   "cell_type": "markdown",
   "metadata": {},
   "source": [
    "Note that dt2 is an instance of pandas.Timestamp class, and the Timestamp\n",
    "class is a subclass of Python's dt.datetime class (but not vice versa)."
   ]
  },
  {
   "cell_type": "markdown",
   "metadata": {},
   "source": [
    "When you used the pandas.to_datetime() function, it returned\n",
    "a Timestamp object. Now, use pandas.to_datetime() on a list and examine\n",
    "the outcome:"
   ]
  },
  {
   "cell_type": "code",
   "execution_count": 16,
   "metadata": {},
   "outputs": [
    {
     "name": "stdout",
     "output_type": "stream",
     "text": [
      "DatetimeIndex(['2021-01-01', '2021-01-02'], dtype='datetime64[ns]', freq=None)\n",
      "<class 'pandas.core.indexes.datetimes.DatetimeIndex'>\n"
     ]
    }
   ],
   "source": [
    "dates = ['2021-1-1', '2021-1-2']\n",
    "pd_dates = pd.to_datetime(dates)\n",
    "print(pd_dates)\n",
    "print(type(pd_dates))"
   ]
  },
  {
   "cell_type": "code",
   "execution_count": 17,
   "metadata": {},
   "outputs": [
    {
     "data": {
      "text/plain": [
       "True"
      ]
     },
     "execution_count": 17,
     "metadata": {},
     "output_type": "execute_result"
    }
   ],
   "source": [
    "isinstance(pd_dates[0], pd.Timestamp)"
   ]
  },
  {
   "cell_type": "code",
   "execution_count": 18,
   "metadata": {},
   "outputs": [
    {
     "name": "stdout",
     "output_type": "stream",
     "text": [
      "2021-01-01 00:00:00\n",
      "<class 'pandas._libs.tslibs.timestamps.Timestamp'>\n"
     ]
    }
   ],
   "source": [
    "print(pd_dates[0])\n",
    "print(type(pd_dates[0]))"
   ]
  },
  {
   "cell_type": "markdown",
   "metadata": {},
   "source": [
    "From the preceding output, you can infer a relationship between the two classes:\n",
    "DatetimeIndex and Timestamp. A DatetimeIndex is a sequence (list) of\n",
    "Timestamp objects."
   ]
  },
  {
   "cell_type": "markdown",
   "metadata": {},
   "source": [
    "Now that you know how to create a DatetimeIndex using the pandas.to_\n",
    "datetime() function, let's further expand on this and see what else you can do\n",
    "with the function. For example, you will see how simple it is to convert different\n",
    "datetime representations, including strings, integers, lists, pandas series, or other\n",
    "datetime objects, into a DatetimeIndex.\n",
    "\n",
    "Let's create a dates list:"
   ]
  },
  {
   "cell_type": "code",
   "execution_count": 20,
   "metadata": {},
   "outputs": [],
   "source": [
    "dates = ['2021-01-01', # date str format %Y-%m-%d  #\n",
    "         '2/1/2021',  # date str format %m/%d/%Y\n",
    "         '03-01-2021', # date  str format %m-%d-%Y\n",
    "         'April 1, 2021', # date  str format %B %d, %Y\n",
    "         '20210501', # date str format %Y%m%d\n",
    "          np.datetime64('2021-07-01'), # numpy datetime64\n",
    "          dt.datetime(2021, 8, 1), # python datetime\n",
    "          pd.Timestamp(2021,9,1) # pandas Timestamp\n",
    "          ]"
   ]
  },
  {
   "cell_type": "code",
   "execution_count": 21,
   "metadata": {},
   "outputs": [
    {
     "name": "stdout",
     "output_type": "stream",
     "text": [
      "DatetimeIndex(['2021-01-01', '2021-02-01', '2021-03-01', '2021-04-01',\n",
      "               '2021-05-01', '2021-07-01', '2021-08-01', '2021-09-01'],\n",
      "              dtype='datetime64[ns]', freq=None)\n"
     ]
    }
   ],
   "source": [
    "parsed_dates = pd.to_datetime(dates,infer_datetime_format=True,errors='coerce')\n",
    "\n",
    "print(parsed_dates) #(Learn more about NaT)"
   ]
  },
  {
   "cell_type": "markdown",
   "metadata": {},
   "source": [
    "You could have used the DatetimeIndex\n",
    "constructor directly, as follows:"
   ]
  },
  {
   "cell_type": "code",
   "execution_count": 22,
   "metadata": {},
   "outputs": [
    {
     "data": {
      "text/plain": [
       "DatetimeIndex(['2021-01-01', '2021-02-01', '2021-03-01', '2021-04-01',\n",
       "               '2021-05-01', '2021-07-01', '2021-08-01', '2021-09-01'],\n",
       "              dtype='datetime64[ns]', freq=None)"
      ]
     },
     "execution_count": 22,
     "metadata": {},
     "output_type": "execute_result"
    }
   ],
   "source": [
    "pd.DatetimeIndex(dates)"
   ]
  },
  {
   "cell_type": "code",
   "execution_count": 23,
   "metadata": {},
   "outputs": [
    {
     "data": {
      "text/plain": [
       "array([ True,  True,  True,  True,  True,  True,  True,  True])"
      ]
     },
     "execution_count": 23,
     "metadata": {},
     "output_type": "execute_result"
    }
   ],
   "source": [
    "pd.DatetimeIndex(dates) == parsed_dates"
   ]
  },
  {
   "cell_type": "code",
   "execution_count": 25,
   "metadata": {},
   "outputs": [
    {
     "data": {
      "text/plain": [
       "DatetimeIndex(['2021-01-01', '2021-02-01', '2021-03-01', '2021-04-01',\n",
       "               '2021-05-01', '2021-07-01', '2021-08-01', '2021-09-01'],\n",
       "              dtype='datetime64[ns]', freq=None)"
      ]
     },
     "execution_count": 25,
     "metadata": {},
     "output_type": "execute_result"
    }
   ],
   "source": [
    "parsed_dates = pd.DatetimeIndex(dates)\n",
    "parsed_dates"
   ]
  },
  {
   "cell_type": "markdown",
   "metadata": {},
   "source": [
    "The DatetimeIndex object gives access to many useful properties and methods\n",
    "to extract additional date and time properties. As an example, you can extract\n",
    "day_name, month, year, days_in_month, quarter, is_quarter_start,\n",
    "is_leap_year, is_month_start, is_month_end, and is_year_start.\n",
    "The following code shows how this can be done:"
   ]
  },
  {
   "cell_type": "code",
   "execution_count": 27,
   "metadata": {},
   "outputs": [
    {
     "name": "stdout",
     "output_type": "stream",
     "text": [
      "Name of Day : Index(['Friday', 'Monday', 'Monday', 'Thursday', 'Saturday', 'Thursday',\n",
      "       'Sunday', 'Wednesday'],\n",
      "      dtype='object')\n",
      "Month : Int64Index([1, 2, 3, 4, 5, 7, 8, 9], dtype='int64')\n",
      "Year : Int64Index([2021, 2021, 2021, 2021, 2021, 2021, 2021, 2021], dtype='int64')\n",
      "Days in Month : Int64Index([31, 28, 31, 30, 31, 31, 31, 30], dtype='int64')\n",
      "Quarter Int64Index([1, 1, 1, 2, 2, 3, 3, 3], dtype='int64')\n",
      "Quarter Start : [ True False False  True False  True False False]\n",
      "Leap Year : [False False False False False False False False]\n",
      "Month Start : [ True  True  True  True  True  True  True  True]\n",
      "Month End : [False False False False False False False False]\n",
      "Year Start : [ True False False False False False False False]\n"
     ]
    }
   ],
   "source": [
    "print(f'Name of Day : {parsed_dates.day_name()}')\n",
    "print(f'Month : {parsed_dates.month}')\n",
    "print(f'Year : {parsed_dates.year}')\n",
    "print(f'Days in Month : {parsed_dates.days_in_month}')\n",
    "print(f'Quarter {parsed_dates.quarter}')\n",
    "print(f'Quarter Start : {parsed_dates.is_quarter_start}')\n",
    "print(f'Leap Year : {parsed_dates.is_leap_year}')\n",
    "print(f'Month Start : {parsed_dates.is_month_start}')\n",
    "print(f'Month End : {parsed_dates.is_month_end}')\n",
    "print(f'Year Start : {parsed_dates.is_year_start}')"
   ]
  },
  {
   "cell_type": "markdown",
   "metadata": {},
   "source": [
    "## How it works"
   ]
  },
  {
   "cell_type": "markdown",
   "metadata": {},
   "source": [
    "The to_datetime function contains the errors parameter. In the previous example,\n",
    "you specify errors='coerce' which instructs pandas to set any value it could not\n",
    "parse as NaT indicating a missing value."
   ]
  },
  {
   "cell_type": "markdown",
   "metadata": {},
   "source": [
    "The errors parameter in to_datetime can take one of the three valid string options:\n",
    "* raise, which means it will raise an exception (error out).\n",
    "* coerce will not cause it to raise an exception. Instead, it will just replace pd.NaT,\n",
    "indicating a missing datetime value.\n",
    "* ignore will also not cause it to raise an exception. Instead, it will just pass in the\n",
    "original value.\n",
    "\n",
    "Here is an example using the ignore value:"
   ]
  },
  {
   "cell_type": "code",
   "execution_count": 28,
   "metadata": {},
   "outputs": [
    {
     "data": {
      "text/plain": [
       "Index(['something 2021', 'Jan 1, 2021'], dtype='object')"
      ]
     },
     "execution_count": 28,
     "metadata": {},
     "output_type": "execute_result"
    }
   ],
   "source": [
    "example = pd.to_datetime(['something 2021', 'Jan 1, 2021'], errors='ignore')\n",
    "example"
   ]
  },
  {
   "cell_type": "code",
   "execution_count": 29,
   "metadata": {},
   "outputs": [
    {
     "data": {
      "text/plain": [
       "2"
      ]
     },
     "execution_count": 29,
     "metadata": {},
     "output_type": "execute_result"
    }
   ],
   "source": [
    "len(example)"
   ]
  },
  {
   "cell_type": "code",
   "execution_count": 30,
   "metadata": {},
   "outputs": [
    {
     "data": {
      "text/plain": [
       "pandas.core.indexes.base.Index"
      ]
     },
     "execution_count": 30,
     "metadata": {},
     "output_type": "execute_result"
    }
   ],
   "source": [
    "type(example)"
   ]
  },
  {
   "cell_type": "markdown",
   "metadata": {},
   "source": [
    "## There is more"
   ]
  },
  {
   "cell_type": "markdown",
   "metadata": {},
   "source": [
    "An alternate way to generate a of DatetimeIndex is with the **pandas.date_\n",
    "range()** function. The following code provides a starting date and the number of\n",
    "periods to generate and specifies a daily frequency with D:"
   ]
  },
  {
   "cell_type": "code",
   "execution_count": 31,
   "metadata": {},
   "outputs": [
    {
     "data": {
      "text/plain": [
       "DatetimeIndex(['2021-01-01', '2021-01-02', '2021-01-03'], dtype='datetime64[ns]', freq='D')"
      ]
     },
     "execution_count": 31,
     "metadata": {},
     "output_type": "execute_result"
    }
   ],
   "source": [
    "pd.date_range(start='2021-01-01', periods=3, freq='D')"
   ]
  },
  {
   "cell_type": "code",
   "execution_count": 33,
   "metadata": {},
   "outputs": [
    {
     "data": {
      "text/plain": [
       "DatetimeIndex(['2021-01-01', '2021-01-02', '2021-01-03'], dtype='datetime64[ns]', freq='D')"
      ]
     },
     "execution_count": 33,
     "metadata": {},
     "output_type": "execute_result"
    }
   ],
   "source": [
    "pd.date_range(start='2021-01-01',\n",
    "               end='2021-01-03',\n",
    "               freq='D')"
   ]
  },
  {
   "cell_type": "markdown",
   "metadata": {},
   "source": [
    "pandas.date_range() requires at least three of the four parameters to be provided –\n",
    "**start, end, periods, and freq**. If you do not provide enough information, you will\n",
    "get a **ValueError** exception with the following message:"
   ]
  },
  {
   "cell_type": "code",
   "execution_count": 155,
   "metadata": {},
   "outputs": [],
   "source": [
    "# Example of error\n",
    "\n",
    "#pd.date_range(start='2021-01-01',\n",
    "#                freq='D')"
   ]
  },
  {
   "cell_type": "markdown",
   "metadata": {},
   "source": [
    "Note, the pd.date_range() function can work with a minimum of two parameters\n",
    "if the information is sufficient to generate equally spaced time points and infer the missing\n",
    "parameters\n",
    "With start and periods, pandas has enough information to construct the date\n",
    "sequence and default to daily frequency."
   ]
  },
  {
   "cell_type": "code",
   "execution_count": 34,
   "metadata": {},
   "outputs": [
    {
     "data": {
      "text/plain": [
       "DatetimeIndex(['2021-01-01', '2021-01-02', '2021-01-03'], dtype='datetime64[ns]', freq='D')"
      ]
     },
     "execution_count": 34,
     "metadata": {},
     "output_type": "execute_result"
    }
   ],
   "source": [
    "pd.date_range(start='2021-01-01',\n",
    "               periods=3)"
   ]
  },
  {
   "cell_type": "markdown",
   "metadata": {},
   "source": [
    "# See Also(Optional)"
   ]
  },
  {
   "cell_type": "markdown",
   "metadata": {},
   "source": [
    "To learn more about pandas' to_datetime() function and the DatetimeIndex class,\n",
    "please check out these resources:\n",
    "* pandas.DatetimeIndex documentation: https://pandas.pydata.org/docs/reference/api/pandas.DatetimeIndex.html\n",
    "* pandas.to_datetime documentation: https://pandas.pydata.org/docs/reference/api/pandas.to_datetime.html"
   ]
  },
  {
   "cell_type": "markdown",
   "metadata": {},
   "source": [
    "# Recipe 2: Providing a format argument to DateTime"
   ]
  },
  {
   "cell_type": "markdown",
   "metadata": {},
   "source": [
    "When working with datasets extracted from different data sources, you may encounter\n",
    "date columns stored in string format, whether from files or databases. In the previous\n",
    "recipe, Working with **DatetimeIndex**, you explored the pandas.to_datetime()\n",
    "function that can parse various date formats with minimal input. However, you will want\n",
    "more granular control to ensure that the date is parsed correctly. For example, you will\n",
    "now be introduced to the **strptime** and **strftime** methods and see how you can\n",
    "specify formatting in **pandas.to_datetime()** to handle different date formats.\n",
    "\n",
    "In this recipe, you will learn how to parse strings that represent dates to a datetime\n",
    "or date object (an instance of the class datetime.datetime or datetime.date)."
   ]
  },
  {
   "cell_type": "markdown",
   "metadata": {},
   "source": [
    "Python's datetime module contains the **strptime()** method to create datetime\n",
    "or date from a string that contains a date. You will first explore how you can do this in\n",
    "Python and then extend this to pandas:"
   ]
  },
  {
   "cell_type": "code",
   "execution_count": 35,
   "metadata": {},
   "outputs": [
    {
     "data": {
      "text/plain": [
       "datetime.datetime(2022, 1, 1, 0, 0)"
      ]
     },
     "execution_count": 35,
     "metadata": {},
     "output_type": "execute_result"
    }
   ],
   "source": [
    "dt.datetime.strptime('1/1/2022', '%m/%d/%Y')"
   ]
  },
  {
   "cell_type": "markdown",
   "metadata": {},
   "source": [
    "Note that the output is a datetime object, representing the year, month, day, hour,\n",
    "and minute. You can specify only the date representation, as follows:"
   ]
  },
  {
   "cell_type": "code",
   "execution_count": 36,
   "metadata": {},
   "outputs": [
    {
     "data": {
      "text/plain": [
       "datetime.date(2022, 1, 1)"
      ]
     },
     "execution_count": 36,
     "metadata": {},
     "output_type": "execute_result"
    }
   ],
   "source": [
    "dt.datetime.strptime('1/1/2022', '%m/%d/%Y').date()"
   ]
  },
  {
   "cell_type": "code",
   "execution_count": 37,
   "metadata": {},
   "outputs": [
    {
     "data": {
      "text/plain": [
       "datetime.date(2022, 1, 1)"
      ]
     },
     "execution_count": 37,
     "metadata": {},
     "output_type": "execute_result"
    }
   ],
   "source": [
    "dt.datetime.strptime('1 January, 2022', '%d %B, %Y').date()"
   ]
  },
  {
   "cell_type": "code",
   "execution_count": 38,
   "metadata": {},
   "outputs": [
    {
     "data": {
      "text/plain": [
       "datetime.date(2022, 1, 1)"
      ]
     },
     "execution_count": 38,
     "metadata": {},
     "output_type": "execute_result"
    }
   ],
   "source": [
    "dt.datetime.strptime('1-Jan-2022', '%d-%b-%Y').date()"
   ]
  },
  {
   "cell_type": "code",
   "execution_count": 39,
   "metadata": {},
   "outputs": [
    {
     "data": {
      "text/plain": [
       "datetime.date(2022, 1, 1)"
      ]
     },
     "execution_count": 39,
     "metadata": {},
     "output_type": "execute_result"
    }
   ],
   "source": [
    "dt.datetime.strptime('Saturday, January 1, 2022', '%A, %B %d, %Y').date()"
   ]
  },
  {
   "cell_type": "code",
   "execution_count": 40,
   "metadata": {},
   "outputs": [
    {
     "data": {
      "text/plain": [
       "'2022-01-01 00:00:00'"
      ]
     },
     "execution_count": 40,
     "metadata": {},
     "output_type": "execute_result"
    }
   ],
   "source": [
    "dt_1 = dt.datetime.strptime('1/1/2022', '%m/%d/%Y')\n",
    "dt_1.__str__()\n",
    "str(dt_1)"
   ]
  },
  {
   "cell_type": "code",
   "execution_count": 41,
   "metadata": {},
   "outputs": [
    {
     "name": "stdout",
     "output_type": "stream",
     "text": [
      "2022-01-01 00:00:00\n"
     ]
    }
   ],
   "source": [
    "print(dt_1)"
   ]
  },
  {
   "cell_type": "markdown",
   "metadata": {},
   "source": [
    "Using `pandas.to_datetime()`"
   ]
  },
  {
   "cell_type": "markdown",
   "metadata": {},
   "source": [
    "Now, let's compare what you did using the **datetime.strptime** method using\n",
    "**pandas.to_datetime** method:"
   ]
  },
  {
   "cell_type": "code",
   "execution_count": 42,
   "metadata": {},
   "outputs": [
    {
     "data": {
      "text/plain": [
       "Timestamp('2022-01-01 00:00:00')"
      ]
     },
     "execution_count": 42,
     "metadata": {},
     "output_type": "execute_result"
    }
   ],
   "source": [
    "pd.to_datetime('1/1/2022', format='%m/%d/%Y')"
   ]
  },
  {
   "cell_type": "code",
   "execution_count": 43,
   "metadata": {},
   "outputs": [
    {
     "data": {
      "text/plain": [
       "Timestamp('2022-01-01 00:00:00')"
      ]
     },
     "execution_count": 43,
     "metadata": {},
     "output_type": "execute_result"
    }
   ],
   "source": [
    "pd.to_datetime('1 January, 2022', format='%d %B, %Y')"
   ]
  },
  {
   "cell_type": "code",
   "execution_count": 44,
   "metadata": {},
   "outputs": [
    {
     "data": {
      "text/plain": [
       "Timestamp('2022-01-01 00:00:00')"
      ]
     },
     "execution_count": 44,
     "metadata": {},
     "output_type": "execute_result"
    }
   ],
   "source": [
    "pd.to_datetime('1-Jan-2022', format='%d-%b-%Y')"
   ]
  },
  {
   "cell_type": "code",
   "execution_count": 45,
   "metadata": {},
   "outputs": [
    {
     "data": {
      "text/plain": [
       "Timestamp('2022-01-01 00:00:00')"
      ]
     },
     "execution_count": 45,
     "metadata": {},
     "output_type": "execute_result"
    }
   ],
   "source": [
    "pd.to_datetime('Saturday, January 1, 2022', format='%A, %B %d, %Y')"
   ]
  },
  {
   "cell_type": "code",
   "execution_count": 46,
   "metadata": {},
   "outputs": [
    {
     "name": "stdout",
     "output_type": "stream",
     "text": [
      "2022-01-01 00:00:00\n"
     ]
    }
   ],
   "source": [
    "dt_2 = pd.to_datetime('1/1/2022', format='%m/%d/%Y')\n",
    "print(dt_2)"
   ]
  },
  {
   "cell_type": "code",
   "execution_count": 47,
   "metadata": {},
   "outputs": [
    {
     "data": {
      "text/plain": [
       "Timestamp('2022-01-01 00:00:00')"
      ]
     },
     "execution_count": 47,
     "metadata": {},
     "output_type": "execute_result"
    }
   ],
   "source": [
    "pd.to_datetime('1-Jan-2022')"
   ]
  },
  {
   "cell_type": "code",
   "execution_count": 48,
   "metadata": {},
   "outputs": [
    {
     "data": {
      "text/plain": [
       "Timestamp('2022-01-01 00:00:00')"
      ]
     },
     "execution_count": 48,
     "metadata": {},
     "output_type": "execute_result"
    }
   ],
   "source": [
    "pd.to_datetime('Saturday, January 1, 2022')"
   ]
  },
  {
   "cell_type": "code",
   "execution_count": 49,
   "metadata": {},
   "outputs": [
    {
     "data": {
      "text/plain": [
       "'2022-01-01 00:00:00'"
      ]
     },
     "execution_count": 49,
     "metadata": {},
     "output_type": "execute_result"
    }
   ],
   "source": [
    "str(dt_2)\n",
    "dt_2.__str__()"
   ]
  },
  {
   "cell_type": "code",
   "execution_count": 50,
   "metadata": {},
   "outputs": [
    {
     "data": {
      "text/plain": [
       "True"
      ]
     },
     "execution_count": 50,
     "metadata": {},
     "output_type": "execute_result"
    }
   ],
   "source": [
    "dt_1 == dt_2"
   ]
  },
  {
   "cell_type": "code",
   "execution_count": 51,
   "metadata": {},
   "outputs": [
    {
     "data": {
      "text/plain": [
       "datetime.date(2022, 1, 1)"
      ]
     },
     "execution_count": 51,
     "metadata": {},
     "output_type": "execute_result"
    }
   ],
   "source": [
    "dt_1.date()"
   ]
  },
  {
   "cell_type": "code",
   "execution_count": 174,
   "metadata": {},
   "outputs": [
    {
     "data": {
      "text/plain": [
       "datetime.date(2022, 1, 1)"
      ]
     },
     "execution_count": 174,
     "metadata": {},
     "output_type": "execute_result"
    }
   ],
   "source": [
    "dt_2.date()"
   ]
  },
  {
   "cell_type": "code",
   "execution_count": 52,
   "metadata": {},
   "outputs": [
    {
     "data": {
      "text/plain": [
       "pandas._libs.tslibs.timestamps.Timestamp"
      ]
     },
     "execution_count": 52,
     "metadata": {},
     "output_type": "execute_result"
    }
   ],
   "source": [
    "type(dt_1)\n",
    "type(dt_2)"
   ]
  },
  {
   "cell_type": "code",
   "execution_count": 53,
   "metadata": {},
   "outputs": [
    {
     "data": {
      "text/plain": [
       "False"
      ]
     },
     "execution_count": 53,
     "metadata": {},
     "output_type": "execute_result"
    }
   ],
   "source": [
    "isinstance(pd.DatetimeIndex, pd.Timestamp)"
   ]
  },
  {
   "cell_type": "code",
   "execution_count": 54,
   "metadata": {},
   "outputs": [
    {
     "data": {
      "text/plain": [
       "True"
      ]
     },
     "execution_count": 54,
     "metadata": {},
     "output_type": "execute_result"
    }
   ],
   "source": [
    "isinstance(dt_1, dt.datetime)"
   ]
  },
  {
   "cell_type": "code",
   "execution_count": 55,
   "metadata": {},
   "outputs": [
    {
     "data": {
      "text/plain": [
       "True"
      ]
     },
     "execution_count": 55,
     "metadata": {},
     "output_type": "execute_result"
    }
   ],
   "source": [
    "isinstance(dt_2, dt.datetime)"
   ]
  },
  {
   "cell_type": "code",
   "execution_count": 56,
   "metadata": {},
   "outputs": [
    {
     "data": {
      "text/plain": [
       "False"
      ]
     },
     "execution_count": 56,
     "metadata": {},
     "output_type": "execute_result"
    }
   ],
   "source": [
    "isinstance(dt_1, pd.Timestamp)"
   ]
  },
  {
   "cell_type": "code",
   "execution_count": 57,
   "metadata": {},
   "outputs": [
    {
     "data": {
      "text/plain": [
       "True"
      ]
     },
     "execution_count": 57,
     "metadata": {},
     "output_type": "execute_result"
    }
   ],
   "source": [
    "isinstance(dt_2, pd.Timestamp)"
   ]
  },
  {
   "cell_type": "code",
   "execution_count": 58,
   "metadata": {},
   "outputs": [
    {
     "data": {
      "text/plain": [
       "True"
      ]
     },
     "execution_count": 58,
     "metadata": {},
     "output_type": "execute_result"
    }
   ],
   "source": [
    "issubclass(pd.Timestamp, dt.datetime)"
   ]
  },
  {
   "cell_type": "markdown",
   "metadata": {},
   "source": [
    "## How it works…\n",
    "In this recipe, you used Python's datetime.datetime and pandas.to_datetime\n",
    "methods to parse dates in string formats. When using datetime, you had to use the\n",
    "dt.datetime.strptime() function to specify the date format representation in the\n",
    "string using format codes (example %d, %B, and %Y).\n",
    "For example, in datetime.strptime('1 January, 2022', '%d %B, %Y'),\n",
    "you provided the %d, %B, and %Y format codes in the exact order and spacing to represent\n",
    "the formatting provided in the string. Let's break this down:\n",
    "\n",
    "* %d indicates that the first value is a zero-padded digit representing the day of the\n",
    "month, followed by a space to display spacing between the digit and the next object.\n",
    "* %B is used to indicate that the second value represents the month's full name. Note\n",
    "that this was followed by a comma (,) to describe the exact format in the string, for\n",
    "example \"January,\". Therefore, it is crucial to match the format in the strings\n",
    "you are parsing to include any commas, hyphens, backslashes, spaces, or whichever\n",
    "separator characters are used.\n",
    "* To adhere to the string format, there is a space after the comma (,), followed by %Y\n",
    "to reflect the last value represents a four-digit year."
   ]
  },
  {
   "cell_type": "markdown",
   "metadata": {},
   "source": [
    "Recall that you used pandas.to_datetime() to parse the same string objects as\n",
    "with dt.datetime.strptime(). The biggest difference is that the pandas function\n",
    "can accurately parse the strings without explicitly providing an argument to the format\n",
    "parameter. That is one of many advantages of using pandas for time-series analysis,\n",
    "especially when handling complex date and datetime scenarios"
   ]
  },
  {
   "cell_type": "markdown",
   "metadata": {},
   "source": [
    "## There is more"
   ]
  },
  {
   "cell_type": "markdown",
   "metadata": {},
   "source": [
    "Now you know how to use pandas.to_datetime() to parse string objects to\n",
    "datetime. So, let's see how you can apply this knowledge to transform a DataFrame\n",
    "column that contains date information in string format to a datetime data type.\n",
    "\n",
    "In the following code, you will create a small DataFrame:"
   ]
  },
  {
   "cell_type": "code",
   "execution_count": 59,
   "metadata": {},
   "outputs": [
    {
     "data": {
      "text/html": [
       "<div>\n",
       "<style scoped>\n",
       "    .dataframe tbody tr th:only-of-type {\n",
       "        vertical-align: middle;\n",
       "    }\n",
       "\n",
       "    .dataframe tbody tr th {\n",
       "        vertical-align: top;\n",
       "    }\n",
       "\n",
       "    .dataframe thead th {\n",
       "        text-align: right;\n",
       "    }\n",
       "</style>\n",
       "<table border=\"1\" class=\"dataframe\">\n",
       "  <thead>\n",
       "    <tr style=\"text-align: right;\">\n",
       "      <th></th>\n",
       "      <th>Date</th>\n",
       "      <th>Sales</th>\n",
       "    </tr>\n",
       "  </thead>\n",
       "  <tbody>\n",
       "    <tr>\n",
       "      <th>0</th>\n",
       "      <td>January 1, 2022</td>\n",
       "      <td>23000</td>\n",
       "    </tr>\n",
       "    <tr>\n",
       "      <th>1</th>\n",
       "      <td>January 2, 2022</td>\n",
       "      <td>19020</td>\n",
       "    </tr>\n",
       "    <tr>\n",
       "      <th>2</th>\n",
       "      <td>January 3, 2022</td>\n",
       "      <td>21000</td>\n",
       "    </tr>\n",
       "  </tbody>\n",
       "</table>\n",
       "</div>"
      ],
      "text/plain": [
       "              Date  Sales\n",
       "0  January 1, 2022  23000\n",
       "1  January 2, 2022  19020\n",
       "2  January 3, 2022  21000"
      ]
     },
     "execution_count": 59,
     "metadata": {},
     "output_type": "execute_result"
    }
   ],
   "source": [
    "df = pd.DataFrame(\n",
    "        {'Date': ['January 1, 2022', 'January 2, 2022', 'January 3, 2022'],\n",
    "         'Sales': [23000, 19020, 21000]}\n",
    "            )\n",
    "df"
   ]
  },
  {
   "cell_type": "code",
   "execution_count": 61,
   "metadata": {},
   "outputs": [
    {
     "name": "stdout",
     "output_type": "stream",
     "text": [
      "<class 'pandas.core.frame.DataFrame'>\n",
      "RangeIndex: 3 entries, 0 to 2\n",
      "Data columns (total 2 columns):\n",
      " #   Column  Non-Null Count  Dtype \n",
      "---  ------  --------------  ----- \n",
      " 0   Date    3 non-null      object\n",
      " 1   Sales   3 non-null      int64 \n",
      "dtypes: int64(1), object(1)\n",
      "memory usage: 176.0+ bytes\n"
     ]
    }
   ],
   "source": [
    "df.info()"
   ]
  },
  {
   "cell_type": "markdown",
   "metadata": {},
   "source": [
    "To update the DataFrame to include a DatetimeIndex, you will parse the Date column to\n",
    "datetime and then assign it as an index to the DataFrame:"
   ]
  },
  {
   "cell_type": "code",
   "execution_count": 184,
   "metadata": {},
   "outputs": [
    {
     "name": "stdout",
     "output_type": "stream",
     "text": [
      "<class 'pandas.core.frame.DataFrame'>\n",
      "DatetimeIndex: 3 entries, 2022-01-01 to 2022-01-03\n",
      "Data columns (total 1 columns):\n",
      " #   Column  Non-Null Count  Dtype\n",
      "---  ------  --------------  -----\n",
      " 0   Sales   3 non-null      int64\n",
      "dtypes: int64(1)\n",
      "memory usage: 48.0 bytes\n"
     ]
    }
   ],
   "source": [
    "df['Date'] = pd.to_datetime(df['Date'])\n",
    "df.set_index('Date', inplace=True)\n",
    "df.info()"
   ]
  },
  {
   "cell_type": "markdown",
   "metadata": {},
   "source": [
    "Note how the index is now of the DatetimeIndex type, and there is only one column in\n",
    "the DataFrame (Sales), since Date is now an index."
   ]
  },
  {
   "cell_type": "markdown",
   "metadata": {},
   "source": [
    "Before Diving into further recipes , Let's have a brief idea about **UTC**\n",
    "\n",
    "Many databases, applications, and systems store dates and time in numeric format,\n",
    "making it mathematically easier to work with, convert, increment, decrement, and so on.\n",
    "**UTC**, which stands for Universal\n",
    "Time Coordinated , is a clear choice when building applications used globally,\n",
    "making it easier to store dates and timestamps in a standardized format. This makes it\n",
    "easier to work with dates and time without worrying about daylight saving or different\n",
    "time zones around the globe. UTC is the standard international time used in aviation\n",
    "systems, weather forecast systems, the International Space Station, and so on."
   ]
  },
  {
   "cell_type": "markdown",
   "metadata": {},
   "source": [
    "# Recipe 3: Working with Time Deltas"
   ]
  },
  {
   "cell_type": "markdown",
   "metadata": {},
   "source": [
    "When working with time-series data, you may need to perform some calculations on\n",
    "your datetime columns, such as adding or subtracting. Examples can include adding 30\n",
    "days to purchase datetime to determine when the return policy expires for a product\n",
    "or when a warranty ends. For example, the Timedelta class makes it possible to derive\n",
    "new datetime objects by adding or subtracting at different ranges or increments, such as\n",
    "seconds, daily, and weekly. This includes time zone-aware calculations."
   ]
  },
  {
   "cell_type": "markdown",
   "metadata": {},
   "source": [
    "In this recipe, you will work with hypothetical sales data for a retail store. You will\n",
    "generate the sales DataFrame, which will contain items purchased from the store and the\n",
    "purchase date. You will then explore different scenarios using the **Timedelta** class and\n",
    "the **to_timedelta()** function:"
   ]
  },
  {
   "cell_type": "markdown",
   "metadata": {},
   "source": [
    "You start by creating a DataFrame with two columns,\n",
    "item and purchase_dt, which will be standardized to UTC: "
   ]
  },
  {
   "cell_type": "code",
   "execution_count": 62,
   "metadata": {},
   "outputs": [
    {
     "data": {
      "text/html": [
       "<div>\n",
       "<style scoped>\n",
       "    .dataframe tbody tr th:only-of-type {\n",
       "        vertical-align: middle;\n",
       "    }\n",
       "\n",
       "    .dataframe tbody tr th {\n",
       "        vertical-align: top;\n",
       "    }\n",
       "\n",
       "    .dataframe thead th {\n",
       "        text-align: right;\n",
       "    }\n",
       "</style>\n",
       "<table border=\"1\" class=\"dataframe\">\n",
       "  <thead>\n",
       "    <tr style=\"text-align: right;\">\n",
       "      <th></th>\n",
       "      <th>item</th>\n",
       "      <th>purchase_dt</th>\n",
       "    </tr>\n",
       "  </thead>\n",
       "  <tbody>\n",
       "    <tr>\n",
       "      <th>0</th>\n",
       "      <td>item1</td>\n",
       "      <td>2021-01-01 00:00:00+00:00</td>\n",
       "    </tr>\n",
       "    <tr>\n",
       "      <th>1</th>\n",
       "      <td>item2</td>\n",
       "      <td>2021-01-02 00:00:00+00:00</td>\n",
       "    </tr>\n",
       "    <tr>\n",
       "      <th>2</th>\n",
       "      <td>item3</td>\n",
       "      <td>2021-01-03 00:00:00+00:00</td>\n",
       "    </tr>\n",
       "    <tr>\n",
       "      <th>3</th>\n",
       "      <td>item4</td>\n",
       "      <td>2021-01-04 00:00:00+00:00</td>\n",
       "    </tr>\n",
       "    <tr>\n",
       "      <th>4</th>\n",
       "      <td>item5</td>\n",
       "      <td>2021-01-05 00:00:00+00:00</td>\n",
       "    </tr>\n",
       "    <tr>\n",
       "      <th>5</th>\n",
       "      <td>item6</td>\n",
       "      <td>2021-01-06 00:00:00+00:00</td>\n",
       "    </tr>\n",
       "  </tbody>\n",
       "</table>\n",
       "</div>"
      ],
      "text/plain": [
       "    item               purchase_dt\n",
       "0  item1 2021-01-01 00:00:00+00:00\n",
       "1  item2 2021-01-02 00:00:00+00:00\n",
       "2  item3 2021-01-03 00:00:00+00:00\n",
       "3  item4 2021-01-04 00:00:00+00:00\n",
       "4  item5 2021-01-05 00:00:00+00:00\n",
       "5  item6 2021-01-06 00:00:00+00:00"
      ]
     },
     "execution_count": 62,
     "metadata": {},
     "output_type": "execute_result"
    }
   ],
   "source": [
    "df = pd.DataFrame(\n",
    "        {       \n",
    "        'item': ['item1', 'item2', 'item3', 'item4', 'item5', 'item6'],\n",
    "        'purchase_dt': pd.date_range('2021-01-01', periods=6, freq='D', tz='UTC') #(tz= time zone)#\n",
    "        }\n",
    ")\n",
    "df"
   ]
  },
  {
   "cell_type": "markdown",
   "metadata": {},
   "source": [
    "Add another datetime column to represent the expiration date, which is 30 days\n",
    "from the purchase date:"
   ]
  },
  {
   "cell_type": "code",
   "execution_count": 63,
   "metadata": {},
   "outputs": [
    {
     "data": {
      "text/html": [
       "<div>\n",
       "<style scoped>\n",
       "    .dataframe tbody tr th:only-of-type {\n",
       "        vertical-align: middle;\n",
       "    }\n",
       "\n",
       "    .dataframe tbody tr th {\n",
       "        vertical-align: top;\n",
       "    }\n",
       "\n",
       "    .dataframe thead th {\n",
       "        text-align: right;\n",
       "    }\n",
       "</style>\n",
       "<table border=\"1\" class=\"dataframe\">\n",
       "  <thead>\n",
       "    <tr style=\"text-align: right;\">\n",
       "      <th></th>\n",
       "      <th>item</th>\n",
       "      <th>purchase_dt</th>\n",
       "      <th>expiration_dt</th>\n",
       "    </tr>\n",
       "  </thead>\n",
       "  <tbody>\n",
       "    <tr>\n",
       "      <th>0</th>\n",
       "      <td>item1</td>\n",
       "      <td>2021-01-01 00:00:00+00:00</td>\n",
       "      <td>2021-01-31 00:00:00+00:00</td>\n",
       "    </tr>\n",
       "    <tr>\n",
       "      <th>1</th>\n",
       "      <td>item2</td>\n",
       "      <td>2021-01-02 00:00:00+00:00</td>\n",
       "      <td>2021-02-01 00:00:00+00:00</td>\n",
       "    </tr>\n",
       "    <tr>\n",
       "      <th>2</th>\n",
       "      <td>item3</td>\n",
       "      <td>2021-01-03 00:00:00+00:00</td>\n",
       "      <td>2021-02-02 00:00:00+00:00</td>\n",
       "    </tr>\n",
       "    <tr>\n",
       "      <th>3</th>\n",
       "      <td>item4</td>\n",
       "      <td>2021-01-04 00:00:00+00:00</td>\n",
       "      <td>2021-02-03 00:00:00+00:00</td>\n",
       "    </tr>\n",
       "    <tr>\n",
       "      <th>4</th>\n",
       "      <td>item5</td>\n",
       "      <td>2021-01-05 00:00:00+00:00</td>\n",
       "      <td>2021-02-04 00:00:00+00:00</td>\n",
       "    </tr>\n",
       "    <tr>\n",
       "      <th>5</th>\n",
       "      <td>item6</td>\n",
       "      <td>2021-01-06 00:00:00+00:00</td>\n",
       "      <td>2021-02-05 00:00:00+00:00</td>\n",
       "    </tr>\n",
       "  </tbody>\n",
       "</table>\n",
       "</div>"
      ],
      "text/plain": [
       "    item               purchase_dt             expiration_dt\n",
       "0  item1 2021-01-01 00:00:00+00:00 2021-01-31 00:00:00+00:00\n",
       "1  item2 2021-01-02 00:00:00+00:00 2021-02-01 00:00:00+00:00\n",
       "2  item3 2021-01-03 00:00:00+00:00 2021-02-02 00:00:00+00:00\n",
       "3  item4 2021-01-04 00:00:00+00:00 2021-02-03 00:00:00+00:00\n",
       "4  item5 2021-01-05 00:00:00+00:00 2021-02-04 00:00:00+00:00\n",
       "5  item6 2021-01-06 00:00:00+00:00 2021-02-05 00:00:00+00:00"
      ]
     },
     "execution_count": 63,
     "metadata": {},
     "output_type": "execute_result"
    }
   ],
   "source": [
    "df['expiration_dt'] = df['purchase_dt'] + pd.Timedelta(days=30)\n",
    "df"
   ]
  },
  {
   "cell_type": "markdown",
   "metadata": {},
   "source": [
    "Now, assume you are asked to create a special extended date for return, and this one\n",
    "is set at 35 days, 12 hours, and 30 minutes from the purchase date:"
   ]
  },
  {
   "cell_type": "code",
   "execution_count": 64,
   "metadata": {},
   "outputs": [
    {
     "data": {
      "text/html": [
       "<div>\n",
       "<style scoped>\n",
       "    .dataframe tbody tr th:only-of-type {\n",
       "        vertical-align: middle;\n",
       "    }\n",
       "\n",
       "    .dataframe tbody tr th {\n",
       "        vertical-align: top;\n",
       "    }\n",
       "\n",
       "    .dataframe thead th {\n",
       "        text-align: right;\n",
       "    }\n",
       "</style>\n",
       "<table border=\"1\" class=\"dataframe\">\n",
       "  <thead>\n",
       "    <tr style=\"text-align: right;\">\n",
       "      <th></th>\n",
       "      <th>item</th>\n",
       "      <th>purchase_dt</th>\n",
       "      <th>expiration_dt</th>\n",
       "      <th>extended_dt</th>\n",
       "    </tr>\n",
       "  </thead>\n",
       "  <tbody>\n",
       "    <tr>\n",
       "      <th>0</th>\n",
       "      <td>item1</td>\n",
       "      <td>2021-01-01 00:00:00+00:00</td>\n",
       "      <td>2021-01-31 00:00:00+00:00</td>\n",
       "      <td>2021-02-05 12:30:00+00:00</td>\n",
       "    </tr>\n",
       "    <tr>\n",
       "      <th>1</th>\n",
       "      <td>item2</td>\n",
       "      <td>2021-01-02 00:00:00+00:00</td>\n",
       "      <td>2021-02-01 00:00:00+00:00</td>\n",
       "      <td>2021-02-06 12:30:00+00:00</td>\n",
       "    </tr>\n",
       "    <tr>\n",
       "      <th>2</th>\n",
       "      <td>item3</td>\n",
       "      <td>2021-01-03 00:00:00+00:00</td>\n",
       "      <td>2021-02-02 00:00:00+00:00</td>\n",
       "      <td>2021-02-07 12:30:00+00:00</td>\n",
       "    </tr>\n",
       "    <tr>\n",
       "      <th>3</th>\n",
       "      <td>item4</td>\n",
       "      <td>2021-01-04 00:00:00+00:00</td>\n",
       "      <td>2021-02-03 00:00:00+00:00</td>\n",
       "      <td>2021-02-08 12:30:00+00:00</td>\n",
       "    </tr>\n",
       "    <tr>\n",
       "      <th>4</th>\n",
       "      <td>item5</td>\n",
       "      <td>2021-01-05 00:00:00+00:00</td>\n",
       "      <td>2021-02-04 00:00:00+00:00</td>\n",
       "      <td>2021-02-09 12:30:00+00:00</td>\n",
       "    </tr>\n",
       "    <tr>\n",
       "      <th>5</th>\n",
       "      <td>item6</td>\n",
       "      <td>2021-01-06 00:00:00+00:00</td>\n",
       "      <td>2021-02-05 00:00:00+00:00</td>\n",
       "      <td>2021-02-10 12:30:00+00:00</td>\n",
       "    </tr>\n",
       "  </tbody>\n",
       "</table>\n",
       "</div>"
      ],
      "text/plain": [
       "    item               purchase_dt             expiration_dt  \\\n",
       "0  item1 2021-01-01 00:00:00+00:00 2021-01-31 00:00:00+00:00   \n",
       "1  item2 2021-01-02 00:00:00+00:00 2021-02-01 00:00:00+00:00   \n",
       "2  item3 2021-01-03 00:00:00+00:00 2021-02-02 00:00:00+00:00   \n",
       "3  item4 2021-01-04 00:00:00+00:00 2021-02-03 00:00:00+00:00   \n",
       "4  item5 2021-01-05 00:00:00+00:00 2021-02-04 00:00:00+00:00   \n",
       "5  item6 2021-01-06 00:00:00+00:00 2021-02-05 00:00:00+00:00   \n",
       "\n",
       "                extended_dt  \n",
       "0 2021-02-05 12:30:00+00:00  \n",
       "1 2021-02-06 12:30:00+00:00  \n",
       "2 2021-02-07 12:30:00+00:00  \n",
       "3 2021-02-08 12:30:00+00:00  \n",
       "4 2021-02-09 12:30:00+00:00  \n",
       "5 2021-02-10 12:30:00+00:00  "
      ]
     },
     "execution_count": 64,
     "metadata": {},
     "output_type": "execute_result"
    }
   ],
   "source": [
    "df['extended_dt'] = df['purchase_dt'] +\\\n",
    "                pd.Timedelta('35 days 12 hours 30 minutes')\n",
    "df"
   ]
  },
  {
   "cell_type": "markdown",
   "metadata": {},
   "source": [
    "Finally, you can calculate the delta between the extended and original expiration\n",
    "dates. Since they are both datetime data types, you can achieve this with a simple\n",
    "subtraction between the two columns:"
   ]
  },
  {
   "cell_type": "code",
   "execution_count": 65,
   "metadata": {},
   "outputs": [
    {
     "data": {
      "text/html": [
       "<div>\n",
       "<style scoped>\n",
       "    .dataframe tbody tr th:only-of-type {\n",
       "        vertical-align: middle;\n",
       "    }\n",
       "\n",
       "    .dataframe tbody tr th {\n",
       "        vertical-align: top;\n",
       "    }\n",
       "\n",
       "    .dataframe thead th {\n",
       "        text-align: right;\n",
       "    }\n",
       "</style>\n",
       "<table border=\"1\" class=\"dataframe\">\n",
       "  <thead>\n",
       "    <tr style=\"text-align: right;\">\n",
       "      <th></th>\n",
       "      <th>item</th>\n",
       "      <th>purchase_dt</th>\n",
       "      <th>expiration_dt</th>\n",
       "      <th>extended_dt</th>\n",
       "      <th>exp_ext_diff</th>\n",
       "    </tr>\n",
       "  </thead>\n",
       "  <tbody>\n",
       "    <tr>\n",
       "      <th>0</th>\n",
       "      <td>item1</td>\n",
       "      <td>2021-01-01 00:00:00+00:00</td>\n",
       "      <td>2021-01-31 00:00:00+00:00</td>\n",
       "      <td>2021-02-05 12:30:00+00:00</td>\n",
       "      <td>5 days 12:30:00</td>\n",
       "    </tr>\n",
       "    <tr>\n",
       "      <th>1</th>\n",
       "      <td>item2</td>\n",
       "      <td>2021-01-02 00:00:00+00:00</td>\n",
       "      <td>2021-02-01 00:00:00+00:00</td>\n",
       "      <td>2021-02-06 12:30:00+00:00</td>\n",
       "      <td>5 days 12:30:00</td>\n",
       "    </tr>\n",
       "    <tr>\n",
       "      <th>2</th>\n",
       "      <td>item3</td>\n",
       "      <td>2021-01-03 00:00:00+00:00</td>\n",
       "      <td>2021-02-02 00:00:00+00:00</td>\n",
       "      <td>2021-02-07 12:30:00+00:00</td>\n",
       "      <td>5 days 12:30:00</td>\n",
       "    </tr>\n",
       "    <tr>\n",
       "      <th>3</th>\n",
       "      <td>item4</td>\n",
       "      <td>2021-01-04 00:00:00+00:00</td>\n",
       "      <td>2021-02-03 00:00:00+00:00</td>\n",
       "      <td>2021-02-08 12:30:00+00:00</td>\n",
       "      <td>5 days 12:30:00</td>\n",
       "    </tr>\n",
       "    <tr>\n",
       "      <th>4</th>\n",
       "      <td>item5</td>\n",
       "      <td>2021-01-05 00:00:00+00:00</td>\n",
       "      <td>2021-02-04 00:00:00+00:00</td>\n",
       "      <td>2021-02-09 12:30:00+00:00</td>\n",
       "      <td>5 days 12:30:00</td>\n",
       "    </tr>\n",
       "    <tr>\n",
       "      <th>5</th>\n",
       "      <td>item6</td>\n",
       "      <td>2021-01-06 00:00:00+00:00</td>\n",
       "      <td>2021-02-05 00:00:00+00:00</td>\n",
       "      <td>2021-02-10 12:30:00+00:00</td>\n",
       "      <td>5 days 12:30:00</td>\n",
       "    </tr>\n",
       "  </tbody>\n",
       "</table>\n",
       "</div>"
      ],
      "text/plain": [
       "    item               purchase_dt             expiration_dt  \\\n",
       "0  item1 2021-01-01 00:00:00+00:00 2021-01-31 00:00:00+00:00   \n",
       "1  item2 2021-01-02 00:00:00+00:00 2021-02-01 00:00:00+00:00   \n",
       "2  item3 2021-01-03 00:00:00+00:00 2021-02-02 00:00:00+00:00   \n",
       "3  item4 2021-01-04 00:00:00+00:00 2021-02-03 00:00:00+00:00   \n",
       "4  item5 2021-01-05 00:00:00+00:00 2021-02-04 00:00:00+00:00   \n",
       "5  item6 2021-01-06 00:00:00+00:00 2021-02-05 00:00:00+00:00   \n",
       "\n",
       "                extended_dt    exp_ext_diff  \n",
       "0 2021-02-05 12:30:00+00:00 5 days 12:30:00  \n",
       "1 2021-02-06 12:30:00+00:00 5 days 12:30:00  \n",
       "2 2021-02-07 12:30:00+00:00 5 days 12:30:00  \n",
       "3 2021-02-08 12:30:00+00:00 5 days 12:30:00  \n",
       "4 2021-02-09 12:30:00+00:00 5 days 12:30:00  \n",
       "5 2021-02-10 12:30:00+00:00 5 days 12:30:00  "
      ]
     },
     "execution_count": 65,
     "metadata": {},
     "output_type": "execute_result"
    }
   ],
   "source": [
    "df['exp_ext_diff'] = (\n",
    "         df['extended_dt'] - df['expiration_dt']\n",
    "        )\n",
    "df"
   ]
  },
  {
   "cell_type": "markdown",
   "metadata": {},
   "source": [
    "### Python datetime.timedelta vs pd.Timedelta"
   ]
  },
  {
   "cell_type": "markdown",
   "metadata": {},
   "source": [
    "Time deltas can be handy for capturing the difference between two date or time objects.\n",
    "In pandas, the **pandas.Timedelta** class is equivalent to Python's **datetime.timedelta** class and behaves very similarly. However, the advantage of pandas is\n",
    "that it includes a wide range of classes and functions for working with time-series data.\n",
    "These built-in functions within pandas, in general, are simpler and more efficient when\n",
    "working with DataFrames. Let's try this quick experiment to demonstrate how pandas'\n",
    "Timedelta class is a subclass of Python's timedelta class:"
   ]
  },
  {
   "cell_type": "code",
   "execution_count": 189,
   "metadata": {},
   "outputs": [
    {
     "data": {
      "text/plain": [
       "datetime.timedelta(days=1)"
      ]
     },
     "execution_count": 189,
     "metadata": {},
     "output_type": "execute_result"
    }
   ],
   "source": [
    "dt.timedelta(days=1)"
   ]
  },
  {
   "cell_type": "code",
   "execution_count": 190,
   "metadata": {},
   "outputs": [
    {
     "data": {
      "text/plain": [
       "True"
      ]
     },
     "execution_count": 190,
     "metadata": {},
     "output_type": "execute_result"
    }
   ],
   "source": [
    "pd.Timedelta(days=1) == dt.timedelta(days=1)"
   ]
  },
  {
   "cell_type": "code",
   "execution_count": 191,
   "metadata": {},
   "outputs": [
    {
     "data": {
      "text/plain": [
       "False"
      ]
     },
     "execution_count": 191,
     "metadata": {},
     "output_type": "execute_result"
    }
   ],
   "source": [
    "dt_1 = pd.Timedelta(days=1)\n",
    "dt_2 = dt.timedelta(days=1)\n",
    "isinstance(pd.Timedelta, dt.timedelta)"
   ]
  },
  {
   "cell_type": "code",
   "execution_count": 192,
   "metadata": {},
   "outputs": [
    {
     "data": {
      "text/plain": [
       "True"
      ]
     },
     "execution_count": 192,
     "metadata": {},
     "output_type": "execute_result"
    }
   ],
   "source": [
    "isinstance(dt_1, dt.timedelta)"
   ]
  },
  {
   "cell_type": "code",
   "execution_count": 193,
   "metadata": {},
   "outputs": [
    {
     "data": {
      "text/plain": [
       "True"
      ]
     },
     "execution_count": 193,
     "metadata": {},
     "output_type": "execute_result"
    }
   ],
   "source": [
    "isinstance(dt_1, pd.Timedelta)"
   ]
  },
  {
   "cell_type": "code",
   "execution_count": 194,
   "metadata": {},
   "outputs": [
    {
     "data": {
      "text/plain": [
       "True"
      ]
     },
     "execution_count": 194,
     "metadata": {},
     "output_type": "execute_result"
    }
   ],
   "source": [
    "issubclass(pd.Timedelta, dt.timedelta)"
   ]
  },
  {
   "cell_type": "code",
   "execution_count": 195,
   "metadata": {},
   "outputs": [
    {
     "data": {
      "text/plain": [
       "False"
      ]
     },
     "execution_count": 195,
     "metadata": {},
     "output_type": "execute_result"
    }
   ],
   "source": [
    "issubclass(dt.timedelta, pd.Timedelta)"
   ]
  },
  {
   "cell_type": "markdown",
   "metadata": {},
   "source": [
    "Python's datetime.timedelta class accepts integer values for these parameters –\n",
    "days, seconds, microseconds, milliseconds, minutes, hours, and\n",
    "weeks. On the other hand, pandas.Timedelta takes both integers and strings,\n",
    "as demonstrated in the following snippet:"
   ]
  },
  {
   "cell_type": "code",
   "execution_count": 196,
   "metadata": {},
   "outputs": [
    {
     "data": {
      "text/plain": [
       "Timedelta('1 days 12:00:00')"
      ]
     },
     "execution_count": 196,
     "metadata": {},
     "output_type": "execute_result"
    }
   ],
   "source": [
    "pd.Timedelta(days = 1, hours = 12)"
   ]
  },
  {
   "cell_type": "code",
   "execution_count": 197,
   "metadata": {},
   "outputs": [
    {
     "data": {
      "text/plain": [
       "Timedelta('0 days 00:00:00.000010')"
      ]
     },
     "execution_count": 197,
     "metadata": {},
     "output_type": "execute_result"
    }
   ],
   "source": [
    "pd.Timedelta('10 U')"
   ]
  },
  {
   "cell_type": "code",
   "execution_count": 198,
   "metadata": {},
   "outputs": [
    {
     "data": {
      "text/plain": [
       "Timedelta('1 days 12:55:00')"
      ]
     },
     "execution_count": 198,
     "metadata": {},
     "output_type": "execute_result"
    }
   ],
   "source": [
    "pd.Timedelta(days=1, hours=12, minutes=55)"
   ]
  },
  {
   "cell_type": "code",
   "execution_count": 199,
   "metadata": {},
   "outputs": [
    {
     "data": {
      "text/plain": [
       "Timedelta('1 days 12:55:00')"
      ]
     },
     "execution_count": 199,
     "metadata": {},
     "output_type": "execute_result"
    }
   ],
   "source": [
    "pd.Timedelta('1 day 12 hours 55 minutes')"
   ]
  },
  {
   "cell_type": "code",
   "execution_count": 200,
   "metadata": {},
   "outputs": [
    {
     "data": {
      "text/plain": [
       "Timedelta('1 days 12:55:00')"
      ]
     },
     "execution_count": 200,
     "metadata": {},
     "output_type": "execute_result"
    }
   ],
   "source": [
    "pd.Timedelta('1D 12H 55T')"
   ]
  },
  {
   "cell_type": "code",
   "execution_count": 201,
   "metadata": {},
   "outputs": [
    {
     "data": {
      "text/plain": [
       "Timedelta('2 days 00:00:00')"
      ]
     },
     "execution_count": 201,
     "metadata": {},
     "output_type": "execute_result"
    }
   ],
   "source": [
    "2*dt_1"
   ]
  },
  {
   "cell_type": "markdown",
   "metadata": {},
   "source": [
    "Once you have defined your Timedelta object, you can use it to make calculations on\n",
    "date, time, or datetime objects:"
   ]
  },
  {
   "cell_type": "code",
   "execution_count": 202,
   "metadata": {},
   "outputs": [
    {
     "data": {
      "text/plain": [
       "Timestamp('2022-01-08 00:00:00')"
      ]
     },
     "execution_count": 202,
     "metadata": {},
     "output_type": "execute_result"
    }
   ],
   "source": [
    "week_td = pd.Timedelta('1W')\n",
    "pd.to_datetime('1 JAN 2022') + week_td"
   ]
  },
  {
   "cell_type": "code",
   "execution_count": 203,
   "metadata": {},
   "outputs": [
    {
     "data": {
      "text/plain": [
       "Timestamp('2022-01-15 00:00:00')"
      ]
     },
     "execution_count": 203,
     "metadata": {},
     "output_type": "execute_result"
    }
   ],
   "source": [
    "pd.to_datetime('1 JAN 2022') + 2*week_td"
   ]
  },
  {
   "cell_type": "markdown",
   "metadata": {},
   "source": [
    "## There is more"
   ]
  },
  {
   "cell_type": "code",
   "execution_count": 204,
   "metadata": {},
   "outputs": [
    {
     "data": {
      "text/html": [
       "<div>\n",
       "<style scoped>\n",
       "    .dataframe tbody tr th:only-of-type {\n",
       "        vertical-align: middle;\n",
       "    }\n",
       "\n",
       "    .dataframe tbody tr th {\n",
       "        vertical-align: top;\n",
       "    }\n",
       "\n",
       "    .dataframe thead th {\n",
       "        text-align: right;\n",
       "    }\n",
       "</style>\n",
       "<table border=\"1\" class=\"dataframe\">\n",
       "  <thead>\n",
       "    <tr style=\"text-align: right;\">\n",
       "      <th></th>\n",
       "      <th>item</th>\n",
       "      <th>purchase_dt</th>\n",
       "    </tr>\n",
       "  </thead>\n",
       "  <tbody>\n",
       "    <tr>\n",
       "      <th>0</th>\n",
       "      <td>item1</td>\n",
       "      <td>2021-01-01 00:00:00+00:00</td>\n",
       "    </tr>\n",
       "    <tr>\n",
       "      <th>1</th>\n",
       "      <td>item2</td>\n",
       "      <td>2021-01-02 00:00:00+00:00</td>\n",
       "    </tr>\n",
       "    <tr>\n",
       "      <th>2</th>\n",
       "      <td>item3</td>\n",
       "      <td>2021-01-03 00:00:00+00:00</td>\n",
       "    </tr>\n",
       "    <tr>\n",
       "      <th>3</th>\n",
       "      <td>item4</td>\n",
       "      <td>2021-01-04 00:00:00+00:00</td>\n",
       "    </tr>\n",
       "    <tr>\n",
       "      <th>4</th>\n",
       "      <td>item5</td>\n",
       "      <td>2021-01-05 00:00:00+00:00</td>\n",
       "    </tr>\n",
       "    <tr>\n",
       "      <th>5</th>\n",
       "      <td>item6</td>\n",
       "      <td>2021-01-06 00:00:00+00:00</td>\n",
       "    </tr>\n",
       "  </tbody>\n",
       "</table>\n",
       "</div>"
      ],
      "text/plain": [
       "    item               purchase_dt\n",
       "0  item1 2021-01-01 00:00:00+00:00\n",
       "1  item2 2021-01-02 00:00:00+00:00\n",
       "2  item3 2021-01-03 00:00:00+00:00\n",
       "3  item4 2021-01-04 00:00:00+00:00\n",
       "4  item5 2021-01-05 00:00:00+00:00\n",
       "5  item6 2021-01-06 00:00:00+00:00"
      ]
     },
     "execution_count": 204,
     "metadata": {},
     "output_type": "execute_result"
    }
   ],
   "source": [
    "df = pd.DataFrame(\n",
    "        {       \n",
    "        'item': ['item1', 'item2', 'item3', 'item4', 'item5', 'item6'],\n",
    "        'purchase_dt': pd.date_range('2021-01-01', periods=6, freq='D', tz='UTC')\n",
    "        }\n",
    ")\n",
    "df"
   ]
  },
  {
   "cell_type": "code",
   "execution_count": 205,
   "metadata": {},
   "outputs": [
    {
     "name": "stdout",
     "output_type": "stream",
     "text": [
      "<class 'pandas.core.frame.DataFrame'>\n",
      "RangeIndex: 6 entries, 0 to 5\n",
      "Data columns (total 2 columns):\n",
      " #   Column       Non-Null Count  Dtype              \n",
      "---  ------       --------------  -----              \n",
      " 0   item         6 non-null      object             \n",
      " 1   purchase_dt  6 non-null      datetime64[ns, UTC]\n",
      "dtypes: datetime64[ns, UTC](1), object(1)\n",
      "memory usage: 224.0+ bytes\n"
     ]
    }
   ],
   "source": [
    "df.info()"
   ]
  },
  {
   "cell_type": "markdown",
   "metadata": {},
   "source": [
    "Now, you will add a new\n",
    "column that contains the Timedelta object (1 week) and then use that column to add\n",
    "and subtract from the purchased_dt column:"
   ]
  },
  {
   "cell_type": "code",
   "execution_count": 206,
   "metadata": {},
   "outputs": [],
   "source": [
    "df['1 week'] = pd.Timedelta('1W')"
   ]
  },
  {
   "cell_type": "code",
   "execution_count": 207,
   "metadata": {},
   "outputs": [
    {
     "data": {
      "text/html": [
       "<div>\n",
       "<style scoped>\n",
       "    .dataframe tbody tr th:only-of-type {\n",
       "        vertical-align: middle;\n",
       "    }\n",
       "\n",
       "    .dataframe tbody tr th {\n",
       "        vertical-align: top;\n",
       "    }\n",
       "\n",
       "    .dataframe thead th {\n",
       "        text-align: right;\n",
       "    }\n",
       "</style>\n",
       "<table border=\"1\" class=\"dataframe\">\n",
       "  <thead>\n",
       "    <tr style=\"text-align: right;\">\n",
       "      <th></th>\n",
       "      <th>item</th>\n",
       "      <th>purchase_dt</th>\n",
       "      <th>1 week</th>\n",
       "    </tr>\n",
       "  </thead>\n",
       "  <tbody>\n",
       "    <tr>\n",
       "      <th>0</th>\n",
       "      <td>item1</td>\n",
       "      <td>2021-01-01 00:00:00+00:00</td>\n",
       "      <td>7 days</td>\n",
       "    </tr>\n",
       "    <tr>\n",
       "      <th>1</th>\n",
       "      <td>item2</td>\n",
       "      <td>2021-01-02 00:00:00+00:00</td>\n",
       "      <td>7 days</td>\n",
       "    </tr>\n",
       "    <tr>\n",
       "      <th>2</th>\n",
       "      <td>item3</td>\n",
       "      <td>2021-01-03 00:00:00+00:00</td>\n",
       "      <td>7 days</td>\n",
       "    </tr>\n",
       "    <tr>\n",
       "      <th>3</th>\n",
       "      <td>item4</td>\n",
       "      <td>2021-01-04 00:00:00+00:00</td>\n",
       "      <td>7 days</td>\n",
       "    </tr>\n",
       "    <tr>\n",
       "      <th>4</th>\n",
       "      <td>item5</td>\n",
       "      <td>2021-01-05 00:00:00+00:00</td>\n",
       "      <td>7 days</td>\n",
       "    </tr>\n",
       "    <tr>\n",
       "      <th>5</th>\n",
       "      <td>item6</td>\n",
       "      <td>2021-01-06 00:00:00+00:00</td>\n",
       "      <td>7 days</td>\n",
       "    </tr>\n",
       "  </tbody>\n",
       "</table>\n",
       "</div>"
      ],
      "text/plain": [
       "    item               purchase_dt 1 week\n",
       "0  item1 2021-01-01 00:00:00+00:00 7 days\n",
       "1  item2 2021-01-02 00:00:00+00:00 7 days\n",
       "2  item3 2021-01-03 00:00:00+00:00 7 days\n",
       "3  item4 2021-01-04 00:00:00+00:00 7 days\n",
       "4  item5 2021-01-05 00:00:00+00:00 7 days\n",
       "5  item6 2021-01-06 00:00:00+00:00 7 days"
      ]
     },
     "execution_count": 207,
     "metadata": {},
     "output_type": "execute_result"
    }
   ],
   "source": [
    "df"
   ]
  },
  {
   "cell_type": "code",
   "execution_count": 208,
   "metadata": {},
   "outputs": [
    {
     "data": {
      "text/html": [
       "<div>\n",
       "<style scoped>\n",
       "    .dataframe tbody tr th:only-of-type {\n",
       "        vertical-align: middle;\n",
       "    }\n",
       "\n",
       "    .dataframe tbody tr th {\n",
       "        vertical-align: top;\n",
       "    }\n",
       "\n",
       "    .dataframe thead th {\n",
       "        text-align: right;\n",
       "    }\n",
       "</style>\n",
       "<table border=\"1\" class=\"dataframe\">\n",
       "  <thead>\n",
       "    <tr style=\"text-align: right;\">\n",
       "      <th></th>\n",
       "      <th>item</th>\n",
       "      <th>purchase_dt</th>\n",
       "      <th>1 week</th>\n",
       "      <th>1_week_more</th>\n",
       "      <th>1_week_less</th>\n",
       "    </tr>\n",
       "  </thead>\n",
       "  <tbody>\n",
       "    <tr>\n",
       "      <th>0</th>\n",
       "      <td>item1</td>\n",
       "      <td>2021-01-01 00:00:00+00:00</td>\n",
       "      <td>7 days</td>\n",
       "      <td>2021-01-08 00:00:00+00:00</td>\n",
       "      <td>2020-12-25 00:00:00+00:00</td>\n",
       "    </tr>\n",
       "    <tr>\n",
       "      <th>1</th>\n",
       "      <td>item2</td>\n",
       "      <td>2021-01-02 00:00:00+00:00</td>\n",
       "      <td>7 days</td>\n",
       "      <td>2021-01-09 00:00:00+00:00</td>\n",
       "      <td>2020-12-26 00:00:00+00:00</td>\n",
       "    </tr>\n",
       "    <tr>\n",
       "      <th>2</th>\n",
       "      <td>item3</td>\n",
       "      <td>2021-01-03 00:00:00+00:00</td>\n",
       "      <td>7 days</td>\n",
       "      <td>2021-01-10 00:00:00+00:00</td>\n",
       "      <td>2020-12-27 00:00:00+00:00</td>\n",
       "    </tr>\n",
       "    <tr>\n",
       "      <th>3</th>\n",
       "      <td>item4</td>\n",
       "      <td>2021-01-04 00:00:00+00:00</td>\n",
       "      <td>7 days</td>\n",
       "      <td>2021-01-11 00:00:00+00:00</td>\n",
       "      <td>2020-12-28 00:00:00+00:00</td>\n",
       "    </tr>\n",
       "    <tr>\n",
       "      <th>4</th>\n",
       "      <td>item5</td>\n",
       "      <td>2021-01-05 00:00:00+00:00</td>\n",
       "      <td>7 days</td>\n",
       "      <td>2021-01-12 00:00:00+00:00</td>\n",
       "      <td>2020-12-29 00:00:00+00:00</td>\n",
       "    </tr>\n",
       "    <tr>\n",
       "      <th>5</th>\n",
       "      <td>item6</td>\n",
       "      <td>2021-01-06 00:00:00+00:00</td>\n",
       "      <td>7 days</td>\n",
       "      <td>2021-01-13 00:00:00+00:00</td>\n",
       "      <td>2020-12-30 00:00:00+00:00</td>\n",
       "    </tr>\n",
       "  </tbody>\n",
       "</table>\n",
       "</div>"
      ],
      "text/plain": [
       "    item               purchase_dt 1 week               1_week_more   \n",
       "0  item1 2021-01-01 00:00:00+00:00 7 days 2021-01-08 00:00:00+00:00  \\\n",
       "1  item2 2021-01-02 00:00:00+00:00 7 days 2021-01-09 00:00:00+00:00   \n",
       "2  item3 2021-01-03 00:00:00+00:00 7 days 2021-01-10 00:00:00+00:00   \n",
       "3  item4 2021-01-04 00:00:00+00:00 7 days 2021-01-11 00:00:00+00:00   \n",
       "4  item5 2021-01-05 00:00:00+00:00 7 days 2021-01-12 00:00:00+00:00   \n",
       "5  item6 2021-01-06 00:00:00+00:00 7 days 2021-01-13 00:00:00+00:00   \n",
       "\n",
       "                1_week_less  \n",
       "0 2020-12-25 00:00:00+00:00  \n",
       "1 2020-12-26 00:00:00+00:00  \n",
       "2 2020-12-27 00:00:00+00:00  \n",
       "3 2020-12-28 00:00:00+00:00  \n",
       "4 2020-12-29 00:00:00+00:00  \n",
       "5 2020-12-30 00:00:00+00:00  "
      ]
     },
     "execution_count": 208,
     "metadata": {},
     "output_type": "execute_result"
    }
   ],
   "source": [
    "df['1_week_more'] = df['purchase_dt'] + df['1 week']\n",
    "df['1_week_less'] = df['purchase_dt'] - df['1 week']\n",
    "df"
   ]
  },
  {
   "cell_type": "code",
   "execution_count": 209,
   "metadata": {},
   "outputs": [
    {
     "name": "stdout",
     "output_type": "stream",
     "text": [
      "<class 'pandas.core.frame.DataFrame'>\n",
      "RangeIndex: 6 entries, 0 to 5\n",
      "Data columns (total 5 columns):\n",
      " #   Column       Non-Null Count  Dtype              \n",
      "---  ------       --------------  -----              \n",
      " 0   item         6 non-null      object             \n",
      " 1   purchase_dt  6 non-null      datetime64[ns, UTC]\n",
      " 2   1 week       6 non-null      timedelta64[ns]    \n",
      " 3   1_week_more  6 non-null      datetime64[ns, UTC]\n",
      " 4   1_week_less  6 non-null      datetime64[ns, UTC]\n",
      "dtypes: datetime64[ns, UTC](3), object(1), timedelta64[ns](1)\n",
      "memory usage: 368.0+ bytes\n"
     ]
    }
   ],
   "source": [
    "df.info()"
   ]
  },
  {
   "cell_type": "markdown",
   "metadata": {},
   "source": [
    "Similarly, you have an option to generate TimdedeltaIndex with a fixed frequency\n",
    "using the pandas.timedelta_range() function, which takes similar parameters\n",
    "as the pandas.date_range() function. Here is a quick example:"
   ]
  },
  {
   "cell_type": "code",
   "execution_count": 210,
   "metadata": {},
   "outputs": [
    {
     "data": {
      "text/plain": [
       "TimedeltaIndex(['9 days', '10 days', '11 days', '12 days', '13 days'], dtype='timedelta64[ns]', freq='D')"
      ]
     },
     "execution_count": 210,
     "metadata": {},
     "output_type": "execute_result"
    }
   ],
   "source": [
    "pd.timedelta_range('1W 2 days', periods=5)"
   ]
  },
  {
   "cell_type": "code",
   "execution_count": 211,
   "metadata": {},
   "outputs": [
    {
     "data": {
      "text/html": [
       "<div>\n",
       "<style scoped>\n",
       "    .dataframe tbody tr th:only-of-type {\n",
       "        vertical-align: middle;\n",
       "    }\n",
       "\n",
       "    .dataframe tbody tr th {\n",
       "        vertical-align: top;\n",
       "    }\n",
       "\n",
       "    .dataframe thead th {\n",
       "        text-align: right;\n",
       "    }\n",
       "</style>\n",
       "<table border=\"1\" class=\"dataframe\">\n",
       "  <thead>\n",
       "    <tr style=\"text-align: right;\">\n",
       "      <th></th>\n",
       "      <th>item</th>\n",
       "      <th>purchase_dt</th>\n",
       "      <th>time_deltas</th>\n",
       "    </tr>\n",
       "  </thead>\n",
       "  <tbody>\n",
       "    <tr>\n",
       "      <th>0</th>\n",
       "      <td>item1</td>\n",
       "      <td>2021-01-01 00:00:00+00:00</td>\n",
       "      <td>9 days 06:00:00</td>\n",
       "    </tr>\n",
       "    <tr>\n",
       "      <th>1</th>\n",
       "      <td>item2</td>\n",
       "      <td>2021-01-02 00:00:00+00:00</td>\n",
       "      <td>10 days 06:00:00</td>\n",
       "    </tr>\n",
       "    <tr>\n",
       "      <th>2</th>\n",
       "      <td>item3</td>\n",
       "      <td>2021-01-03 00:00:00+00:00</td>\n",
       "      <td>11 days 06:00:00</td>\n",
       "    </tr>\n",
       "    <tr>\n",
       "      <th>3</th>\n",
       "      <td>item4</td>\n",
       "      <td>2021-01-04 00:00:00+00:00</td>\n",
       "      <td>12 days 06:00:00</td>\n",
       "    </tr>\n",
       "    <tr>\n",
       "      <th>4</th>\n",
       "      <td>item5</td>\n",
       "      <td>2021-01-05 00:00:00+00:00</td>\n",
       "      <td>13 days 06:00:00</td>\n",
       "    </tr>\n",
       "  </tbody>\n",
       "</table>\n",
       "</div>"
      ],
      "text/plain": [
       "    item               purchase_dt      time_deltas\n",
       "0  item1 2021-01-01 00:00:00+00:00  9 days 06:00:00\n",
       "1  item2 2021-01-02 00:00:00+00:00 10 days 06:00:00\n",
       "2  item3 2021-01-03 00:00:00+00:00 11 days 06:00:00\n",
       "3  item4 2021-01-04 00:00:00+00:00 12 days 06:00:00\n",
       "4  item5 2021-01-05 00:00:00+00:00 13 days 06:00:00"
      ]
     },
     "execution_count": 211,
     "metadata": {},
     "output_type": "execute_result"
    }
   ],
   "source": [
    "df = pd.DataFrame(\n",
    "        {       \n",
    "        'item': ['item1', 'item2', 'item3', 'item4', 'item5'],\n",
    "        'purchase_dt': pd.date_range('2021-01-01', periods=5, freq='D', tz='UTC'),\n",
    "        'time_deltas': pd.timedelta_range('1W 2 days 6 hours', periods=5)\n",
    "        }\n",
    "\n",
    ")\n",
    "df"
   ]
  },
  {
   "cell_type": "markdown",
   "metadata": {},
   "source": [
    "### See also(Optional)\n",
    "* To learn more about the pandas.timedelta_range() function, please refer\n",
    "to the official documentation here: https://pandas.pydata.org/docs/reference/api/pandas.timedelta_range.html.\n",
    "* To learn more about the pandas.Timedelta class, please visit the official\n",
    "documentation here: https://pandas.pydata.org/docs/reference/api/pandas.Timedelta.html."
   ]
  },
  {
   "cell_type": "markdown",
   "metadata": {},
   "source": [
    "# Recipe 4: Converting Datetime with TimeZone information "
   ]
  },
  {
   "cell_type": "markdown",
   "metadata": {},
   "source": [
    "When working with time-series data that requires attention to different time zones, things\n",
    "can get out of hand and become more complicated. For example, when developing data\n",
    "pipelines, building a data warehouse, or integrating data between systems, dealing with\n",
    "time zones requires attention and consensus amongst the different stakeholders in the\n",
    "project. For example, in Python, there are several libraries and modules dedicated to\n",
    "working with time zone conversion; these include pytz, dateutil, and zoneinfo,\n",
    "to name a few."
   ]
  },
  {
   "cell_type": "markdown",
   "metadata": {},
   "source": [
    "In this recipe, you will work with a hypothetical scenario – a small dataset that you\n",
    "will generate to represent website visits at different time intervals from various\n",
    "locations worldwide. The data will be standardized to UTC, and you will work\n",
    "with time-zone conversions."
   ]
  },
  {
   "cell_type": "code",
   "execution_count": 212,
   "metadata": {},
   "outputs": [],
   "source": [
    "df = pd.DataFrame(\n",
    "        {       \n",
    "        'Location': ['Los Angeles', \n",
    "                     'New York',\n",
    "                     'Berlin', \n",
    "                     'New Delhi', \n",
    "                     'Moscow', \n",
    "                     'Tokyo', \n",
    "                     'Dubai'],\n",
    "        'tz': ['US/Pacific', \n",
    "               'US/Eastern', \n",
    "               'Europe/Berlin', \n",
    "               'Asia/Kolkata', \n",
    "               'Europe/Moscow', \n",
    "               'Asia/Tokyo',\n",
    "               'Asia/Dubai'],\n",
    "        'visit_dt': pd.date_range(start='22:00',periods=7, freq='45min'),\n",
    "        }).set_index('visit_dt')"
   ]
  },
  {
   "cell_type": "code",
   "execution_count": 213,
   "metadata": {},
   "outputs": [
    {
     "data": {
      "text/html": [
       "<div>\n",
       "<style scoped>\n",
       "    .dataframe tbody tr th:only-of-type {\n",
       "        vertical-align: middle;\n",
       "    }\n",
       "\n",
       "    .dataframe tbody tr th {\n",
       "        vertical-align: top;\n",
       "    }\n",
       "\n",
       "    .dataframe thead th {\n",
       "        text-align: right;\n",
       "    }\n",
       "</style>\n",
       "<table border=\"1\" class=\"dataframe\">\n",
       "  <thead>\n",
       "    <tr style=\"text-align: right;\">\n",
       "      <th></th>\n",
       "      <th>Location</th>\n",
       "      <th>tz</th>\n",
       "    </tr>\n",
       "    <tr>\n",
       "      <th>visit_dt</th>\n",
       "      <th></th>\n",
       "      <th></th>\n",
       "    </tr>\n",
       "  </thead>\n",
       "  <tbody>\n",
       "    <tr>\n",
       "      <th>2023-05-07 22:00:00</th>\n",
       "      <td>Los Angeles</td>\n",
       "      <td>US/Pacific</td>\n",
       "    </tr>\n",
       "    <tr>\n",
       "      <th>2023-05-07 22:45:00</th>\n",
       "      <td>New York</td>\n",
       "      <td>US/Eastern</td>\n",
       "    </tr>\n",
       "    <tr>\n",
       "      <th>2023-05-07 23:30:00</th>\n",
       "      <td>Berlin</td>\n",
       "      <td>Europe/Berlin</td>\n",
       "    </tr>\n",
       "    <tr>\n",
       "      <th>2023-05-08 00:15:00</th>\n",
       "      <td>New Delhi</td>\n",
       "      <td>Asia/Kolkata</td>\n",
       "    </tr>\n",
       "    <tr>\n",
       "      <th>2023-05-08 01:00:00</th>\n",
       "      <td>Moscow</td>\n",
       "      <td>Europe/Moscow</td>\n",
       "    </tr>\n",
       "    <tr>\n",
       "      <th>2023-05-08 01:45:00</th>\n",
       "      <td>Tokyo</td>\n",
       "      <td>Asia/Tokyo</td>\n",
       "    </tr>\n",
       "    <tr>\n",
       "      <th>2023-05-08 02:30:00</th>\n",
       "      <td>Dubai</td>\n",
       "      <td>Asia/Dubai</td>\n",
       "    </tr>\n",
       "  </tbody>\n",
       "</table>\n",
       "</div>"
      ],
      "text/plain": [
       "                        Location             tz\n",
       "visit_dt                                       \n",
       "2023-05-07 22:00:00  Los Angeles     US/Pacific\n",
       "2023-05-07 22:45:00     New York     US/Eastern\n",
       "2023-05-07 23:30:00       Berlin  Europe/Berlin\n",
       "2023-05-08 00:15:00    New Delhi   Asia/Kolkata\n",
       "2023-05-08 01:00:00       Moscow  Europe/Moscow\n",
       "2023-05-08 01:45:00        Tokyo     Asia/Tokyo\n",
       "2023-05-08 02:30:00        Dubai     Asia/Dubai"
      ]
     },
     "execution_count": 213,
     "metadata": {},
     "output_type": "execute_result"
    }
   ],
   "source": [
    "df"
   ]
  },
  {
   "cell_type": "markdown",
   "metadata": {},
   "source": [
    "Assume that you need to convert this DataFrame to be in the same time zone as\n",
    "the company's headquarters in Tokyo. You can do this easily using DataFrame.\n",
    "tz_convert() against the DataFrame, but you will get a TypeError exception\n",
    "if you do this. That is because your time-series DataFrame is not time zone-aware.\n",
    "So, you need to localize it first using tz_localize() to make it time-zone\n",
    "aware. In this case, you will localize it to UTC:"
   ]
  },
  {
   "cell_type": "code",
   "execution_count": 214,
   "metadata": {},
   "outputs": [
    {
     "data": {
      "text/html": [
       "<div>\n",
       "<style scoped>\n",
       "    .dataframe tbody tr th:only-of-type {\n",
       "        vertical-align: middle;\n",
       "    }\n",
       "\n",
       "    .dataframe tbody tr th {\n",
       "        vertical-align: top;\n",
       "    }\n",
       "\n",
       "    .dataframe thead th {\n",
       "        text-align: right;\n",
       "    }\n",
       "</style>\n",
       "<table border=\"1\" class=\"dataframe\">\n",
       "  <thead>\n",
       "    <tr style=\"text-align: right;\">\n",
       "      <th></th>\n",
       "      <th>Location</th>\n",
       "      <th>tz</th>\n",
       "    </tr>\n",
       "    <tr>\n",
       "      <th>visit_dt</th>\n",
       "      <th></th>\n",
       "      <th></th>\n",
       "    </tr>\n",
       "  </thead>\n",
       "  <tbody>\n",
       "    <tr>\n",
       "      <th>2023-05-07 22:00:00+00:00</th>\n",
       "      <td>Los Angeles</td>\n",
       "      <td>US/Pacific</td>\n",
       "    </tr>\n",
       "    <tr>\n",
       "      <th>2023-05-07 22:45:00+00:00</th>\n",
       "      <td>New York</td>\n",
       "      <td>US/Eastern</td>\n",
       "    </tr>\n",
       "    <tr>\n",
       "      <th>2023-05-07 23:30:00+00:00</th>\n",
       "      <td>Berlin</td>\n",
       "      <td>Europe/Berlin</td>\n",
       "    </tr>\n",
       "    <tr>\n",
       "      <th>2023-05-08 00:15:00+00:00</th>\n",
       "      <td>New Delhi</td>\n",
       "      <td>Asia/Kolkata</td>\n",
       "    </tr>\n",
       "    <tr>\n",
       "      <th>2023-05-08 01:00:00+00:00</th>\n",
       "      <td>Moscow</td>\n",
       "      <td>Europe/Moscow</td>\n",
       "    </tr>\n",
       "    <tr>\n",
       "      <th>2023-05-08 01:45:00+00:00</th>\n",
       "      <td>Tokyo</td>\n",
       "      <td>Asia/Tokyo</td>\n",
       "    </tr>\n",
       "    <tr>\n",
       "      <th>2023-05-08 02:30:00+00:00</th>\n",
       "      <td>Dubai</td>\n",
       "      <td>Asia/Dubai</td>\n",
       "    </tr>\n",
       "  </tbody>\n",
       "</table>\n",
       "</div>"
      ],
      "text/plain": [
       "                              Location             tz\n",
       "visit_dt                                             \n",
       "2023-05-07 22:00:00+00:00  Los Angeles     US/Pacific\n",
       "2023-05-07 22:45:00+00:00     New York     US/Eastern\n",
       "2023-05-07 23:30:00+00:00       Berlin  Europe/Berlin\n",
       "2023-05-08 00:15:00+00:00    New Delhi   Asia/Kolkata\n",
       "2023-05-08 01:00:00+00:00       Moscow  Europe/Moscow\n",
       "2023-05-08 01:45:00+00:00        Tokyo     Asia/Tokyo\n",
       "2023-05-08 02:30:00+00:00        Dubai     Asia/Dubai"
      ]
     },
     "execution_count": 214,
     "metadata": {},
     "output_type": "execute_result"
    }
   ],
   "source": [
    "df = df.tz_localize('UTC')\n",
    "df"
   ]
  },
  {
   "cell_type": "code",
   "execution_count": 215,
   "metadata": {},
   "outputs": [
    {
     "data": {
      "text/html": [
       "<div>\n",
       "<style scoped>\n",
       "    .dataframe tbody tr th:only-of-type {\n",
       "        vertical-align: middle;\n",
       "    }\n",
       "\n",
       "    .dataframe tbody tr th {\n",
       "        vertical-align: top;\n",
       "    }\n",
       "\n",
       "    .dataframe thead th {\n",
       "        text-align: right;\n",
       "    }\n",
       "</style>\n",
       "<table border=\"1\" class=\"dataframe\">\n",
       "  <thead>\n",
       "    <tr style=\"text-align: right;\">\n",
       "      <th></th>\n",
       "      <th>Location</th>\n",
       "      <th>tz</th>\n",
       "    </tr>\n",
       "    <tr>\n",
       "      <th>visit_dt</th>\n",
       "      <th></th>\n",
       "      <th></th>\n",
       "    </tr>\n",
       "  </thead>\n",
       "  <tbody>\n",
       "    <tr>\n",
       "      <th>2023-05-08 07:00:00+09:00</th>\n",
       "      <td>Los Angeles</td>\n",
       "      <td>US/Pacific</td>\n",
       "    </tr>\n",
       "    <tr>\n",
       "      <th>2023-05-08 07:45:00+09:00</th>\n",
       "      <td>New York</td>\n",
       "      <td>US/Eastern</td>\n",
       "    </tr>\n",
       "    <tr>\n",
       "      <th>2023-05-08 08:30:00+09:00</th>\n",
       "      <td>Berlin</td>\n",
       "      <td>Europe/Berlin</td>\n",
       "    </tr>\n",
       "    <tr>\n",
       "      <th>2023-05-08 09:15:00+09:00</th>\n",
       "      <td>New Delhi</td>\n",
       "      <td>Asia/Kolkata</td>\n",
       "    </tr>\n",
       "    <tr>\n",
       "      <th>2023-05-08 10:00:00+09:00</th>\n",
       "      <td>Moscow</td>\n",
       "      <td>Europe/Moscow</td>\n",
       "    </tr>\n",
       "    <tr>\n",
       "      <th>2023-05-08 10:45:00+09:00</th>\n",
       "      <td>Tokyo</td>\n",
       "      <td>Asia/Tokyo</td>\n",
       "    </tr>\n",
       "    <tr>\n",
       "      <th>2023-05-08 11:30:00+09:00</th>\n",
       "      <td>Dubai</td>\n",
       "      <td>Asia/Dubai</td>\n",
       "    </tr>\n",
       "  </tbody>\n",
       "</table>\n",
       "</div>"
      ],
      "text/plain": [
       "                              Location             tz\n",
       "visit_dt                                             \n",
       "2023-05-08 07:00:00+09:00  Los Angeles     US/Pacific\n",
       "2023-05-08 07:45:00+09:00     New York     US/Eastern\n",
       "2023-05-08 08:30:00+09:00       Berlin  Europe/Berlin\n",
       "2023-05-08 09:15:00+09:00    New Delhi   Asia/Kolkata\n",
       "2023-05-08 10:00:00+09:00       Moscow  Europe/Moscow\n",
       "2023-05-08 10:45:00+09:00        Tokyo     Asia/Tokyo\n",
       "2023-05-08 11:30:00+09:00        Dubai     Asia/Dubai"
      ]
     },
     "execution_count": 215,
     "metadata": {},
     "output_type": "execute_result"
    }
   ],
   "source": [
    "df_hq = df.tz_convert('Asia/Tokyo')\n",
    "df_hq"
   ]
  },
  {
   "cell_type": "markdown",
   "metadata": {},
   "source": [
    "Note that you were able to access the tz_localize() and tz_convert()\n",
    "methods because the DataFrame had an index of type DatetimeIndex.\n",
    "If that was not the case, you would get a TypeError exception with the\n",
    "following message:\n",
    "\n",
    "#### TypeError: index is not a valid DatetimeIndex or PeriodIndex"
   ]
  },
  {
   "cell_type": "markdown",
   "metadata": {},
   "source": [
    "Now, you will localize each row to the appropriate time zone. You will add a new\n",
    "column reflecting the time zone, based on the location of the user that accessed the\n",
    "website. You will leverage the tz column to accomplish this"
   ]
  },
  {
   "cell_type": "code",
   "execution_count": 216,
   "metadata": {},
   "outputs": [
    {
     "data": {
      "text/html": [
       "<div>\n",
       "<style scoped>\n",
       "    .dataframe tbody tr th:only-of-type {\n",
       "        vertical-align: middle;\n",
       "    }\n",
       "\n",
       "    .dataframe tbody tr th {\n",
       "        vertical-align: top;\n",
       "    }\n",
       "\n",
       "    .dataframe thead th {\n",
       "        text-align: right;\n",
       "    }\n",
       "</style>\n",
       "<table border=\"1\" class=\"dataframe\">\n",
       "  <thead>\n",
       "    <tr style=\"text-align: right;\">\n",
       "      <th></th>\n",
       "      <th>Location</th>\n",
       "      <th>tz</th>\n",
       "      <th>local_dt</th>\n",
       "    </tr>\n",
       "    <tr>\n",
       "      <th>visit_dt</th>\n",
       "      <th></th>\n",
       "      <th></th>\n",
       "      <th></th>\n",
       "    </tr>\n",
       "  </thead>\n",
       "  <tbody>\n",
       "    <tr>\n",
       "      <th>2023-05-07 22:00:00+00:00</th>\n",
       "      <td>Los Angeles</td>\n",
       "      <td>US/Pacific</td>\n",
       "      <td>2023-05-07 15:00:00-07:00</td>\n",
       "    </tr>\n",
       "    <tr>\n",
       "      <th>2023-05-07 22:45:00+00:00</th>\n",
       "      <td>New York</td>\n",
       "      <td>US/Eastern</td>\n",
       "      <td>2023-05-07 18:45:00-04:00</td>\n",
       "    </tr>\n",
       "    <tr>\n",
       "      <th>2023-05-07 23:30:00+00:00</th>\n",
       "      <td>Berlin</td>\n",
       "      <td>Europe/Berlin</td>\n",
       "      <td>2023-05-08 01:30:00+02:00</td>\n",
       "    </tr>\n",
       "    <tr>\n",
       "      <th>2023-05-08 00:15:00+00:00</th>\n",
       "      <td>New Delhi</td>\n",
       "      <td>Asia/Kolkata</td>\n",
       "      <td>2023-05-08 05:45:00+05:30</td>\n",
       "    </tr>\n",
       "    <tr>\n",
       "      <th>2023-05-08 01:00:00+00:00</th>\n",
       "      <td>Moscow</td>\n",
       "      <td>Europe/Moscow</td>\n",
       "      <td>2023-05-08 04:00:00+03:00</td>\n",
       "    </tr>\n",
       "    <tr>\n",
       "      <th>2023-05-08 01:45:00+00:00</th>\n",
       "      <td>Tokyo</td>\n",
       "      <td>Asia/Tokyo</td>\n",
       "      <td>2023-05-08 10:45:00+09:00</td>\n",
       "    </tr>\n",
       "    <tr>\n",
       "      <th>2023-05-08 02:30:00+00:00</th>\n",
       "      <td>Dubai</td>\n",
       "      <td>Asia/Dubai</td>\n",
       "      <td>2023-05-08 06:30:00+04:00</td>\n",
       "    </tr>\n",
       "  </tbody>\n",
       "</table>\n",
       "</div>"
      ],
      "text/plain": [
       "                              Location             tz   \n",
       "visit_dt                                                \n",
       "2023-05-07 22:00:00+00:00  Los Angeles     US/Pacific  \\\n",
       "2023-05-07 22:45:00+00:00     New York     US/Eastern   \n",
       "2023-05-07 23:30:00+00:00       Berlin  Europe/Berlin   \n",
       "2023-05-08 00:15:00+00:00    New Delhi   Asia/Kolkata   \n",
       "2023-05-08 01:00:00+00:00       Moscow  Europe/Moscow   \n",
       "2023-05-08 01:45:00+00:00        Tokyo     Asia/Tokyo   \n",
       "2023-05-08 02:30:00+00:00        Dubai     Asia/Dubai   \n",
       "\n",
       "                                            local_dt  \n",
       "visit_dt                                              \n",
       "2023-05-07 22:00:00+00:00  2023-05-07 15:00:00-07:00  \n",
       "2023-05-07 22:45:00+00:00  2023-05-07 18:45:00-04:00  \n",
       "2023-05-07 23:30:00+00:00  2023-05-08 01:30:00+02:00  \n",
       "2023-05-08 00:15:00+00:00  2023-05-08 05:45:00+05:30  \n",
       "2023-05-08 01:00:00+00:00  2023-05-08 04:00:00+03:00  \n",
       "2023-05-08 01:45:00+00:00  2023-05-08 10:45:00+09:00  \n",
       "2023-05-08 02:30:00+00:00  2023-05-08 06:30:00+04:00  "
      ]
     },
     "execution_count": 216,
     "metadata": {},
     "output_type": "execute_result"
    }
   ],
   "source": [
    "df['local_dt'] = df.index\n",
    "df['local_dt'] = df.apply(lambda x: pd.Timestamp.tz_convert(x['local_dt'], x['tz']), axis=1)\n",
    "df"
   ]
  },
  {
   "cell_type": "markdown",
   "metadata": {},
   "source": [
    "You may wonder, what if you did not have a tz column? Where would you find the right\n",
    "tz string? Well, these are called Time Zone (TZ) database names. These are standard\n",
    "names, and you can find a subset of these in the Python documentation, or for a more\n",
    "comprehensive list, you can visit this link: https://en.wikipedia.org/wiki/List_of_tz_database_time_zones."
   ]
  },
  {
   "cell_type": "code",
   "execution_count": 217,
   "metadata": {},
   "outputs": [
    {
     "data": {
      "text/plain": [
       "visit_dt\n",
       "2023-05-07 22:00:00+00:00    2023-05-07 15:00:00-07:00\n",
       "2023-05-07 22:45:00+00:00    2023-05-07 18:45:00-04:00\n",
       "2023-05-07 23:30:00+00:00    2023-05-08 01:30:00+02:00\n",
       "2023-05-08 00:15:00+00:00    2023-05-08 05:45:00+05:30\n",
       "2023-05-08 01:00:00+00:00    2023-05-08 04:00:00+03:00\n",
       "2023-05-08 01:45:00+00:00    2023-05-08 10:45:00+09:00\n",
       "2023-05-08 02:30:00+00:00    2023-05-08 06:30:00+04:00\n",
       "dtype: object"
      ]
     },
     "execution_count": 217,
     "metadata": {},
     "output_type": "execute_result"
    }
   ],
   "source": [
    "df.apply(lambda x: pd.Timestamp.tz_convert(x['local_dt'], x['tz']), axis=1)"
   ]
  },
  {
   "cell_type": "code",
   "execution_count": 218,
   "metadata": {},
   "outputs": [
    {
     "data": {
      "text/plain": [
       "visit_dt\n",
       "2023-05-07 22:00:00+00:00   2023-05-07 22:00:00+00:00\n",
       "2023-05-07 22:45:00+00:00   2023-05-07 22:45:00+00:00\n",
       "2023-05-07 23:30:00+00:00   2023-05-07 23:30:00+00:00\n",
       "2023-05-08 00:15:00+00:00   2023-05-08 00:15:00+00:00\n",
       "2023-05-08 01:00:00+00:00   2023-05-08 01:00:00+00:00\n",
       "2023-05-08 01:45:00+00:00   2023-05-08 01:45:00+00:00\n",
       "2023-05-08 02:30:00+00:00   2023-05-08 02:30:00+00:00\n",
       "Name: local_dt, dtype: datetime64[ns, UTC]"
      ]
     },
     "execution_count": 218,
     "metadata": {},
     "output_type": "execute_result"
    }
   ],
   "source": [
    "pd.to_datetime(df['local_dt'], utc=True)"
   ]
  },
  {
   "cell_type": "markdown",
   "metadata": {},
   "source": [
    "## There is More"
   ]
  },
  {
   "cell_type": "markdown",
   "metadata": {},
   "source": [
    "Looking at the DataFrame in df_hq, it is hard to tell immediately whether the time\n",
    "was in the morning (AM) or evening (PM). You can format datetime using strftime\n",
    "(which we discussed in the Providing a format argument to DateTime recipe).\n",
    "You will construct the same DataFrame, localize it to UTC, then convert it to the\n",
    "headquarters' time zone, and apply the new format:"
   ]
  },
  {
   "cell_type": "code",
   "execution_count": 219,
   "metadata": {},
   "outputs": [
    {
     "data": {
      "text/html": [
       "<div>\n",
       "<style scoped>\n",
       "    .dataframe tbody tr th:only-of-type {\n",
       "        vertical-align: middle;\n",
       "    }\n",
       "\n",
       "    .dataframe tbody tr th {\n",
       "        vertical-align: top;\n",
       "    }\n",
       "\n",
       "    .dataframe thead th {\n",
       "        text-align: right;\n",
       "    }\n",
       "</style>\n",
       "<table border=\"1\" class=\"dataframe\">\n",
       "  <thead>\n",
       "    <tr style=\"text-align: right;\">\n",
       "      <th></th>\n",
       "      <th>Location</th>\n",
       "      <th>tz</th>\n",
       "    </tr>\n",
       "    <tr>\n",
       "      <th>visit_dt</th>\n",
       "      <th></th>\n",
       "      <th></th>\n",
       "    </tr>\n",
       "  </thead>\n",
       "  <tbody>\n",
       "    <tr>\n",
       "      <th>2023-05-08 07:00:00+09:00</th>\n",
       "      <td>Los Angeles</td>\n",
       "      <td>US/Pacific</td>\n",
       "    </tr>\n",
       "    <tr>\n",
       "      <th>2023-05-08 07:45:00+09:00</th>\n",
       "      <td>New York</td>\n",
       "      <td>US/Eastern</td>\n",
       "    </tr>\n",
       "    <tr>\n",
       "      <th>2023-05-08 08:30:00+09:00</th>\n",
       "      <td>Berlin</td>\n",
       "      <td>Europe/Berlin</td>\n",
       "    </tr>\n",
       "    <tr>\n",
       "      <th>2023-05-08 09:15:00+09:00</th>\n",
       "      <td>New Delhi</td>\n",
       "      <td>Asia/Kolkata</td>\n",
       "    </tr>\n",
       "    <tr>\n",
       "      <th>2023-05-08 10:00:00+09:00</th>\n",
       "      <td>Moscow</td>\n",
       "      <td>Europe/Moscow</td>\n",
       "    </tr>\n",
       "    <tr>\n",
       "      <th>2023-05-08 10:45:00+09:00</th>\n",
       "      <td>Tokyo</td>\n",
       "      <td>Asia/Tokyo</td>\n",
       "    </tr>\n",
       "    <tr>\n",
       "      <th>2023-05-08 11:30:00+09:00</th>\n",
       "      <td>Dubai</td>\n",
       "      <td>Asia/Dubai</td>\n",
       "    </tr>\n",
       "  </tbody>\n",
       "</table>\n",
       "</div>"
      ],
      "text/plain": [
       "                              Location             tz\n",
       "visit_dt                                             \n",
       "2023-05-08 07:00:00+09:00  Los Angeles     US/Pacific\n",
       "2023-05-08 07:45:00+09:00     New York     US/Eastern\n",
       "2023-05-08 08:30:00+09:00       Berlin  Europe/Berlin\n",
       "2023-05-08 09:15:00+09:00    New Delhi   Asia/Kolkata\n",
       "2023-05-08 10:00:00+09:00       Moscow  Europe/Moscow\n",
       "2023-05-08 10:45:00+09:00        Tokyo     Asia/Tokyo\n",
       "2023-05-08 11:30:00+09:00        Dubai     Asia/Dubai"
      ]
     },
     "execution_count": 219,
     "metadata": {},
     "output_type": "execute_result"
    }
   ],
   "source": [
    "df = pd.DataFrame(\n",
    "        {       \n",
    "        'Location': ['Los Angeles', \n",
    "                     'New York',\n",
    "                     'Berlin', \n",
    "                     'New Delhi', \n",
    "                     'Moscow', \n",
    "                     'Tokyo', \n",
    "                     'Dubai'],\n",
    "        'tz': ['US/Pacific', \n",
    "               'US/Eastern', \n",
    "               'Europe/Berlin', \n",
    "               'Asia/Kolkata', \n",
    "               'Europe/Moscow', \n",
    "               'Asia/Tokyo',\n",
    "               'Asia/Dubai'],\n",
    "        'visit_dt': pd.date_range(start='22:00',periods=7, freq='45min'),\n",
    "        }).set_index('visit_dt').tz_localize('UTC').tz_convert('Asia/Tokyo')\n",
    "df"
   ]
  },
  {
   "cell_type": "code",
   "execution_count": 220,
   "metadata": {},
   "outputs": [
    {
     "data": {
      "text/html": [
       "<div>\n",
       "<style scoped>\n",
       "    .dataframe tbody tr th:only-of-type {\n",
       "        vertical-align: middle;\n",
       "    }\n",
       "\n",
       "    .dataframe tbody tr th {\n",
       "        vertical-align: top;\n",
       "    }\n",
       "\n",
       "    .dataframe thead th {\n",
       "        text-align: right;\n",
       "    }\n",
       "</style>\n",
       "<table border=\"1\" class=\"dataframe\">\n",
       "  <thead>\n",
       "    <tr style=\"text-align: right;\">\n",
       "      <th></th>\n",
       "      <th>Location</th>\n",
       "      <th>tz</th>\n",
       "    </tr>\n",
       "    <tr>\n",
       "      <th>visit_dt</th>\n",
       "      <th></th>\n",
       "      <th></th>\n",
       "    </tr>\n",
       "  </thead>\n",
       "  <tbody>\n",
       "    <tr>\n",
       "      <th>2023-05-08 07:00 AM</th>\n",
       "      <td>Los Angeles</td>\n",
       "      <td>US/Pacific</td>\n",
       "    </tr>\n",
       "    <tr>\n",
       "      <th>2023-05-08 07:45 AM</th>\n",
       "      <td>New York</td>\n",
       "      <td>US/Eastern</td>\n",
       "    </tr>\n",
       "    <tr>\n",
       "      <th>2023-05-08 08:30 AM</th>\n",
       "      <td>Berlin</td>\n",
       "      <td>Europe/Berlin</td>\n",
       "    </tr>\n",
       "    <tr>\n",
       "      <th>2023-05-08 09:15 AM</th>\n",
       "      <td>New Delhi</td>\n",
       "      <td>Asia/Kolkata</td>\n",
       "    </tr>\n",
       "    <tr>\n",
       "      <th>2023-05-08 10:00 AM</th>\n",
       "      <td>Moscow</td>\n",
       "      <td>Europe/Moscow</td>\n",
       "    </tr>\n",
       "    <tr>\n",
       "      <th>2023-05-08 10:45 AM</th>\n",
       "      <td>Tokyo</td>\n",
       "      <td>Asia/Tokyo</td>\n",
       "    </tr>\n",
       "    <tr>\n",
       "      <th>2023-05-08 11:30 AM</th>\n",
       "      <td>Dubai</td>\n",
       "      <td>Asia/Dubai</td>\n",
       "    </tr>\n",
       "  </tbody>\n",
       "</table>\n",
       "</div>"
      ],
      "text/plain": [
       "                        Location             tz\n",
       "visit_dt                                       \n",
       "2023-05-08 07:00 AM  Los Angeles     US/Pacific\n",
       "2023-05-08 07:45 AM     New York     US/Eastern\n",
       "2023-05-08 08:30 AM       Berlin  Europe/Berlin\n",
       "2023-05-08 09:15 AM    New Delhi   Asia/Kolkata\n",
       "2023-05-08 10:00 AM       Moscow  Europe/Moscow\n",
       "2023-05-08 10:45 AM        Tokyo     Asia/Tokyo\n",
       "2023-05-08 11:30 AM        Dubai     Asia/Dubai"
      ]
     },
     "execution_count": 220,
     "metadata": {},
     "output_type": "execute_result"
    }
   ],
   "source": [
    "df.index = df.index.strftime('%Y-%m-%d %H:%M %p')\n",
    "df"
   ]
  },
  {
   "cell_type": "code",
   "execution_count": 221,
   "metadata": {},
   "outputs": [
    {
     "name": "stdout",
     "output_type": "stream",
     "text": [
      "<class 'pandas.core.frame.DataFrame'>\n",
      "Index: 7 entries, 2023-05-08 07:00 AM to 2023-05-08 11:30 AM\n",
      "Data columns (total 2 columns):\n",
      " #   Column    Non-Null Count  Dtype \n",
      "---  ------    --------------  ----- \n",
      " 0   Location  7 non-null      object\n",
      " 1   tz        7 non-null      object\n",
      "dtypes: object(2)\n",
      "memory usage: 168.0+ bytes\n"
     ]
    }
   ],
   "source": [
    "df.info()"
   ]
  },
  {
   "cell_type": "markdown",
   "metadata": {},
   "source": [
    "## See Also(Optional)\n",
    "To learn more about tz_convert you can read the official documentation at https://pandas.pydata.org/docs/reference/api/pandas.Series.dt.tz_convert.html and https://pandas.pydata.org/docs/reference/api/pandas.Timestamp.tz_convert.html."
   ]
  },
  {
   "cell_type": "markdown",
   "metadata": {},
   "source": [
    "# Recipe 5: Working with Date Offets"
   ]
  },
  {
   "cell_type": "markdown",
   "metadata": {},
   "source": [
    "When working with time series, it is critical that you learn more about the data you are\n",
    "working with and how it relates to the problem you are attempting to solve. For example,\n",
    "when working with manufacturing or sales data, you cannot assume that an organization's\n",
    "working day is Monday to Friday or whether it uses the standard calendar year or fiscal\n",
    "year. You should also consider understanding any holiday schedule, annual shutdowns,\n",
    "and other matters related to the business operation.\n",
    "\n",
    "This is where offsets can be handy. They can help transform your dates into something\n",
    "more meaningful and relatable to a business. They can also help correct data entries that\n",
    "may not be logical.\n",
    "\n",
    "We will work through a hypothetical example in this recipe and see how to leverage\n",
    "pandas offsets."
   ]
  },
  {
   "cell_type": "markdown",
   "metadata": {},
   "source": [
    "In this recipe, you will generate a time-series DataFrame to represent some daily logs of\n",
    "production quantity. The company, a US-based firm, would like to analyze data to better\n",
    "understand production capacity for future forecasting:"
   ]
  },
  {
   "cell_type": "code",
   "execution_count": 222,
   "metadata": {},
   "outputs": [
    {
     "data": {
      "text/html": [
       "<div>\n",
       "<style scoped>\n",
       "    .dataframe tbody tr th:only-of-type {\n",
       "        vertical-align: middle;\n",
       "    }\n",
       "\n",
       "    .dataframe tbody tr th {\n",
       "        vertical-align: top;\n",
       "    }\n",
       "\n",
       "    .dataframe thead th {\n",
       "        text-align: right;\n",
       "    }\n",
       "</style>\n",
       "<table border=\"1\" class=\"dataframe\">\n",
       "  <thead>\n",
       "    <tr style=\"text-align: right;\">\n",
       "      <th></th>\n",
       "      <th>production</th>\n",
       "    </tr>\n",
       "    <tr>\n",
       "      <th>purchase_dt</th>\n",
       "      <th></th>\n",
       "    </tr>\n",
       "  </thead>\n",
       "  <tbody>\n",
       "    <tr>\n",
       "      <th>2021-01-01</th>\n",
       "      <td>7</td>\n",
       "    </tr>\n",
       "    <tr>\n",
       "      <th>2021-01-02</th>\n",
       "      <td>8</td>\n",
       "    </tr>\n",
       "    <tr>\n",
       "      <th>2021-01-03</th>\n",
       "      <td>7</td>\n",
       "    </tr>\n",
       "    <tr>\n",
       "      <th>2021-01-04</th>\n",
       "      <td>16</td>\n",
       "    </tr>\n",
       "    <tr>\n",
       "      <th>2021-01-05</th>\n",
       "      <td>12</td>\n",
       "    </tr>\n",
       "    <tr>\n",
       "      <th>2021-01-06</th>\n",
       "      <td>15</td>\n",
       "    </tr>\n",
       "  </tbody>\n",
       "</table>\n",
       "</div>"
      ],
      "text/plain": [
       "             production\n",
       "purchase_dt            \n",
       "2021-01-01            7\n",
       "2021-01-02            8\n",
       "2021-01-03            7\n",
       "2021-01-04           16\n",
       "2021-01-05           12\n",
       "2021-01-06           15"
      ]
     },
     "execution_count": 222,
     "metadata": {},
     "output_type": "execute_result"
    }
   ],
   "source": [
    "df = pd.DataFrame(\n",
    "        {       \n",
    "        'purchase_dt': pd.date_range('2021-01-01', periods=6, freq='D'),\n",
    "        'production' : np.random.randint(4, 20, 6)\n",
    "        }).set_index('purchase_dt')\n",
    "df\n"
   ]
  },
  {
   "cell_type": "code",
   "execution_count": 223,
   "metadata": {},
   "outputs": [
    {
     "data": {
      "text/html": [
       "<div>\n",
       "<style scoped>\n",
       "    .dataframe tbody tr th:only-of-type {\n",
       "        vertical-align: middle;\n",
       "    }\n",
       "\n",
       "    .dataframe tbody tr th {\n",
       "        vertical-align: top;\n",
       "    }\n",
       "\n",
       "    .dataframe thead th {\n",
       "        text-align: right;\n",
       "    }\n",
       "</style>\n",
       "<table border=\"1\" class=\"dataframe\">\n",
       "  <thead>\n",
       "    <tr style=\"text-align: right;\">\n",
       "      <th></th>\n",
       "      <th>production</th>\n",
       "      <th>day</th>\n",
       "    </tr>\n",
       "    <tr>\n",
       "      <th>purchase_dt</th>\n",
       "      <th></th>\n",
       "      <th></th>\n",
       "    </tr>\n",
       "  </thead>\n",
       "  <tbody>\n",
       "    <tr>\n",
       "      <th>2021-01-01</th>\n",
       "      <td>7</td>\n",
       "      <td>Friday</td>\n",
       "    </tr>\n",
       "    <tr>\n",
       "      <th>2021-01-02</th>\n",
       "      <td>8</td>\n",
       "      <td>Saturday</td>\n",
       "    </tr>\n",
       "    <tr>\n",
       "      <th>2021-01-03</th>\n",
       "      <td>7</td>\n",
       "      <td>Sunday</td>\n",
       "    </tr>\n",
       "    <tr>\n",
       "      <th>2021-01-04</th>\n",
       "      <td>16</td>\n",
       "      <td>Monday</td>\n",
       "    </tr>\n",
       "    <tr>\n",
       "      <th>2021-01-05</th>\n",
       "      <td>12</td>\n",
       "      <td>Tuesday</td>\n",
       "    </tr>\n",
       "    <tr>\n",
       "      <th>2021-01-06</th>\n",
       "      <td>15</td>\n",
       "      <td>Wednesday</td>\n",
       "    </tr>\n",
       "  </tbody>\n",
       "</table>\n",
       "</div>"
      ],
      "text/plain": [
       "             production        day\n",
       "purchase_dt                       \n",
       "2021-01-01            7     Friday\n",
       "2021-01-02            8   Saturday\n",
       "2021-01-03            7     Sunday\n",
       "2021-01-04           16     Monday\n",
       "2021-01-05           12    Tuesday\n",
       "2021-01-06           15  Wednesday"
      ]
     },
     "execution_count": 223,
     "metadata": {},
     "output_type": "execute_result"
    }
   ],
   "source": [
    "df['day'] = df.index.day_name()\n",
    "df"
   ]
  },
  {
   "cell_type": "code",
   "execution_count": 224,
   "metadata": {},
   "outputs": [
    {
     "data": {
      "text/html": [
       "<div>\n",
       "<style scoped>\n",
       "    .dataframe tbody tr th:only-of-type {\n",
       "        vertical-align: middle;\n",
       "    }\n",
       "\n",
       "    .dataframe tbody tr th {\n",
       "        vertical-align: top;\n",
       "    }\n",
       "\n",
       "    .dataframe thead th {\n",
       "        text-align: right;\n",
       "    }\n",
       "</style>\n",
       "<table border=\"1\" class=\"dataframe\">\n",
       "  <thead>\n",
       "    <tr style=\"text-align: right;\">\n",
       "      <th></th>\n",
       "      <th></th>\n",
       "      <th>production</th>\n",
       "    </tr>\n",
       "    <tr>\n",
       "      <th>purchase_dt</th>\n",
       "      <th>day</th>\n",
       "      <th></th>\n",
       "    </tr>\n",
       "  </thead>\n",
       "  <tbody>\n",
       "    <tr>\n",
       "      <th>2021-01-01</th>\n",
       "      <th>Friday</th>\n",
       "      <td>7</td>\n",
       "    </tr>\n",
       "    <tr>\n",
       "      <th>2021-01-02</th>\n",
       "      <th>Saturday</th>\n",
       "      <td>8</td>\n",
       "    </tr>\n",
       "    <tr>\n",
       "      <th>2021-01-03</th>\n",
       "      <th>Sunday</th>\n",
       "      <td>7</td>\n",
       "    </tr>\n",
       "    <tr>\n",
       "      <th>2021-01-04</th>\n",
       "      <th>Monday</th>\n",
       "      <td>16</td>\n",
       "    </tr>\n",
       "    <tr>\n",
       "      <th>2021-01-05</th>\n",
       "      <th>Tuesday</th>\n",
       "      <td>12</td>\n",
       "    </tr>\n",
       "    <tr>\n",
       "      <th>2021-01-06</th>\n",
       "      <th>Wednesday</th>\n",
       "      <td>15</td>\n",
       "    </tr>\n",
       "  </tbody>\n",
       "</table>\n",
       "</div>"
      ],
      "text/plain": [
       "                       production\n",
       "purchase_dt day                  \n",
       "2021-01-01  Friday              7\n",
       "2021-01-02  Saturday            8\n",
       "2021-01-03  Sunday              7\n",
       "2021-01-04  Monday             16\n",
       "2021-01-05  Tuesday            12\n",
       "2021-01-06  Wednesday          15"
      ]
     },
     "execution_count": 224,
     "metadata": {},
     "output_type": "execute_result"
    }
   ],
   "source": [
    "df.reset_index().groupby(['purchase_dt', 'day']).sum()"
   ]
  },
  {
   "cell_type": "markdown",
   "metadata": {},
   "source": [
    "When working with any data, always understand the business context behind it.\n",
    "Without domain knowledge or business context, it would be difficult to determine\n",
    "whether a data point is acceptable or not. In this scenario, the company was\n",
    "described as a US-based firm, and thus, working days are Monday to Friday. If there\n",
    "is data on a Saturday or Sunday (the weekend), you should not make assumptions\n",
    "without validating with the business. You should confirm whether there was any\n",
    "exception made for production on those specific weekend dates. Also, realize that\n",
    "January 1 was a holiday. After investigation, it was confirmed that production\n",
    "did occur due to an emergency exception. The business executives do not want\n",
    "to account for weekend or holiday work in the forecast. In other words, it was\n",
    "a one-time non-occurring event that they do not want to model or build\n",
    "a hypothesis on."
   ]
  },
  {
   "cell_type": "markdown",
   "metadata": {},
   "source": [
    "The firm asks you to push the weekend/holiday production numbers to the next\n",
    "business day instead. Here, you will use pandas.offsets.BDay(), which\n",
    "represents business days:"
   ]
  },
  {
   "cell_type": "code",
   "execution_count": 225,
   "metadata": {},
   "outputs": [
    {
     "data": {
      "text/plain": [
       "pandas._libs.tslibs.offsets.BusinessDay"
      ]
     },
     "execution_count": 225,
     "metadata": {},
     "output_type": "execute_result"
    }
   ],
   "source": [
    "type(pd.offsets.BDay(0))"
   ]
  },
  {
   "cell_type": "code",
   "execution_count": 226,
   "metadata": {},
   "outputs": [
    {
     "data": {
      "text/html": [
       "<div>\n",
       "<style scoped>\n",
       "    .dataframe tbody tr th:only-of-type {\n",
       "        vertical-align: middle;\n",
       "    }\n",
       "\n",
       "    .dataframe tbody tr th {\n",
       "        vertical-align: top;\n",
       "    }\n",
       "\n",
       "    .dataframe thead th {\n",
       "        text-align: right;\n",
       "    }\n",
       "</style>\n",
       "<table border=\"1\" class=\"dataframe\">\n",
       "  <thead>\n",
       "    <tr style=\"text-align: right;\">\n",
       "      <th></th>\n",
       "      <th>production</th>\n",
       "      <th>day</th>\n",
       "      <th>BusinessDay</th>\n",
       "      <th>BDay Name</th>\n",
       "    </tr>\n",
       "    <tr>\n",
       "      <th>purchase_dt</th>\n",
       "      <th></th>\n",
       "      <th></th>\n",
       "      <th></th>\n",
       "      <th></th>\n",
       "    </tr>\n",
       "  </thead>\n",
       "  <tbody>\n",
       "    <tr>\n",
       "      <th>2021-01-01</th>\n",
       "      <td>7</td>\n",
       "      <td>Friday</td>\n",
       "      <td>2021-01-01</td>\n",
       "      <td>Friday</td>\n",
       "    </tr>\n",
       "    <tr>\n",
       "      <th>2021-01-02</th>\n",
       "      <td>8</td>\n",
       "      <td>Saturday</td>\n",
       "      <td>2021-01-04</td>\n",
       "      <td>Monday</td>\n",
       "    </tr>\n",
       "    <tr>\n",
       "      <th>2021-01-03</th>\n",
       "      <td>7</td>\n",
       "      <td>Sunday</td>\n",
       "      <td>2021-01-04</td>\n",
       "      <td>Monday</td>\n",
       "    </tr>\n",
       "    <tr>\n",
       "      <th>2021-01-04</th>\n",
       "      <td>16</td>\n",
       "      <td>Monday</td>\n",
       "      <td>2021-01-04</td>\n",
       "      <td>Monday</td>\n",
       "    </tr>\n",
       "    <tr>\n",
       "      <th>2021-01-05</th>\n",
       "      <td>12</td>\n",
       "      <td>Tuesday</td>\n",
       "      <td>2021-01-05</td>\n",
       "      <td>Tuesday</td>\n",
       "    </tr>\n",
       "    <tr>\n",
       "      <th>2021-01-06</th>\n",
       "      <td>15</td>\n",
       "      <td>Wednesday</td>\n",
       "      <td>2021-01-06</td>\n",
       "      <td>Wednesday</td>\n",
       "    </tr>\n",
       "  </tbody>\n",
       "</table>\n",
       "</div>"
      ],
      "text/plain": [
       "             production        day BusinessDay  BDay Name\n",
       "purchase_dt                                              \n",
       "2021-01-01            7     Friday  2021-01-01     Friday\n",
       "2021-01-02            8   Saturday  2021-01-04     Monday\n",
       "2021-01-03            7     Sunday  2021-01-04     Monday\n",
       "2021-01-04           16     Monday  2021-01-04     Monday\n",
       "2021-01-05           12    Tuesday  2021-01-05    Tuesday\n",
       "2021-01-06           15  Wednesday  2021-01-06  Wednesday"
      ]
     },
     "execution_count": 226,
     "metadata": {},
     "output_type": "execute_result"
    }
   ],
   "source": [
    "df['BusinessDay'] = df.index - pd.offsets.BDay(0)\n",
    "df['BDay Name'] = df['BusinessDay'].dt.day_name()\n",
    "df"
   ]
  },
  {
   "cell_type": "markdown",
   "metadata": {},
   "source": [
    "Let's perform a summary aggregation that adds production numbers by business\n",
    "days to understand the impact of this change better:"
   ]
  },
  {
   "cell_type": "code",
   "execution_count": 227,
   "metadata": {},
   "outputs": [
    {
     "data": {
      "text/html": [
       "<div>\n",
       "<style scoped>\n",
       "    .dataframe tbody tr th:only-of-type {\n",
       "        vertical-align: middle;\n",
       "    }\n",
       "\n",
       "    .dataframe tbody tr th {\n",
       "        vertical-align: top;\n",
       "    }\n",
       "\n",
       "    .dataframe thead th {\n",
       "        text-align: right;\n",
       "    }\n",
       "</style>\n",
       "<table border=\"1\" class=\"dataframe\">\n",
       "  <thead>\n",
       "    <tr style=\"text-align: right;\">\n",
       "      <th></th>\n",
       "      <th></th>\n",
       "      <th>production</th>\n",
       "      <th>day</th>\n",
       "    </tr>\n",
       "    <tr>\n",
       "      <th>BusinessDay</th>\n",
       "      <th>BDay Name</th>\n",
       "      <th></th>\n",
       "      <th></th>\n",
       "    </tr>\n",
       "  </thead>\n",
       "  <tbody>\n",
       "    <tr>\n",
       "      <th>2021-01-01</th>\n",
       "      <th>Friday</th>\n",
       "      <td>7</td>\n",
       "      <td>Friday</td>\n",
       "    </tr>\n",
       "    <tr>\n",
       "      <th>2021-01-04</th>\n",
       "      <th>Monday</th>\n",
       "      <td>31</td>\n",
       "      <td>SaturdaySundayMonday</td>\n",
       "    </tr>\n",
       "    <tr>\n",
       "      <th>2021-01-05</th>\n",
       "      <th>Tuesday</th>\n",
       "      <td>12</td>\n",
       "      <td>Tuesday</td>\n",
       "    </tr>\n",
       "    <tr>\n",
       "      <th>2021-01-06</th>\n",
       "      <th>Wednesday</th>\n",
       "      <td>15</td>\n",
       "      <td>Wednesday</td>\n",
       "    </tr>\n",
       "  </tbody>\n",
       "</table>\n",
       "</div>"
      ],
      "text/plain": [
       "                       production                   day\n",
       "BusinessDay BDay Name                                  \n",
       "2021-01-01  Friday              7                Friday\n",
       "2021-01-04  Monday             31  SaturdaySundayMonday\n",
       "2021-01-05  Tuesday            12               Tuesday\n",
       "2021-01-06  Wednesday          15             Wednesday"
      ]
     },
     "execution_count": 227,
     "metadata": {},
     "output_type": "execute_result"
    }
   ],
   "source": [
    "df.groupby(['BusinessDay', 'BDay Name']).sum()"
   ]
  },
  {
   "cell_type": "code",
   "execution_count": 228,
   "metadata": {},
   "outputs": [
    {
     "data": {
      "text/plain": [
       "<Axes: xlabel='BusinessDay,BDay Name'>"
      ]
     },
     "execution_count": 228,
     "metadata": {},
     "output_type": "execute_result"
    },
    {
     "data": {
      "image/png": "[encoded data removed]",
      "text/plain": [
       "<Figure size 432x288 with 1 Axes>"
      ]
     },
     "metadata": {
      "needs_background": "light"
     },
     "output_type": "display_data"
    }
   ],
   "source": [
    "df.groupby(['BusinessDay', 'BDay Name']).sum().plot.bar(rot=45)"
   ]
  },
  {
   "cell_type": "markdown",
   "metadata": {},
   "source": [
    "Finally, the business has made another request – they would like to track production\n",
    "monthly (MonthEnd) and quarterly (QuarterEnd). You can use pandas.\n",
    "offsets again to add two new columns:"
   ]
  },
  {
   "cell_type": "code",
   "execution_count": 229,
   "metadata": {},
   "outputs": [
    {
     "data": {
      "text/html": [
       "<div>\n",
       "<style scoped>\n",
       "    .dataframe tbody tr th:only-of-type {\n",
       "        vertical-align: middle;\n",
       "    }\n",
       "\n",
       "    .dataframe tbody tr th {\n",
       "        vertical-align: top;\n",
       "    }\n",
       "\n",
       "    .dataframe thead th {\n",
       "        text-align: right;\n",
       "    }\n",
       "</style>\n",
       "<table border=\"1\" class=\"dataframe\">\n",
       "  <thead>\n",
       "    <tr style=\"text-align: right;\">\n",
       "      <th></th>\n",
       "      <th>production</th>\n",
       "    </tr>\n",
       "    <tr>\n",
       "      <th>purchase_dt</th>\n",
       "      <th></th>\n",
       "    </tr>\n",
       "  </thead>\n",
       "  <tbody>\n",
       "    <tr>\n",
       "      <th>2021-01-01</th>\n",
       "      <td>16</td>\n",
       "    </tr>\n",
       "    <tr>\n",
       "      <th>2021-01-02</th>\n",
       "      <td>16</td>\n",
       "    </tr>\n",
       "    <tr>\n",
       "      <th>2021-01-03</th>\n",
       "      <td>17</td>\n",
       "    </tr>\n",
       "    <tr>\n",
       "      <th>2021-01-04</th>\n",
       "      <td>5</td>\n",
       "    </tr>\n",
       "    <tr>\n",
       "      <th>2021-01-05</th>\n",
       "      <td>4</td>\n",
       "    </tr>\n",
       "    <tr>\n",
       "      <th>2021-01-06</th>\n",
       "      <td>12</td>\n",
       "    </tr>\n",
       "  </tbody>\n",
       "</table>\n",
       "</div>"
      ],
      "text/plain": [
       "             production\n",
       "purchase_dt            \n",
       "2021-01-01           16\n",
       "2021-01-02           16\n",
       "2021-01-03           17\n",
       "2021-01-04            5\n",
       "2021-01-05            4\n",
       "2021-01-06           12"
      ]
     },
     "execution_count": 229,
     "metadata": {},
     "output_type": "execute_result"
    }
   ],
   "source": [
    "df = pd.DataFrame(\n",
    "        {       \n",
    "        'purchase_dt': pd.date_range('2021-01-01', periods=6, freq='D'),\n",
    "        'production' : np.random.randint(4, 20, 6)\n",
    "        }).set_index('purchase_dt')\n",
    "df"
   ]
  },
  {
   "cell_type": "code",
   "execution_count": 230,
   "metadata": {},
   "outputs": [
    {
     "data": {
      "text/html": [
       "<div>\n",
       "<style scoped>\n",
       "    .dataframe tbody tr th:only-of-type {\n",
       "        vertical-align: middle;\n",
       "    }\n",
       "\n",
       "    .dataframe tbody tr th {\n",
       "        vertical-align: top;\n",
       "    }\n",
       "\n",
       "    .dataframe thead th {\n",
       "        text-align: right;\n",
       "    }\n",
       "</style>\n",
       "<table border=\"1\" class=\"dataframe\">\n",
       "  <thead>\n",
       "    <tr style=\"text-align: right;\">\n",
       "      <th></th>\n",
       "      <th>production</th>\n",
       "      <th>QuarterEnd</th>\n",
       "    </tr>\n",
       "    <tr>\n",
       "      <th>purchase_dt</th>\n",
       "      <th></th>\n",
       "      <th></th>\n",
       "    </tr>\n",
       "  </thead>\n",
       "  <tbody>\n",
       "    <tr>\n",
       "      <th>2021-01-01</th>\n",
       "      <td>16</td>\n",
       "      <td>2021-03-31</td>\n",
       "    </tr>\n",
       "    <tr>\n",
       "      <th>2021-01-02</th>\n",
       "      <td>16</td>\n",
       "      <td>2021-03-31</td>\n",
       "    </tr>\n",
       "    <tr>\n",
       "      <th>2021-01-03</th>\n",
       "      <td>17</td>\n",
       "      <td>2021-03-31</td>\n",
       "    </tr>\n",
       "    <tr>\n",
       "      <th>2021-01-04</th>\n",
       "      <td>5</td>\n",
       "      <td>2021-03-31</td>\n",
       "    </tr>\n",
       "    <tr>\n",
       "      <th>2021-01-05</th>\n",
       "      <td>4</td>\n",
       "      <td>2021-03-31</td>\n",
       "    </tr>\n",
       "    <tr>\n",
       "      <th>2021-01-06</th>\n",
       "      <td>12</td>\n",
       "      <td>2021-03-31</td>\n",
       "    </tr>\n",
       "  </tbody>\n",
       "</table>\n",
       "</div>"
      ],
      "text/plain": [
       "             production QuarterEnd\n",
       "purchase_dt                       \n",
       "2021-01-01           16 2021-03-31\n",
       "2021-01-02           16 2021-03-31\n",
       "2021-01-03           17 2021-03-31\n",
       "2021-01-04            5 2021-03-31\n",
       "2021-01-05            4 2021-03-31\n",
       "2021-01-06           12 2021-03-31"
      ]
     },
     "execution_count": 230,
     "metadata": {},
     "output_type": "execute_result"
    }
   ],
   "source": [
    "df['QuarterEnd'] = df.index + pd.offsets.QuarterEnd(0)\n",
    "#df['BDay Name'] = df['BusinessDay'].dt.day_name()\n",
    "df"
   ]
  },
  {
   "cell_type": "code",
   "execution_count": 231,
   "metadata": {},
   "outputs": [
    {
     "data": {
      "text/html": [
       "<div>\n",
       "<style scoped>\n",
       "    .dataframe tbody tr th:only-of-type {\n",
       "        vertical-align: middle;\n",
       "    }\n",
       "\n",
       "    .dataframe tbody tr th {\n",
       "        vertical-align: top;\n",
       "    }\n",
       "\n",
       "    .dataframe thead th {\n",
       "        text-align: right;\n",
       "    }\n",
       "</style>\n",
       "<table border=\"1\" class=\"dataframe\">\n",
       "  <thead>\n",
       "    <tr style=\"text-align: right;\">\n",
       "      <th></th>\n",
       "      <th>production</th>\n",
       "      <th>QuarterEnd</th>\n",
       "      <th>MonthEnd</th>\n",
       "    </tr>\n",
       "    <tr>\n",
       "      <th>purchase_dt</th>\n",
       "      <th></th>\n",
       "      <th></th>\n",
       "      <th></th>\n",
       "    </tr>\n",
       "  </thead>\n",
       "  <tbody>\n",
       "    <tr>\n",
       "      <th>2021-01-01</th>\n",
       "      <td>16</td>\n",
       "      <td>2021-03-31</td>\n",
       "      <td>2021-01-31</td>\n",
       "    </tr>\n",
       "    <tr>\n",
       "      <th>2021-01-02</th>\n",
       "      <td>16</td>\n",
       "      <td>2021-03-31</td>\n",
       "      <td>2021-01-31</td>\n",
       "    </tr>\n",
       "    <tr>\n",
       "      <th>2021-01-03</th>\n",
       "      <td>17</td>\n",
       "      <td>2021-03-31</td>\n",
       "      <td>2021-01-31</td>\n",
       "    </tr>\n",
       "    <tr>\n",
       "      <th>2021-01-04</th>\n",
       "      <td>5</td>\n",
       "      <td>2021-03-31</td>\n",
       "      <td>2021-01-31</td>\n",
       "    </tr>\n",
       "    <tr>\n",
       "      <th>2021-01-05</th>\n",
       "      <td>4</td>\n",
       "      <td>2021-03-31</td>\n",
       "      <td>2021-01-31</td>\n",
       "    </tr>\n",
       "    <tr>\n",
       "      <th>2021-01-06</th>\n",
       "      <td>12</td>\n",
       "      <td>2021-03-31</td>\n",
       "      <td>2021-01-31</td>\n",
       "    </tr>\n",
       "  </tbody>\n",
       "</table>\n",
       "</div>"
      ],
      "text/plain": [
       "             production QuarterEnd   MonthEnd\n",
       "purchase_dt                                  \n",
       "2021-01-01           16 2021-03-31 2021-01-31\n",
       "2021-01-02           16 2021-03-31 2021-01-31\n",
       "2021-01-03           17 2021-03-31 2021-01-31\n",
       "2021-01-04            5 2021-03-31 2021-01-31\n",
       "2021-01-05            4 2021-03-31 2021-01-31\n",
       "2021-01-06           12 2021-03-31 2021-01-31"
      ]
     },
     "execution_count": 231,
     "metadata": {},
     "output_type": "execute_result"
    }
   ],
   "source": [
    "df['MonthEnd'] = df.index + pd.offsets.MonthEnd(0)\n",
    "#df['BDay Name'] = df['BusinessDay'].dt.day_name()\n",
    "df"
   ]
  },
  {
   "cell_type": "code",
   "execution_count": 232,
   "metadata": {},
   "outputs": [
    {
     "data": {
      "text/html": [
       "<div>\n",
       "<style scoped>\n",
       "    .dataframe tbody tr th:only-of-type {\n",
       "        vertical-align: middle;\n",
       "    }\n",
       "\n",
       "    .dataframe tbody tr th {\n",
       "        vertical-align: top;\n",
       "    }\n",
       "\n",
       "    .dataframe thead th {\n",
       "        text-align: right;\n",
       "    }\n",
       "</style>\n",
       "<table border=\"1\" class=\"dataframe\">\n",
       "  <thead>\n",
       "    <tr style=\"text-align: right;\">\n",
       "      <th></th>\n",
       "      <th>production</th>\n",
       "      <th>QuarterEnd</th>\n",
       "      <th>MonthEnd</th>\n",
       "      <th>BusinessDay</th>\n",
       "    </tr>\n",
       "    <tr>\n",
       "      <th>purchase_dt</th>\n",
       "      <th></th>\n",
       "      <th></th>\n",
       "      <th></th>\n",
       "      <th></th>\n",
       "    </tr>\n",
       "  </thead>\n",
       "  <tbody>\n",
       "    <tr>\n",
       "      <th>2021-01-01</th>\n",
       "      <td>16</td>\n",
       "      <td>2021-03-31</td>\n",
       "      <td>2021-01-31</td>\n",
       "      <td>2021-01-01</td>\n",
       "    </tr>\n",
       "    <tr>\n",
       "      <th>2021-01-02</th>\n",
       "      <td>16</td>\n",
       "      <td>2021-03-31</td>\n",
       "      <td>2021-01-31</td>\n",
       "      <td>2021-01-04</td>\n",
       "    </tr>\n",
       "    <tr>\n",
       "      <th>2021-01-03</th>\n",
       "      <td>17</td>\n",
       "      <td>2021-03-31</td>\n",
       "      <td>2021-01-31</td>\n",
       "      <td>2021-01-04</td>\n",
       "    </tr>\n",
       "    <tr>\n",
       "      <th>2021-01-04</th>\n",
       "      <td>5</td>\n",
       "      <td>2021-03-31</td>\n",
       "      <td>2021-01-31</td>\n",
       "      <td>2021-01-04</td>\n",
       "    </tr>\n",
       "    <tr>\n",
       "      <th>2021-01-05</th>\n",
       "      <td>4</td>\n",
       "      <td>2021-03-31</td>\n",
       "      <td>2021-01-31</td>\n",
       "      <td>2021-01-05</td>\n",
       "    </tr>\n",
       "    <tr>\n",
       "      <th>2021-01-06</th>\n",
       "      <td>12</td>\n",
       "      <td>2021-03-31</td>\n",
       "      <td>2021-01-31</td>\n",
       "      <td>2021-01-06</td>\n",
       "    </tr>\n",
       "  </tbody>\n",
       "</table>\n",
       "</div>"
      ],
      "text/plain": [
       "             production QuarterEnd   MonthEnd BusinessDay\n",
       "purchase_dt                                              \n",
       "2021-01-01           16 2021-03-31 2021-01-31  2021-01-01\n",
       "2021-01-02           16 2021-03-31 2021-01-31  2021-01-04\n",
       "2021-01-03           17 2021-03-31 2021-01-31  2021-01-04\n",
       "2021-01-04            5 2021-03-31 2021-01-31  2021-01-04\n",
       "2021-01-05            4 2021-03-31 2021-01-31  2021-01-05\n",
       "2021-01-06           12 2021-03-31 2021-01-31  2021-01-06"
      ]
     },
     "execution_count": 232,
     "metadata": {},
     "output_type": "execute_result"
    }
   ],
   "source": [
    "df['BusinessDay'] = df.index + pd.offsets.BDay(0)\n",
    "df"
   ]
  },
  {
   "cell_type": "markdown",
   "metadata": {},
   "source": [
    "Using date offsets made it possible to increment, decrement, and transform your dates to\n",
    "a new date range following specific rules. There are several offsets provided by pandas,\n",
    "each with its own rules, which can be applied to your dataset. Here is a list of the common\n",
    "offsets available in pandas:\n",
    "\n",
    "*  BusinessDay or Bday\n",
    "* MonthEnd\n",
    "* BusinessMonthEnd or BmonthEnd\n",
    "* CustomBusinessDay or Cday\n",
    "* QuarterEnd\n",
    "* FY253Quarter\n",
    "\n",
    "Working with date offsets 191\n",
    "For a more comprehensive list and their descriptions, you can visit the documentation\n",
    "here: https://pandas.pydata.org/pandas-docs/stable/user_guide/timeseries.html#dateoffset-objects."
   ]
  },
  {
   "cell_type": "markdown",
   "metadata": {},
   "source": [
    "## There is More"
   ]
  },
  {
   "cell_type": "markdown",
   "metadata": {},
   "source": [
    "Following our example, you may have noticed when using the BusinessDay (BDay)\n",
    "offset that it did not account for the New Year's Day holiday (January 1). So, what can be\n",
    "done to account for both the New Year's Day holiday and weekends?\n",
    "To accomplish this, pandas provides two approaches to handle standard holidays. The first\n",
    "method is by defining a custom holiday. The second approach (when suitable) uses an\n",
    "existing holiday offset.\n",
    "Let's start with an existing offset. For this example, dealing with New Year, you can use the\n",
    "USFederalHolidayCalendar class, which has standard holidays such as New Year,\n",
    "Christmas, and other holidays specific to the United States. So, let's see how this works."
   ]
  },
  {
   "cell_type": "code",
   "execution_count": 233,
   "metadata": {},
   "outputs": [
    {
     "data": {
      "text/html": [
       "<div>\n",
       "<style scoped>\n",
       "    .dataframe tbody tr th:only-of-type {\n",
       "        vertical-align: middle;\n",
       "    }\n",
       "\n",
       "    .dataframe tbody tr th {\n",
       "        vertical-align: top;\n",
       "    }\n",
       "\n",
       "    .dataframe thead th {\n",
       "        text-align: right;\n",
       "    }\n",
       "</style>\n",
       "<table border=\"1\" class=\"dataframe\">\n",
       "  <thead>\n",
       "    <tr style=\"text-align: right;\">\n",
       "      <th></th>\n",
       "      <th>production</th>\n",
       "    </tr>\n",
       "    <tr>\n",
       "      <th>purchase_dt</th>\n",
       "      <th></th>\n",
       "    </tr>\n",
       "  </thead>\n",
       "  <tbody>\n",
       "    <tr>\n",
       "      <th>2021-01-01</th>\n",
       "      <td>17</td>\n",
       "    </tr>\n",
       "    <tr>\n",
       "      <th>2021-01-02</th>\n",
       "      <td>15</td>\n",
       "    </tr>\n",
       "    <tr>\n",
       "      <th>2021-01-03</th>\n",
       "      <td>7</td>\n",
       "    </tr>\n",
       "    <tr>\n",
       "      <th>2021-01-04</th>\n",
       "      <td>6</td>\n",
       "    </tr>\n",
       "    <tr>\n",
       "      <th>2021-01-05</th>\n",
       "      <td>5</td>\n",
       "    </tr>\n",
       "    <tr>\n",
       "      <th>2021-01-06</th>\n",
       "      <td>6</td>\n",
       "    </tr>\n",
       "  </tbody>\n",
       "</table>\n",
       "</div>"
      ],
      "text/plain": [
       "             production\n",
       "purchase_dt            \n",
       "2021-01-01           17\n",
       "2021-01-02           15\n",
       "2021-01-03            7\n",
       "2021-01-04            6\n",
       "2021-01-05            5\n",
       "2021-01-06            6"
      ]
     },
     "execution_count": 233,
     "metadata": {},
     "output_type": "execute_result"
    }
   ],
   "source": [
    "from pandas.tseries.holiday import (\n",
    "    USFederalHolidayCalendar\n",
    ")\n",
    "\n",
    "df = pd.DataFrame(\n",
    "        {       \n",
    "        'purchase_dt': pd.date_range('2021-01-01', periods=6, freq='D'),\n",
    "        'production' : np.random.randint(4, 20, 6)\n",
    "        }).set_index('purchase_dt')\n",
    "df"
   ]
  },
  {
   "cell_type": "code",
   "execution_count": 234,
   "metadata": {},
   "outputs": [
    {
     "data": {
      "text/plain": [
       "[Holiday: New Year's Day (month=1, day=1, observance=<function nearest_workday at 0x000001D3CD40B880>),\n",
       " Holiday: Birthday of Martin Luther King, Jr. (month=1, day=1, offset=<DateOffset: weekday=MO(+3)>),\n",
       " Holiday: Washington’s Birthday (month=2, day=1, offset=<DateOffset: weekday=MO(+3)>),\n",
       " Holiday: Memorial Day (month=5, day=31, offset=<DateOffset: weekday=MO(-1)>),\n",
       " Holiday: Juneteenth National Independence Day (month=6, day=19, observance=<function nearest_workday at 0x000001D3CD40B880>),\n",
       " Holiday: Independence Day (month=7, day=4, observance=<function nearest_workday at 0x000001D3CD40B880>),\n",
       " Holiday: Labor Day (month=9, day=1, offset=<DateOffset: weekday=MO(+1)>),\n",
       " Holiday: Columbus Day (month=10, day=1, offset=<DateOffset: weekday=MO(+2)>),\n",
       " Holiday: Veterans Day (month=11, day=11, observance=<function nearest_workday at 0x000001D3CD40B880>),\n",
       " Holiday: Thanksgiving Day (month=11, day=1, offset=<DateOffset: weekday=TH(+4)>),\n",
       " Holiday: Christmas Day (month=12, day=25, observance=<function nearest_workday at 0x000001D3CD40B880>)]"
      ]
     },
     "execution_count": 234,
     "metadata": {},
     "output_type": "execute_result"
    }
   ],
   "source": [
    "USFederalHolidayCalendar.rules"
   ]
  },
  {
   "cell_type": "markdown",
   "metadata": {},
   "source": [
    "To apply these rules, you will use the CustomerBusinessDay or CDay offset:"
   ]
  },
  {
   "cell_type": "code",
   "execution_count": 235,
   "metadata": {},
   "outputs": [
    {
     "data": {
      "text/html": [
       "<div>\n",
       "<style scoped>\n",
       "    .dataframe tbody tr th:only-of-type {\n",
       "        vertical-align: middle;\n",
       "    }\n",
       "\n",
       "    .dataframe tbody tr th {\n",
       "        vertical-align: top;\n",
       "    }\n",
       "\n",
       "    .dataframe thead th {\n",
       "        text-align: right;\n",
       "    }\n",
       "</style>\n",
       "<table border=\"1\" class=\"dataframe\">\n",
       "  <thead>\n",
       "    <tr style=\"text-align: right;\">\n",
       "      <th></th>\n",
       "      <th>production</th>\n",
       "      <th>USFederalHolidays</th>\n",
       "    </tr>\n",
       "    <tr>\n",
       "      <th>purchase_dt</th>\n",
       "      <th></th>\n",
       "      <th></th>\n",
       "    </tr>\n",
       "  </thead>\n",
       "  <tbody>\n",
       "    <tr>\n",
       "      <th>2021-01-01</th>\n",
       "      <td>17</td>\n",
       "      <td>2021-01-04</td>\n",
       "    </tr>\n",
       "    <tr>\n",
       "      <th>2021-01-02</th>\n",
       "      <td>15</td>\n",
       "      <td>2021-01-04</td>\n",
       "    </tr>\n",
       "    <tr>\n",
       "      <th>2021-01-03</th>\n",
       "      <td>7</td>\n",
       "      <td>2021-01-04</td>\n",
       "    </tr>\n",
       "    <tr>\n",
       "      <th>2021-01-04</th>\n",
       "      <td>6</td>\n",
       "      <td>2021-01-05</td>\n",
       "    </tr>\n",
       "    <tr>\n",
       "      <th>2021-01-05</th>\n",
       "      <td>5</td>\n",
       "      <td>2021-01-06</td>\n",
       "    </tr>\n",
       "    <tr>\n",
       "      <th>2021-01-06</th>\n",
       "      <td>6</td>\n",
       "      <td>2021-01-07</td>\n",
       "    </tr>\n",
       "  </tbody>\n",
       "</table>\n",
       "</div>"
      ],
      "text/plain": [
       "             production USFederalHolidays\n",
       "purchase_dt                              \n",
       "2021-01-01           17        2021-01-04\n",
       "2021-01-02           15        2021-01-04\n",
       "2021-01-03            7        2021-01-04\n",
       "2021-01-04            6        2021-01-05\n",
       "2021-01-05            5        2021-01-06\n",
       "2021-01-06            6        2021-01-07"
      ]
     },
     "execution_count": 235,
     "metadata": {},
     "output_type": "execute_result"
    }
   ],
   "source": [
    "df['USFederalHolidays'] = df.index + pd.offsets.CDay(calendar=USFederalHolidayCalendar())\n",
    "df"
   ]
  },
  {
   "cell_type": "markdown",
   "metadata": {},
   "source": [
    "The custom holiday option will behave in the same way. You will need to import the\n",
    "Holiday class and the nearest_workday function. You will use the Holiday class to\n",
    "define your specific holidays. In this case, you will determine the New Year's rule:"
   ]
  },
  {
   "cell_type": "code",
   "execution_count": 236,
   "metadata": {},
   "outputs": [],
   "source": [
    "from pandas.tseries.holiday import (\n",
    "    Holiday,\n",
    "    nearest_workday\n",
    ")"
   ]
  },
  {
   "cell_type": "code",
   "execution_count": 237,
   "metadata": {},
   "outputs": [
    {
     "data": {
      "text/plain": [
       "pandas.tseries.holiday.Holiday"
      ]
     },
     "execution_count": 237,
     "metadata": {},
     "output_type": "execute_result"
    }
   ],
   "source": [
    "Holiday"
   ]
  },
  {
   "cell_type": "code",
   "execution_count": 238,
   "metadata": {},
   "outputs": [
    {
     "data": {
      "text/plain": [
       "Holiday: New Years (month=1, day=1, observance=<function nearest_workday at 0x000001D3CD40B880>)"
      ]
     },
     "execution_count": 238,
     "metadata": {},
     "output_type": "execute_result"
    }
   ],
   "source": [
    "newyears = Holiday(\"New Years\", \n",
    "                   month=1, \n",
    "                   day=1, \n",
    "                   observance=nearest_workday)\n",
    "newyears"
   ]
  },
  {
   "cell_type": "code",
   "execution_count": 239,
   "metadata": {},
   "outputs": [
    {
     "data": {
      "text/html": [
       "<div>\n",
       "<style scoped>\n",
       "    .dataframe tbody tr th:only-of-type {\n",
       "        vertical-align: middle;\n",
       "    }\n",
       "\n",
       "    .dataframe tbody tr th {\n",
       "        vertical-align: top;\n",
       "    }\n",
       "\n",
       "    .dataframe thead th {\n",
       "        text-align: right;\n",
       "    }\n",
       "</style>\n",
       "<table border=\"1\" class=\"dataframe\">\n",
       "  <thead>\n",
       "    <tr style=\"text-align: right;\">\n",
       "      <th></th>\n",
       "      <th>production</th>\n",
       "      <th>USFederalHolidays</th>\n",
       "      <th>NewYearsHoliday</th>\n",
       "    </tr>\n",
       "    <tr>\n",
       "      <th>purchase_dt</th>\n",
       "      <th></th>\n",
       "      <th></th>\n",
       "      <th></th>\n",
       "    </tr>\n",
       "  </thead>\n",
       "  <tbody>\n",
       "    <tr>\n",
       "      <th>2021-01-01</th>\n",
       "      <td>17</td>\n",
       "      <td>2021-01-04</td>\n",
       "      <td>2021-01-04</td>\n",
       "    </tr>\n",
       "    <tr>\n",
       "      <th>2021-01-02</th>\n",
       "      <td>15</td>\n",
       "      <td>2021-01-04</td>\n",
       "      <td>2021-01-04</td>\n",
       "    </tr>\n",
       "    <tr>\n",
       "      <th>2021-01-03</th>\n",
       "      <td>7</td>\n",
       "      <td>2021-01-04</td>\n",
       "      <td>2021-01-04</td>\n",
       "    </tr>\n",
       "    <tr>\n",
       "      <th>2021-01-04</th>\n",
       "      <td>6</td>\n",
       "      <td>2021-01-05</td>\n",
       "      <td>2021-01-05</td>\n",
       "    </tr>\n",
       "    <tr>\n",
       "      <th>2021-01-05</th>\n",
       "      <td>5</td>\n",
       "      <td>2021-01-06</td>\n",
       "      <td>2021-01-06</td>\n",
       "    </tr>\n",
       "    <tr>\n",
       "      <th>2021-01-06</th>\n",
       "      <td>6</td>\n",
       "      <td>2021-01-07</td>\n",
       "      <td>2021-01-07</td>\n",
       "    </tr>\n",
       "  </tbody>\n",
       "</table>\n",
       "</div>"
      ],
      "text/plain": [
       "             production USFederalHolidays NewYearsHoliday\n",
       "purchase_dt                                              \n",
       "2021-01-01           17        2021-01-04      2021-01-04\n",
       "2021-01-02           15        2021-01-04      2021-01-04\n",
       "2021-01-03            7        2021-01-04      2021-01-04\n",
       "2021-01-04            6        2021-01-05      2021-01-05\n",
       "2021-01-05            5        2021-01-06      2021-01-06\n",
       "2021-01-06            6        2021-01-07      2021-01-07"
      ]
     },
     "execution_count": 239,
     "metadata": {},
     "output_type": "execute_result"
    }
   ],
   "source": [
    "df['NewYearsHoliday'] = df.index + pd.offsets.CDay(calendar=newyears)\n",
    "df"
   ]
  },
  {
   "cell_type": "code",
   "execution_count": 240,
   "metadata": {},
   "outputs": [
    {
     "data": {
      "text/plain": [
       "Timestamp('2021-01-04 00:00:00')"
      ]
     },
     "execution_count": 240,
     "metadata": {},
     "output_type": "execute_result"
    }
   ],
   "source": [
    "nearest_workday(pd.to_datetime('2021-1-3'))"
   ]
  },
  {
   "cell_type": "markdown",
   "metadata": {},
   "source": [
    "As illustrated, the function mainly determines whether the day is a weekday or not, and\n",
    "based on that, it will either use the day before (if it falls on a Saturday) or the day after\n",
    "(if it falls on a Sunday). There are other rules available as well as nearest_workday,\n",
    "including the following:\n",
    "\n",
    "* Sunday_to_Monday\n",
    "* Next_Monday_or_Tuesday\n",
    "* Previous_Friday\n",
    "* Next_monday"
   ]
  },
  {
   "cell_type": "markdown",
   "metadata": {},
   "source": [
    "## See also(Optional)\n",
    "For more insight regarding pandas.tseries.holiday, you can view the actual code,\n",
    "which highlights all the classes and functions and can serve as an excellent reference,\n",
    "at https://github.com/pandas-dev/pandas/blob/master/pandas/tseries/holiday.py."
   ]
  },
  {
   "cell_type": "markdown",
   "metadata": {},
   "source": [
    "# Recipe 7: Working with custom business days"
   ]
  },
  {
   "cell_type": "markdown",
   "metadata": {},
   "source": [
    "Companies have different working days worldwide, influenced by the region or territory\n",
    "they belong to. For example, when working with time-series data and depending on the\n",
    "analysis you need to make, knowing whether certain transactions fall on a workday\n",
    "or weekend can make a difference. For example, suppose you are doing anomaly\n",
    "detection, and you know that certain types of activities can only be done during\n",
    "working hours. In that case, any activities beyond these boundaries may trigger\n",
    "some further analysis.\n",
    "\n",
    "\n",
    "In this recipe, you will see how you can customize an offset to fit your requirements when\n",
    "doing an analysis that depends on defined business days and non-business days."
   ]
  },
  {
   "cell_type": "markdown",
   "metadata": {},
   "source": [
    "In this recipe, you will create custom business days and holidays for a company\n",
    "headquartered in Dubai, UAE. In the UAE, the working week is from Sunday to Thursday,\n",
    "whereas Friday to Saturday is a 2-day weekend. Additionally, their National Day\n",
    "(a holiday) is on December 2 each year:"
   ]
  },
  {
   "cell_type": "markdown",
   "metadata": {},
   "source": [
    "You will start by defining the workdays and holidays for\n",
    "the UAE:"
   ]
  },
  {
   "cell_type": "code",
   "execution_count": 241,
   "metadata": {},
   "outputs": [],
   "source": [
    "dubai_uae_workdays = \"Sun Mon Tue Wed Thu\"\n",
    "\n",
    "# UAE national day\n",
    "nationalDay = [pd.to_datetime('2021-12-2')]\n",
    "\n",
    "\n",
    "dubai_uae_bday = pd.offsets.CDay(\n",
    "    holidays=nationalDay,\n",
    "    weekmask=dubai_uae_workdays,\n",
    ")"
   ]
  },
  {
   "cell_type": "code",
   "execution_count": 242,
   "metadata": {},
   "outputs": [
    {
     "data": {
      "text/plain": [
       "(numpy.datetime64('2021-12-02'),)"
      ]
     },
     "execution_count": 242,
     "metadata": {},
     "output_type": "execute_result"
    }
   ],
   "source": [
    "dubai_uae_bday.holidays"
   ]
  },
  {
   "cell_type": "code",
   "execution_count": 243,
   "metadata": {},
   "outputs": [
    {
     "data": {
      "text/plain": [
       "'Sun Mon Tue Wed Thu'"
      ]
     },
     "execution_count": 243,
     "metadata": {},
     "output_type": "execute_result"
    }
   ],
   "source": [
    "dubai_uae_bday.weekmask"
   ]
  },
  {
   "cell_type": "code",
   "execution_count": 244,
   "metadata": {},
   "outputs": [
    {
     "data": {
      "text/html": [
       "<div>\n",
       "<style scoped>\n",
       "    .dataframe tbody tr th:only-of-type {\n",
       "        vertical-align: middle;\n",
       "    }\n",
       "\n",
       "    .dataframe tbody tr th {\n",
       "        vertical-align: top;\n",
       "    }\n",
       "\n",
       "    .dataframe thead th {\n",
       "        text-align: right;\n",
       "    }\n",
       "</style>\n",
       "<table border=\"1\" class=\"dataframe\">\n",
       "  <thead>\n",
       "    <tr style=\"text-align: right;\">\n",
       "      <th></th>\n",
       "      <th>Date</th>\n",
       "    </tr>\n",
       "  </thead>\n",
       "  <tbody>\n",
       "    <tr>\n",
       "      <th>0</th>\n",
       "      <td>2021-12-01</td>\n",
       "    </tr>\n",
       "    <tr>\n",
       "      <th>1</th>\n",
       "      <td>2021-12-05</td>\n",
       "    </tr>\n",
       "    <tr>\n",
       "      <th>2</th>\n",
       "      <td>2021-12-06</td>\n",
       "    </tr>\n",
       "    <tr>\n",
       "      <th>3</th>\n",
       "      <td>2021-12-07</td>\n",
       "    </tr>\n",
       "    <tr>\n",
       "      <th>4</th>\n",
       "      <td>2021-12-08</td>\n",
       "    </tr>\n",
       "    <tr>\n",
       "      <th>5</th>\n",
       "      <td>2021-12-09</td>\n",
       "    </tr>\n",
       "    <tr>\n",
       "      <th>6</th>\n",
       "      <td>2021-12-12</td>\n",
       "    </tr>\n",
       "    <tr>\n",
       "      <th>7</th>\n",
       "      <td>2021-12-13</td>\n",
       "    </tr>\n",
       "    <tr>\n",
       "      <th>8</th>\n",
       "      <td>2021-12-14</td>\n",
       "    </tr>\n",
       "    <tr>\n",
       "      <th>9</th>\n",
       "      <td>2021-12-15</td>\n",
       "    </tr>\n",
       "  </tbody>\n",
       "</table>\n",
       "</div>"
      ],
      "text/plain": [
       "        Date\n",
       "0 2021-12-01\n",
       "1 2021-12-05\n",
       "2 2021-12-06\n",
       "3 2021-12-07\n",
       "4 2021-12-08\n",
       "5 2021-12-09\n",
       "6 2021-12-12\n",
       "7 2021-12-13\n",
       "8 2021-12-14\n",
       "9 2021-12-15"
      ]
     },
     "execution_count": 244,
     "metadata": {},
     "output_type": "execute_result"
    }
   ],
   "source": [
    "df = pd.DataFrame({'Date': pd.date_range('12-1-2021', periods=10, freq=dubai_uae_bday )})\n",
    "df"
   ]
  },
  {
   "cell_type": "markdown",
   "metadata": {},
   "source": []
  },
  {
   "cell_type": "code",
   "execution_count": 245,
   "metadata": {},
   "outputs": [
    {
     "data": {
      "text/html": [
       "<div>\n",
       "<style scoped>\n",
       "    .dataframe tbody tr th:only-of-type {\n",
       "        vertical-align: middle;\n",
       "    }\n",
       "\n",
       "    .dataframe tbody tr th {\n",
       "        vertical-align: top;\n",
       "    }\n",
       "\n",
       "    .dataframe thead th {\n",
       "        text-align: right;\n",
       "    }\n",
       "</style>\n",
       "<table border=\"1\" class=\"dataframe\">\n",
       "  <thead>\n",
       "    <tr style=\"text-align: right;\">\n",
       "      <th></th>\n",
       "      <th>Date</th>\n",
       "      <th>Day_name</th>\n",
       "    </tr>\n",
       "  </thead>\n",
       "  <tbody>\n",
       "    <tr>\n",
       "      <th>0</th>\n",
       "      <td>2021-12-01</td>\n",
       "      <td>Wednesday</td>\n",
       "    </tr>\n",
       "    <tr>\n",
       "      <th>1</th>\n",
       "      <td>2021-12-05</td>\n",
       "      <td>Sunday</td>\n",
       "    </tr>\n",
       "    <tr>\n",
       "      <th>2</th>\n",
       "      <td>2021-12-06</td>\n",
       "      <td>Monday</td>\n",
       "    </tr>\n",
       "    <tr>\n",
       "      <th>3</th>\n",
       "      <td>2021-12-07</td>\n",
       "      <td>Tuesday</td>\n",
       "    </tr>\n",
       "    <tr>\n",
       "      <th>4</th>\n",
       "      <td>2021-12-08</td>\n",
       "      <td>Wednesday</td>\n",
       "    </tr>\n",
       "    <tr>\n",
       "      <th>5</th>\n",
       "      <td>2021-12-09</td>\n",
       "      <td>Thursday</td>\n",
       "    </tr>\n",
       "    <tr>\n",
       "      <th>6</th>\n",
       "      <td>2021-12-12</td>\n",
       "      <td>Sunday</td>\n",
       "    </tr>\n",
       "    <tr>\n",
       "      <th>7</th>\n",
       "      <td>2021-12-13</td>\n",
       "      <td>Monday</td>\n",
       "    </tr>\n",
       "    <tr>\n",
       "      <th>8</th>\n",
       "      <td>2021-12-14</td>\n",
       "      <td>Tuesday</td>\n",
       "    </tr>\n",
       "    <tr>\n",
       "      <th>9</th>\n",
       "      <td>2021-12-15</td>\n",
       "      <td>Wednesday</td>\n",
       "    </tr>\n",
       "  </tbody>\n",
       "</table>\n",
       "</div>"
      ],
      "text/plain": [
       "        Date   Day_name\n",
       "0 2021-12-01  Wednesday\n",
       "1 2021-12-05     Sunday\n",
       "2 2021-12-06     Monday\n",
       "3 2021-12-07    Tuesday\n",
       "4 2021-12-08  Wednesday\n",
       "5 2021-12-09   Thursday\n",
       "6 2021-12-12     Sunday\n",
       "7 2021-12-13     Monday\n",
       "8 2021-12-14    Tuesday\n",
       "9 2021-12-15  Wednesday"
      ]
     },
     "execution_count": 245,
     "metadata": {},
     "output_type": "execute_result"
    }
   ],
   "source": [
    "df['Day_name'] = df.Date.dt.day_name()\n",
    "df"
   ]
  },
  {
   "cell_type": "markdown",
   "metadata": {},
   "source": [
    "## How it Works\n",
    "\n",
    "This recipe builds on the Working with date offsets recipe but focuses on customizing\n",
    "offsets. pandas provides several offsets that can take a custom calendar, holiday, and\n",
    "weekmask. These include the following:\n",
    "\n",
    "* CustomBusinessDay or Cday\n",
    "* CustomBusinessMonthEnd or CBMonthEnd\n",
    "* CustomBusinessMonthBegin or CBMonthBegin\n",
    "* CustomBusinessHour\n",
    "\n",
    "They behave like any other offset; the only difference is that they allow you to create your\n",
    "own rules."
   ]
  },
  {
   "cell_type": "markdown",
   "metadata": {},
   "source": [
    "### Custom Business Hours"
   ]
  },
  {
   "cell_type": "markdown",
   "metadata": {},
   "source": [
    "Let's extend the previous example and add custom business hours to the DataFrame.\n",
    "This will be another custom offset that you can use in a similar way to Cday:"
   ]
  },
  {
   "cell_type": "code",
   "execution_count": 246,
   "metadata": {},
   "outputs": [
    {
     "data": {
      "text/plain": [
       "<BusinessHour: BH=09:00-17:00>"
      ]
     },
     "execution_count": 246,
     "metadata": {},
     "output_type": "execute_result"
    }
   ],
   "source": [
    "b_hours = pd.offsets.BusinessHour()\n",
    "b_hours"
   ]
  },
  {
   "cell_type": "code",
   "execution_count": 247,
   "metadata": {},
   "outputs": [],
   "source": [
    "cust_hours = pd.offsets.CustomBusinessHour(\n",
    "    start=\"8:30\",\n",
    "    end=\"15:30\",\n",
    "    holidays=nationalDay,\n",
    "    weekmask=dubai_uae_workdays)"
   ]
  },
  {
   "cell_type": "code",
   "execution_count": 248,
   "metadata": {},
   "outputs": [],
   "source": [
    "df['Date'] =\\\n",
    "      df['Date'].dt.tz_localize('UTC').dt.tz_convert('Asia/Dubai')"
   ]
  },
  {
   "cell_type": "code",
   "execution_count": 249,
   "metadata": {},
   "outputs": [
    {
     "data": {
      "text/html": [
       "<div>\n",
       "<style scoped>\n",
       "    .dataframe tbody tr th:only-of-type {\n",
       "        vertical-align: middle;\n",
       "    }\n",
       "\n",
       "    .dataframe tbody tr th {\n",
       "        vertical-align: top;\n",
       "    }\n",
       "\n",
       "    .dataframe thead th {\n",
       "        text-align: right;\n",
       "    }\n",
       "</style>\n",
       "<table border=\"1\" class=\"dataframe\">\n",
       "  <thead>\n",
       "    <tr style=\"text-align: right;\">\n",
       "      <th></th>\n",
       "      <th>Date</th>\n",
       "      <th>Day_name</th>\n",
       "    </tr>\n",
       "  </thead>\n",
       "  <tbody>\n",
       "    <tr>\n",
       "      <th>0</th>\n",
       "      <td>2021-12-01 04:00:00+04:00</td>\n",
       "      <td>Wednesday</td>\n",
       "    </tr>\n",
       "    <tr>\n",
       "      <th>1</th>\n",
       "      <td>2021-12-05 04:00:00+04:00</td>\n",
       "      <td>Sunday</td>\n",
       "    </tr>\n",
       "    <tr>\n",
       "      <th>2</th>\n",
       "      <td>2021-12-06 04:00:00+04:00</td>\n",
       "      <td>Monday</td>\n",
       "    </tr>\n",
       "    <tr>\n",
       "      <th>3</th>\n",
       "      <td>2021-12-07 04:00:00+04:00</td>\n",
       "      <td>Tuesday</td>\n",
       "    </tr>\n",
       "    <tr>\n",
       "      <th>4</th>\n",
       "      <td>2021-12-08 04:00:00+04:00</td>\n",
       "      <td>Wednesday</td>\n",
       "    </tr>\n",
       "    <tr>\n",
       "      <th>5</th>\n",
       "      <td>2021-12-09 04:00:00+04:00</td>\n",
       "      <td>Thursday</td>\n",
       "    </tr>\n",
       "    <tr>\n",
       "      <th>6</th>\n",
       "      <td>2021-12-12 04:00:00+04:00</td>\n",
       "      <td>Sunday</td>\n",
       "    </tr>\n",
       "    <tr>\n",
       "      <th>7</th>\n",
       "      <td>2021-12-13 04:00:00+04:00</td>\n",
       "      <td>Monday</td>\n",
       "    </tr>\n",
       "    <tr>\n",
       "      <th>8</th>\n",
       "      <td>2021-12-14 04:00:00+04:00</td>\n",
       "      <td>Tuesday</td>\n",
       "    </tr>\n",
       "    <tr>\n",
       "      <th>9</th>\n",
       "      <td>2021-12-15 04:00:00+04:00</td>\n",
       "      <td>Wednesday</td>\n",
       "    </tr>\n",
       "  </tbody>\n",
       "</table>\n",
       "</div>"
      ],
      "text/plain": [
       "                       Date   Day_name\n",
       "0 2021-12-01 04:00:00+04:00  Wednesday\n",
       "1 2021-12-05 04:00:00+04:00     Sunday\n",
       "2 2021-12-06 04:00:00+04:00     Monday\n",
       "3 2021-12-07 04:00:00+04:00    Tuesday\n",
       "4 2021-12-08 04:00:00+04:00  Wednesday\n",
       "5 2021-12-09 04:00:00+04:00   Thursday\n",
       "6 2021-12-12 04:00:00+04:00     Sunday\n",
       "7 2021-12-13 04:00:00+04:00     Monday\n",
       "8 2021-12-14 04:00:00+04:00    Tuesday\n",
       "9 2021-12-15 04:00:00+04:00  Wednesday"
      ]
     },
     "execution_count": 249,
     "metadata": {},
     "output_type": "execute_result"
    }
   ],
   "source": [
    "df"
   ]
  },
  {
   "cell_type": "code",
   "execution_count": 250,
   "metadata": {},
   "outputs": [
    {
     "data": {
      "text/plain": [
       "0   2021-12-06 10:30:00+04:00\n",
       "1   2021-12-07 10:30:00+04:00\n",
       "2   2021-12-08 10:30:00+04:00\n",
       "3   2021-12-09 10:30:00+04:00\n",
       "4   2021-12-12 10:30:00+04:00\n",
       "5   2021-12-13 10:30:00+04:00\n",
       "6   2021-12-14 10:30:00+04:00\n",
       "7   2021-12-15 10:30:00+04:00\n",
       "8   2021-12-16 10:30:00+04:00\n",
       "9   2021-12-19 10:30:00+04:00\n",
       "Name: Date, dtype: datetime64[ns, Asia/Dubai]"
      ]
     },
     "execution_count": 250,
     "metadata": {},
     "output_type": "execute_result"
    }
   ],
   "source": [
    "df['Date'] + cust_hours*16 #Try changing values for better understanding"
   ]
  }
 ],
 "metadata": {
  "kernelspec": {
   "display_name": "Python 3 (ipykernel)",
   "language": "python",
   "name": "python3"
  },
  "language_info": {
   "codemirror_mode": {
    "name": "ipython",
    "version": 3
   },
   "file_extension": ".py",
   "mimetype": "text/x-python",
   "name": "python",
   "nbconvert_exporter": "python",
   "pygments_lexer": "ipython3",
   "version": "3.9.12"
  }
 },
 "nbformat": 4,
 "nbformat_minor": 2
}
